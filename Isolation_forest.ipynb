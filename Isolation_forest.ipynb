{
 "cells": [
  {
   "cell_type": "markdown",
   "id": "9bcbd34f",
   "metadata": {},
   "source": [
    "# Isolation forest Model \n",
    "## Import Necessary Packages"
   ]
  },
  {
   "cell_type": "code",
   "execution_count": 1,
   "id": "6330af58",
   "metadata": {},
   "outputs": [],
   "source": [
    "import pandas as pd\n",
    "from sklearn.ensemble import IsolationForest\n",
    "from sklearn.preprocessing import MinMaxScaler\n",
    "from textblob import TextBlob\n",
    "import re\n",
    "import sys"
   ]
  },
  {
   "cell_type": "markdown",
   "id": "84cce038",
   "metadata": {},
   "source": [
    "### Importing our processed dataset and preparing for model "
   ]
  },
  {
   "cell_type": "code",
   "execution_count": 2,
   "id": "9914dedb",
   "metadata": {},
   "outputs": [],
   "source": [
    "df = pd.read_csv('final-dataset.csv')\n",
    "\n",
    "# Define the features to be used in the model\n",
    "features = [\n",
    "    'rating',\n",
    "    'text_len',\n",
    "    'rating_deviation',\n",
    "    'sentiment_polarity',\n",
    "    'sentiment_subjectivity',\n",
    "    'excessive_exclaim',\n",
    "    'avg_rating',\n",
    "    'log_num_reviews',\n",
    "    'price_encoded',\n",
    "    'year',\n",
    "    'month',\n",
    "    'weekday',\n",
    "    'hour',\n",
    "    'cat_American restaurant',\n",
    "    'cat_Coffee shop',\n",
    "    'cat_Department store',\n",
    "    'cat_Fast food restaurant',\n",
    "    'cat_Grocery store',\n",
    "    'cat_Hotel',\n",
    "    'cat_Mexican restaurant',\n",
    "    'cat_Other',\n",
    "    'cat_Pizza restaurant',\n",
    "    'cat_Restaurant',\n",
    "    'cat_Shopping mall'\n",
    "]\n",
    "\n",
    "# Check if all required features exist in the DataFrame\n",
    "missing_features = [f for f in features if f not in df.columns]\n",
    "if missing_features:\n",
    "    print(f\"Error: Missing required features in the dataset: {missing_features}\")\n",
    "    print(\"Please ensure your 'final-dataset.csv' contains these columns.\")\n",
    "    features = [f for f in features if f in df.columns]  # Proceed with available\n",
    "    if not features:\n",
    "        print(\"No valid features remaining. Exiting.\")\n",
    "        sys.exit(1)\n",
    "    else:\n",
    "        print(f\"Proceeding with available features: {features}\")\n",
    "\n",
    "# Use a temporary DataFrame for scaling to avoid modifying the original\n",
    "X = df[features].copy()\n",
    "\n",
    "# Handle potential NaNs in features (fill with mean)\n",
    "for col in features:\n",
    "    if X[col].isnull().any():\n",
    "        X[col] = X[col].fillna(X[col].mean())\n",
    "        print(f\"Filled NaN values in '{col}' with its mean.\")"
   ]
  },
  {
   "cell_type": "markdown",
   "id": "e077e1af",
   "metadata": {},
   "source": [
    "### Data preprocessing\n",
    "Scale the features. This is crucial for models that rely on distance, and good practice for Isolation Forest."
   ]
  },
  {
   "cell_type": "code",
   "execution_count": 3,
   "id": "a5ec4c6f",
   "metadata": {},
   "outputs": [],
   "source": [
    "scaler = MinMaxScaler()\n",
    "X_scaled = scaler.fit_transform(X)"
   ]
  },
  {
   "cell_type": "markdown",
   "id": "e0cb64eb",
   "metadata": {},
   "source": [
    "### Building the Isolation Forest model \n"
   ]
  },
  {
   "cell_type": "code",
   "execution_count": 4,
   "id": "adb63ad2-087f-4563-b681-5db7f0758014",
   "metadata": {},
   "outputs": [],
   "source": [
    "# Initialize the Isolation Forest model\n",
    "# 'contamination' is a hyperparameter that can be tuned.\n",
    "model = IsolationForest(contamination=0.05, random_state=42)\n",
    "\n",
    "# Fit the model and get the predictions.\n",
    "# A prediction of -1 indicates an outlier, and 1 indicates an inlier.\n",
    "df['is_outlier'] = model.fit_predict(X_scaled)\n",
    "\n",
    "# Get the anomaly score. The lower the score, the more anomalous the point.\n",
    "df['anomaly_score'] = model.decision_function(X_scaled)"
   ]
  },
  {
   "cell_type": "markdown",
   "id": "44c48e44",
   "metadata": {},
   "source": [
    "### Save the output as a csv"
   ]
  },
  {
   "cell_type": "code",
   "execution_count": 5,
   "id": "b5cffddc",
   "metadata": {},
   "outputs": [],
   "source": [
    "df.to_csv('final_dataset_with_scores.csv', index=False)"
   ]
  }
 ],
 "metadata": {
  "kernelspec": {
   "display_name": "Python 3 (ipykernel)",
   "language": "python",
   "name": "python3"
  },
  "language_info": {
   "codemirror_mode": {
    "name": "ipython",
    "version": 3
   },
   "file_extension": ".py",
   "mimetype": "text/x-python",
   "name": "python",
   "nbconvert_exporter": "python",
   "pygments_lexer": "ipython3",
   "version": "3.13.5"
  }
 },
 "nbformat": 4,
 "nbformat_minor": 5
}
