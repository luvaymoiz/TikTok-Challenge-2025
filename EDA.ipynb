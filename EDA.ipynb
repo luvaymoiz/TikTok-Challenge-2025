{
 "cells": [
  {
   "cell_type": "markdown",
   "id": "57e8e6ae",
   "metadata": {},
   "source": [
    "# Preprocessing of data \n",
    " "
   ]
  },
  {
   "cell_type": "markdown",
   "metadata": {},
   "source": [
    "## Install and Import Necessary Packages"
   ]
  },
  {
   "cell_type": "code",
   "execution_count": 241,
   "id": "c938be58",
   "metadata": {},
   "outputs": [],
   "source": [
    "# pip install pandas numpy scikit-learn textblob\n",
    "# !pip install sentence-transformers torch torchvision\n",
    "#!pip install matplotlib seaborn"
   ]
  },
  {
   "cell_type": "code",
   "execution_count": 242,
   "metadata": {},
   "outputs": [],
   "source": [
    "import pandas as pd\n",
    "import random\n",
    "import gzip, json\n",
    "import numpy as np\n",
    "from textblob import TextBlob\n",
    "from sklearn.feature_extraction.text import TfidfVectorizer\n",
    "from sklearn.decomposition import TruncatedSVD\n",
    "import re\n",
    "from sentence_transformers import SentenceTransformer\n",
    "import torch\n",
    "import matplotlib.pyplot as plt\n",
    "import seaborn as sns\n",
    "\n"
   ]
  },
  {
   "cell_type": "markdown",
   "id": "99135ded",
   "metadata": {},
   "source": [
    "## Building our Dataframe\n",
    "#### Our dataset is based on the [Google Local Dataset](https://mcauleylab.ucsd.edu/public_datasets/gdrive/googlelocal/) provided by McAuley's Lab at UC San Diego."
   ]
  },
  {
   "cell_type": "markdown",
   "id": "308004ef",
   "metadata": {},
   "source": [
    "#### Define function for loading & parsing of json source files and function for random sampling of data sources\n",
    "To ensure reproducibility of results across runs, we used a fixed `seed` value in the sampling process."
   ]
  },
  {
   "cell_type": "code",
   "execution_count": 243,
   "metadata": {},
   "outputs": [],
   "source": [
    "def parse(path):\n",
    "    with gzip.open(path, 'r') as g:\n",
    "        for l in g:\n",
    "            yield json.loads(l)\n",
    "\n",
    "\n",
    "def reservoir_sample_jsonl_gz(path, k, seed=42): #seed value ensures our random sampling results are reproducible\n",
    "    rng = random.Random(seed)\n",
    "    R = []  # reservoir\n",
    "    for i, rec in enumerate(parse(path), 1):\n",
    "        if i <= k:\n",
    "            R.append(rec)\n",
    "        else:\n",
    "            j = rng.randint(1, i)\n",
    "            if j <= k:\n",
    "                R[j-1] = rec\n",
    "    return R"
   ]
  },
  {
   "cell_type": "markdown",
   "id": "f6bcae29",
   "metadata": {},
   "source": [
    "#### Loading of source files \n",
    "To build a manageable and balanced subset, we selected the **10 U.S. states with the lowest total number of reviews**. This approach ensures we retain sufficient diversity while avoiding states that may dominate the dataset due to disproportionately high review volume.\n",
    "\n",
    "For each of these states, we used the **10-core version** of the reviews and the **full business metadata files**."
   ]
  },
  {
   "cell_type": "code",
   "execution_count": 244,
   "metadata": {},
   "outputs": [],
   "source": [
    "meta_files = [\n",
    "    \"meta-Alaska.json.gz\",\n",
    "    \"meta-Delaware.json.gz\",\n",
    "    \"meta-District_of_Columbia.json.gz\",\n",
    "    \"meta-Montana.json.gz\",\n",
    "    \"meta-South_Dakota.json.gz\",\n",
    "    \"meta-Vermont.json.gz\",\n",
    "    \"meta-Wyoming.json.gz\",\n",
    "    \"meta-Rhode_Island.json.gz\",\n",
    "    \"meta-North_Dakota.json.gz\",\n",
    "    \"meta-West_Virginia.json.gz\",\n",
    "]\n",
    "\n",
    "review_files = [\n",
    "    \"review-Alaska_10.json.gz\",\n",
    "    \"review-Delaware_10.json.gz\",\n",
    "    \"review-District_of_Columbia_10.json.gz\",\n",
    "    \"review-Montana_10.json.gz\",\n",
    "    \"review-South_Dakota_10.json.gz\",\n",
    "    \"review-Vermont_10.json.gz\",\n",
    "    \"review-Wyoming_10.json.gz\",\n",
    "    \"review-Rhode_Island_10.json.gz\",\n",
    "    \"review-North_Dakota_10.json.gz\",\n",
    "    \"review-West_Virginia_10.json.gz\",\n",
    "]"
   ]
  },
  {
   "cell_type": "markdown",
   "id": "b414a79a",
   "metadata": {},
   "source": [
    "#### Linking Reviews to Business Metadata via `gmap_id`\n",
    "\n",
    "From each state's 10-core reviews file, we randomly sampled 5,000 reviews, yielding a total of 50,000 reviews across all selected states. \n",
    "\n",
    "We chose to sample reviews randomly in order to capture a diverse and representative subset of user opinions. This helps prevent bias that may arise from selecting only the earliest or latest entries, which could overrepresent certain user behaviours, ratings, or business types. Random sampling also ensures a good distribution of review lengths, sentiments, and categories, which is essential for training generalizable spam classification models while keeping the dataset size computationally manageable.\n",
    "\n",
    "We then mapped each review to its corresponding business metadata using the shared key `gmap_id`, which uniquely identifies each business."
   ]
  },
  {
   "cell_type": "code",
   "execution_count": 245,
   "metadata": {},
   "outputs": [
    {
     "name": "stdout",
     "output_type": "stream",
     "text": [
      "review-Alaska_10.json.gz: sampled 5000\n",
      "review-Delaware_10.json.gz: sampled 5000\n",
      "review-District_of_Columbia_10.json.gz: sampled 5000\n",
      "review-Montana_10.json.gz: sampled 5000\n",
      "review-South_Dakota_10.json.gz: sampled 5000\n",
      "review-Vermont_10.json.gz: sampled 5000\n",
      "review-Wyoming_10.json.gz: sampled 5000\n",
      "review-Rhode_Island_10.json.gz: sampled 5000\n",
      "review-North_Dakota_10.json.gz: sampled 5000\n",
      "review-West_Virginia_10.json.gz: sampled 5000\n",
      "Collected reviews: 50000\n",
      "                 user_id   name_review_user           time  rating  \\\n",
      "0  108058074716948776283      Qiana Coleman  1539488755496       4   \n",
      "1  104949021026115642355  Marina Harrington  1545440310213       5   \n",
      "2  107813727678662505612       Felicia Wall  1575939675467       5   \n",
      "3  103473424444871906765       Garry Hanley  1602702499311       5   \n",
      "4  104393976961042472712    Nathan Harrison  1559438084515       4   \n",
      "\n",
      "                                                text  pics  resp  \\\n",
      "0                                               None  None  None   \n",
      "1                                               None  None  None   \n",
      "2              Coffee is great and so is the service  None  None   \n",
      "3  Easy in and out experience.  Reasonable pricin...  None  None   \n",
      "4  Great lunch, service could be better as there ...  None  None   \n",
      "\n",
      "                                 gmap_id  \n",
      "0  0x56c897d4e9ac007f:0x1cbb3cff83d5e64b  \n",
      "1  0x56c8eb6e0f938ebf:0x7da5bf485f8a1e71  \n",
      "2  0x56c67c7da439c267:0x72f12aacd98f7f2e  \n",
      "3  0x56c899de8ee5d2a5:0xb15f3c48a1dc94f0  \n",
      "4  0x56c894263c293e31:0x39aa7cb841273597  \n"
     ]
    }
   ],
   "source": [
    "K_PER_FILE = 5000\n",
    "OUT_CSV = \"reviews_with_meta_perfile5000.csv\"\n",
    "OUT_PARQUET = \"reviews_with_meta_perfile5000.parquet\"\n",
    "\n",
    "# sampling 2000 rows per file\n",
    "review_rows = []\n",
    "for idx, f in enumerate(review_files):\n",
    "    sampled = reservoir_sample_jsonl_gz(f, K_PER_FILE, seed=42 + idx)\n",
    "    print(f\"{f}: sampled {len(sampled)}\")\n",
    "\n",
    "    for rec in sampled:\n",
    "        review_rows.append({\n",
    "            \"user_id\": rec.get(\"user_id\"),\n",
    "            \"name_review_user\": rec.get(\"name\"),\n",
    "            \"time\": rec.get(\"time\"),\n",
    "            \"rating\": rec.get(\"rating\"),\n",
    "            \"text\": rec.get(\"text\"),\n",
    "            \"pics\": rec.get(\"pics\"),\n",
    "            \"resp\": rec.get(\"resp\"),\n",
    "            \"gmap_id\": rec.get(\"gmap_id\"),\n",
    "        })\n",
    "\n",
    "df_reviews = pd.DataFrame(review_rows)\n",
    "print(\"Collected reviews:\", len(df_reviews))\n",
    "print(df_reviews.head())\n",
    "\n"
   ]
  },
  {
   "cell_type": "code",
   "execution_count": 246,
   "metadata": {},
   "outputs": [
    {
     "name": "stdout",
     "output_type": "stream",
     "text": [
      "Collected meta rows: 149325\n",
      "Joined rows: 50000\n",
      "                 user_id   name_review_user           time  rating  \\\n",
      "0  108058074716948776283      Qiana Coleman  1539488755496       4   \n",
      "1  104949021026115642355  Marina Harrington  1545440310213       5   \n",
      "2  107813727678662505612       Felicia Wall  1575939675467       5   \n",
      "3  103473424444871906765       Garry Hanley  1602702499311       5   \n",
      "4  104393976961042472712    Nathan Harrison  1559438084515       4   \n",
      "\n",
      "                                                text  pics  resp  \\\n",
      "0                                               None  None  None   \n",
      "1                                               None  None  None   \n",
      "2              Coffee is great and so is the service  None  None   \n",
      "3  Easy in and out experience.  Reasonable pricin...  None  None   \n",
      "4  Great lunch, service could be better as there ...  None  None   \n",
      "\n",
      "                                 gmap_id                               name  \\\n",
      "0  0x56c897d4e9ac007f:0x1cbb3cff83d5e64b        Fire Island Rustic Bakeshop   \n",
      "1  0x56c8eb6e0f938ebf:0x7da5bf485f8a1e71  Jitters... Where Coffee Is An Art   \n",
      "2  0x56c67c7da439c267:0x72f12aacd98f7f2e              Coffee Express Lounge   \n",
      "3  0x56c899de8ee5d2a5:0xb15f3c48a1dc94f0              UMV - South Anchorage   \n",
      "4  0x56c894263c293e31:0x39aa7cb841273597          Firetap Alehouse Tikahtnu   \n",
      "\n",
      "                                             address  ...   longitude  \\\n",
      "0  Fire Island Rustic Bakeshop, 1343 G St, Anchor...  ... -149.895277   \n",
      "1  Jitters... Where Coffee Is An Art, 11401 Old G...  ... -149.569558   \n",
      "2  Coffee Express Lounge, 12498 Kenai Spur Hwy, K...  ... -151.285291   \n",
      "3  UMV - South Anchorage, 9138 Arlon St Suite A5,...  ... -149.836917   \n",
      "4  Firetap Alehouse Tikahtnu, 1148 N Muldoon Rd C...  ... -149.741000   \n",
      "\n",
      "                                            category  avg_rating  \\\n",
      "0              [Bakery, Dessert shop, Sandwich shop]         4.7   \n",
      "1  [Coffee shop, Bakery, Breakfast restaurant, Cafe]         4.5   \n",
      "2                                             [Cafe]         4.6   \n",
      "3  [Department of motor vehicles, Auto tag agency...         4.2   \n",
      "4  [Restaurant, Brewpub, Pizza restaurant, Sports...         3.9   \n",
      "\n",
      "  num_of_reviews  price                                              hours  \\\n",
      "0            547     $$  [[Monday, Closed], [Tuesday, Closed], [Wednesd...   \n",
      "1            508     $$  [[Saturday, 6AM–5PM], [Sunday, 7AM–5PM], [Mond...   \n",
      "2             72   None  [[Sunday, 8AM–3PM], [Monday, Closed], [Tuesday...   \n",
      "3            114   None  [[Friday, 9AM–5:30PM], [Saturday, Closed], [Su...   \n",
      "4            648     $$  [[Wednesday, 4–9PM], [Thursday, 4–9PM], [Frida...   \n",
      "\n",
      "                                                MISC               state  \\\n",
      "0  {'From the business': ['Identifies as women-le...                 NaN   \n",
      "1  {'Service options': ['Curbside pickup', 'No-co...                 NaN   \n",
      "2  {'Service options': ['Takeout', 'Delivery'], '...   Open ⋅ Closes 3PM   \n",
      "3  {'Accessibility': ['Wheelchair accessible entr...  Closed ⋅ Opens 9AM   \n",
      "4  {'Service options': ['Delivery', 'Takeout', 'D...                 NaN   \n",
      "\n",
      "                                    relative_results  \\\n",
      "0  [0x56c8bd876aafa817:0x2a51e3e5cb72ef9f, 0x56c8...   \n",
      "1  [0x56c8eb71ff557dbd:0x18fedd5c0a6b6e2a, 0x56c8...   \n",
      "2  [0x56c67c9c12dac155:0x881032a0775b708, 0x56c66...   \n",
      "3  [0x56c89628326d1fef:0x5629d88f85002932, 0x56c8...   \n",
      "4  [0x56c89428e066efd1:0xd2c5f782ad20cdd4, 0x56c8...   \n",
      "\n",
      "                                                 url  \n",
      "0  https://www.google.com/maps/place//data=!4m2!3...  \n",
      "1  https://www.google.com/maps/place//data=!4m2!3...  \n",
      "2  https://www.google.com/maps/place//data=!4m2!3...  \n",
      "3  https://www.google.com/maps/place//data=!4m2!3...  \n",
      "4  https://www.google.com/maps/place//data=!4m2!3...  \n",
      "\n",
      "[5 rows x 22 columns]\n"
     ]
    }
   ],
   "source": [
    "meta_rows = []\n",
    "for f in meta_files:\n",
    "    with gzip.open(f, \"rt\", encoding=\"utf-8\") as g:\n",
    "        for line in g:\n",
    "            if not line.strip():\n",
    "                continue\n",
    "            rec = json.loads(line)\n",
    "            meta_rows.append(rec)\n",
    "\n",
    "df_meta = pd.DataFrame(meta_rows)\n",
    "print(\"Collected meta rows:\", len(df_meta))\n",
    "\n",
    "df_reviews[\"gmap_id\"] = df_reviews[\"gmap_id\"].astype(str)\n",
    "if \"gmap_id\" not in df_meta.columns:\n",
    "    raise KeyError(\"gmap_id not found in meta files\")\n",
    "df_meta[\"gmap_id\"] = df_meta[\"gmap_id\"].astype(str)\n",
    "df_meta = df_meta.drop_duplicates(subset=[\"gmap_id\"])\n",
    "\n",
    "df_joined = df_reviews.merge(df_meta, on=\"gmap_id\", how=\"left\", validate=\"m:1\")\n",
    "print(\"Joined rows:\", len(df_joined))\n",
    "print(df_joined.head())\n",
    "\n"
   ]
  },
  {
   "cell_type": "markdown",
   "metadata": {},
   "source": [
    "### Data Inspection and Cleaning\n",
    "Before performing any modeling, we make a full copy of our joined DataFrame and inspect its structure to ensure the data is clean and usable.\n",
    "We display the first few rows, check the overall shape, and examine the column data types.\n"
   ]
  },
  {
   "cell_type": "code",
   "execution_count": 247,
   "metadata": {},
   "outputs": [
    {
     "name": "stdout",
     "output_type": "stream",
     "text": [
      "\n",
      "=== HEAD ===\n",
      "                 user_id   name_review_user           time  rating  \\\n",
      "0  108058074716948776283      Qiana Coleman  1539488755496       4   \n",
      "1  104949021026115642355  Marina Harrington  1545440310213       5   \n",
      "2  107813727678662505612       Felicia Wall  1575939675467       5   \n",
      "\n",
      "                                    text  pics  resp  \\\n",
      "0                                   None  None  None   \n",
      "1                                   None  None  None   \n",
      "2  Coffee is great and so is the service  None  None   \n",
      "\n",
      "                                 gmap_id                               name  \\\n",
      "0  0x56c897d4e9ac007f:0x1cbb3cff83d5e64b        Fire Island Rustic Bakeshop   \n",
      "1  0x56c8eb6e0f938ebf:0x7da5bf485f8a1e71  Jitters... Where Coffee Is An Art   \n",
      "2  0x56c67c7da439c267:0x72f12aacd98f7f2e              Coffee Express Lounge   \n",
      "\n",
      "                                             address  ...   longitude  \\\n",
      "0  Fire Island Rustic Bakeshop, 1343 G St, Anchor...  ... -149.895277   \n",
      "1  Jitters... Where Coffee Is An Art, 11401 Old G...  ... -149.569558   \n",
      "2  Coffee Express Lounge, 12498 Kenai Spur Hwy, K...  ... -151.285291   \n",
      "\n",
      "                                            category  avg_rating  \\\n",
      "0              [Bakery, Dessert shop, Sandwich shop]         4.7   \n",
      "1  [Coffee shop, Bakery, Breakfast restaurant, Cafe]         4.5   \n",
      "2                                             [Cafe]         4.6   \n",
      "\n",
      "  num_of_reviews  price                                              hours  \\\n",
      "0            547     $$  [[Monday, Closed], [Tuesday, Closed], [Wednesd...   \n",
      "1            508     $$  [[Saturday, 6AM–5PM], [Sunday, 7AM–5PM], [Mond...   \n",
      "2             72   None  [[Sunday, 8AM–3PM], [Monday, Closed], [Tuesday...   \n",
      "\n",
      "                                                MISC              state  \\\n",
      "0  {'From the business': ['Identifies as women-le...                NaN   \n",
      "1  {'Service options': ['Curbside pickup', 'No-co...                NaN   \n",
      "2  {'Service options': ['Takeout', 'Delivery'], '...  Open ⋅ Closes 3PM   \n",
      "\n",
      "                                    relative_results  \\\n",
      "0  [0x56c8bd876aafa817:0x2a51e3e5cb72ef9f, 0x56c8...   \n",
      "1  [0x56c8eb71ff557dbd:0x18fedd5c0a6b6e2a, 0x56c8...   \n",
      "2  [0x56c67c9c12dac155:0x881032a0775b708, 0x56c66...   \n",
      "\n",
      "                                                 url  \n",
      "0  https://www.google.com/maps/place//data=!4m2!3...  \n",
      "1  https://www.google.com/maps/place//data=!4m2!3...  \n",
      "2  https://www.google.com/maps/place//data=!4m2!3...  \n",
      "\n",
      "[3 rows x 22 columns]\n",
      "\n",
      "=== SHAPE === (50000, 22)\n",
      "\n",
      "=== COLUMNS & DTYPES ===\n",
      "user_id              object\n",
      "name_review_user     object\n",
      "time                  int64\n",
      "rating                int64\n",
      "text                 object\n",
      "pics                 object\n",
      "resp                 object\n",
      "gmap_id              object\n",
      "name                 object\n",
      "address              object\n",
      "description          object\n",
      "latitude            float64\n",
      "longitude           float64\n",
      "category             object\n",
      "avg_rating          float64\n",
      "num_of_reviews        int64\n",
      "price                object\n",
      "hours                object\n",
      "MISC                 object\n",
      "state                object\n",
      "relative_results     object\n",
      "url                  object\n",
      "dtype: object\n"
     ]
    }
   ],
   "source": [
    "df = df_joined.copy()\n",
    "\n",
    "print(\"\\n=== HEAD ===\")\n",
    "print(df.head(3))\n",
    "print(\"\\n=== SHAPE ===\", df.shape)\n",
    "print(\"\\n=== COLUMNS & DTYPES ===\")\n",
    "print(df.dtypes)\n"
   ]
  },
  {
   "cell_type": "markdown",
   "id": "ddc3f41b",
   "metadata": {},
   "source": [
    "#### Null Value Analysis\n",
    "To ensure data quality for downstream tasks, especially NLP, we inspect the dataset for missing values. \n",
    "Reviews lacking text are considered unusable, as they cannot be processed by language models. Identifying and removing such entries is a necessary step before training our NLP system.\n",
    "\n"
   ]
  },
  {
   "cell_type": "code",
   "execution_count": 248,
   "metadata": {},
   "outputs": [
    {
     "name": "stdout",
     "output_type": "stream",
     "text": [
      "\n",
      "=== NULL COUNTS ===\n",
      "pics                48582\n",
      "resp                45039\n",
      "text                23378\n",
      "description         22294\n",
      "price               22026\n",
      "state               21440\n",
      "hours                5441\n",
      "MISC                 2426\n",
      "relative_results     2096\n",
      "address                26\n",
      "category                9\n",
      "user_id                 0\n",
      "avg_rating              0\n",
      "num_of_reviews          0\n",
      "latitude                0\n",
      "longitude               0\n",
      "name_review_user        0\n",
      "name                    0\n",
      "gmap_id                 0\n",
      "rating                  0\n",
      "time                    0\n",
      "url                     0\n",
      "dtype: int64\n"
     ]
    }
   ],
   "source": [
    "null_counts = df.isna().sum().sort_values(ascending=False)\n",
    "print(\"\\n=== NULL COUNTS ===\")\n",
    "print(null_counts.head(22))"
   ]
  },
  {
   "cell_type": "markdown",
   "id": "e879ae28",
   "metadata": {},
   "source": [
    "We drop unusable rows with no `text` data and recheck null counts to confirm data cleanliness."
   ]
  },
  {
   "cell_type": "code",
   "execution_count": 249,
   "metadata": {},
   "outputs": [
    {
     "name": "stdout",
     "output_type": "stream",
     "text": [
      "\n",
      "=== NULL COUNTS ===\n",
      "pics                25346\n",
      "resp                23559\n",
      "description         12050\n",
      "price               11875\n",
      "state               11139\n",
      "hours                2959\n",
      "MISC                 1497\n",
      "relative_results     1325\n",
      "address                15\n",
      "category                6\n",
      "user_id                 0\n",
      "num_of_reviews          0\n",
      "avg_rating              0\n",
      "latitude                0\n",
      "longitude               0\n",
      "name_review_user        0\n",
      "name                    0\n",
      "gmap_id                 0\n",
      "text                    0\n",
      "rating                  0\n",
      "time                    0\n",
      "url                     0\n",
      "dtype: int64\n"
     ]
    }
   ],
   "source": [
    "df = df.dropna(subset=[\"text\"])\n",
    "null_counts = df.isna().sum().sort_values(ascending=False)\n",
    "print(\"\\n=== NULL COUNTS ===\")\n",
    "print(null_counts.head(22))"
   ]
  },
  {
   "cell_type": "markdown",
   "id": "3234f3c6",
   "metadata": {},
   "source": [
    "#### Dropping of Unnecessary Data Columns\n",
    "Since our project aims to classify reviews as spam or not spam, there are several columns in the dataset that are not relevant to this task and can be safely dropped.\n",
    "\n",
    "These columns may contain unstructured, inconsistent, or non-informative data (e.g., image links, HTML metadata, or duplicate information) that do not contribute meaningfully to the ML models we plan to run.\n",
    "\n",
    "The following columns were dropped:\n",
    "- `description`, `name`: unstructured or redundant with `category`  \n",
    "- `hours`, `MISC`, `relative_results`: inconsistent metadata formats with high null counts  \n",
    "- `url`, `pics`: irrelevant for spam detection; mostly UI/display-related  \n",
    "- `address`: redundant with `latitude` and `longitude`  \n",
    "- `resp`: low coverage (~11.5%); only relevant for owner response analysis   "
   ]
  },
  {
   "cell_type": "code",
   "execution_count": 250,
   "metadata": {},
   "outputs": [
    {
     "name": "stdout",
     "output_type": "stream",
     "text": [
      "<class 'pandas.core.frame.DataFrame'>\n",
      "Index: 26622 entries, 2 to 49999\n",
      "Data columns (total 13 columns):\n",
      " #   Column            Non-Null Count  Dtype  \n",
      "---  ------            --------------  -----  \n",
      " 0   user_id           26622 non-null  object \n",
      " 1   name_review_user  26622 non-null  object \n",
      " 2   time              26622 non-null  int64  \n",
      " 3   rating            26622 non-null  int64  \n",
      " 4   text              26622 non-null  object \n",
      " 5   gmap_id           26622 non-null  object \n",
      " 6   latitude          26622 non-null  float64\n",
      " 7   longitude         26622 non-null  float64\n",
      " 8   category          26616 non-null  object \n",
      " 9   avg_rating        26622 non-null  float64\n",
      " 10  num_of_reviews    26622 non-null  int64  \n",
      " 11  price             14747 non-null  object \n",
      " 12  state             15483 non-null  object \n",
      "dtypes: float64(3), int64(3), object(7)\n",
      "memory usage: 2.8+ MB\n",
      "None\n"
     ]
    }
   ],
   "source": [
    "cols_to_drop = [\"description\",\n",
    "                \"name\",\n",
    "                \"hours\",\n",
    "                \"MISC\",\n",
    "                \"relative_results\",\n",
    "                \"url\",\n",
    "                \"address\",\n",
    "                \"pics\",\n",
    "                \"resp\",\n",
    "                ]\n",
    "df = df.drop(columns=[c for c in cols_to_drop if c in df.columns])\n",
    "print(df.info())"
   ]
  },
  {
   "cell_type": "markdown",
   "id": "e431eaa9",
   "metadata": {},
   "source": [
    "# Feature Engineering\n",
    "\n",
    "Before proceeding with unsupervised clustering and supervised NLP models, we perform feature engineering to convert raw data into structured, model-ready inputs.\n",
    "\n",
    "This includes:\n",
    "\n",
    "- **Encoding categorical variables**  \n",
    "  Transform fields like `price` and `category` into numerical formats using techniques like ordinal and one-hot encoding.\n",
    "\n",
    "- **Handling missing values**  \n",
    "  Ensure robustness by filling or dropping missing entries where appropriate (e.g., reviews without text, unknown price).\n",
    "\n",
    "- **Creating derived features**  \n",
    "  Introduce new features such as review `text` length, rating deviation from business average, and temporal features (`year`, `month`, `weekday`, etc.) to enhance anomaly detection and modeling quality.\n"
   ]
  },
  {
   "cell_type": "markdown",
   "id": "036b3b96",
   "metadata": {},
   "source": [
    "### One-hot Encoding of `category` (Primary Category Only)\n",
    "\n",
    "To make the `category` column usable for machine learning models, we extract only the **first category** in each list. This simplifies the representation by focusing on the main business type.\n",
    "\n",
    "We then one-hot encode the **top 10 most frequent categories**, and group the remaining ones under `'Other'` to reduce dimensionality and avoid the curse of dimensionality.\n",
    "\n",
    "This process creates binary features like `cat_Cafe`, `cat_Bakery`, etc., which can be directly used as inputs to machine learning models.\n",
    "\n",
    "\n"
   ]
  },
  {
   "cell_type": "code",
   "execution_count": 251,
   "id": "bbd198ea",
   "metadata": {},
   "outputs": [
    {
     "name": "stdout",
     "output_type": "stream",
     "text": [
      "                 user_id name_review_user           time  rating  \\\n",
      "2  107813727678662505612     Felicia Wall  1575939675467       5   \n",
      "3  103473424444871906765     Garry Hanley  1602702499311       5   \n",
      "4  104393976961042472712  Nathan Harrison  1559438084515       4   \n",
      "7  110829207026204377440      Terry Oakes  1578766259352       3   \n",
      "8  108158723955787868825     Lee Petersen  1501725448031       4   \n",
      "\n",
      "                                                text  \\\n",
      "2              Coffee is great and so is the service   \n",
      "3  Easy in and out experience.  Reasonable pricin...   \n",
      "4  Great lunch, service could be better as there ...   \n",
      "7  Small portions and do not give you what the me...   \n",
      "8  Nice gym, what I expect from a Planet Fitness....   \n",
      "\n",
      "                                 gmap_id   latitude   longitude  \\\n",
      "2  0x56c67c7da439c267:0x72f12aacd98f7f2e  60.561418 -151.285291   \n",
      "3  0x56c899de8ee5d2a5:0xb15f3c48a1dc94f0  61.137792 -149.836917   \n",
      "4  0x56c894263c293e31:0x39aa7cb841273597  61.228926 -149.741000   \n",
      "7  0x51325b0542590ed1:0xaba794ec633521ef  64.821774 -147.713617   \n",
      "8  0x51325acaa661fa4d:0xa0cf5a8e5d34cbde  64.835650 -147.742050   \n",
      "\n",
      "                                            category  avg_rating  ...  \\\n",
      "2                                             [Cafe]         4.6  ...   \n",
      "3  [Department of motor vehicles, Auto tag agency...         4.2  ...   \n",
      "4  [Restaurant, Brewpub, Pizza restaurant, Sports...         3.9  ...   \n",
      "7                                       [Restaurant]         4.2  ...   \n",
      "8  [Gym, Fitness center, Personal trainer, Spa an...         4.1  ...   \n",
      "\n",
      "   cat_Coffee shop cat_Department store cat_Fast food restaurant  \\\n",
      "2            False                False                    False   \n",
      "3            False                False                    False   \n",
      "4            False                False                    False   \n",
      "7            False                False                    False   \n",
      "8            False                False                    False   \n",
      "\n",
      "  cat_Grocery store  cat_Hotel  cat_Mexican restaurant  cat_Other  \\\n",
      "2             False      False                   False       True   \n",
      "3             False      False                   False       True   \n",
      "4             False      False                   False      False   \n",
      "7             False      False                   False      False   \n",
      "8             False      False                   False       True   \n",
      "\n",
      "   cat_Pizza restaurant  cat_Restaurant  cat_Shopping mall  \n",
      "2                 False           False              False  \n",
      "3                 False           False              False  \n",
      "4                 False            True              False  \n",
      "7                 False            True              False  \n",
      "8                 False           False              False  \n",
      "\n",
      "[5 rows x 25 columns]\n"
     ]
    }
   ],
   "source": [
    "df['category_main'] = df['category'].apply(lambda x: x[0] if isinstance(x, list) and len(x) > 0 else 'Unknown')\n",
    "\n",
    "top_categories = df['category_main'].value_counts().nlargest(10).index\n",
    "df['category_top'] = df['category_main'].where(df['category_main'].isin(top_categories), 'Other')\n",
    "df = pd.get_dummies(df, columns=['category_top'], prefix='cat')\n",
    "\n",
    "print(df.head())"
   ]
  },
  {
   "cell_type": "markdown",
   "id": "abcd5cf1",
   "metadata": {},
   "source": [
    "#### Ordinal Encoding of `price`\n",
    "The `price` column contains ordinal values represented by symbols (`$`, `$$`, `$$$`, `$$$$`) that indicate increasing price levels.\n",
    "\n",
    "To make this column usable for numerical models, we apply **ordinal encoding**, mapping each symbol to a corresponding integer:\n",
    "- `$` → 1\n",
    "- `$$` → 2\n",
    "- `$$$` → 3\n",
    "- `$$$$` → 4\n",
    "\n",
    "Missing or unknown values are filled with `0`, indicating unavailable price information. This allows the model to treat pricing as a meaningful numerical feature while preserving interpretability."
   ]
  },
  {
   "cell_type": "code",
   "execution_count": 252,
   "id": "c33b2612",
   "metadata": {},
   "outputs": [],
   "source": [
    "price_map = {'$': 1, '$$': 2, '$$$': 3, '$$$$': 4}\n",
    "df['price_encoded'] = df['price'].map(price_map).fillna(0).astype(int)"
   ]
  },
  {
   "cell_type": "markdown",
   "id": "d65589f2",
   "metadata": {},
   "source": [
    "#### Temporal Feature Extraction from `time`\n",
    "\n",
    "The `time` column stores timestamps in UNIX format, which are not directly interpretable.\n",
    "\n",
    "To extract meaningful temporal patterns, we:\n",
    "- Convert `time` into a readable datetime format\n",
    "- Derive features such as:\n",
    "  - `year`, `month`: detect time-based trends or bursts\n",
    "  - `weekday`: distinguish between weekday vs. weekend activity\n",
    "  - `hour`: identify abnormal review times (e.g., late-night spam)"
   ]
  },
  {
   "cell_type": "code",
   "execution_count": 253,
   "id": "18cc8b97",
   "metadata": {},
   "outputs": [],
   "source": [
    "df['time_dt'] = pd.to_datetime(df['time'], unit='ms')\n",
    "df['year'] = df['time_dt'].dt.year\n",
    "df['month'] = df['time_dt'].dt.month\n",
    "df['weekday'] = df['time_dt'].dt.dayofweek\n",
    "df['hour'] = df['time_dt'].dt.hour\n",
    "\n",
    "df.drop(columns='time_dt', inplace=True)"
   ]
  },
  {
   "cell_type": "markdown",
   "id": "d503bf30",
   "metadata": {},
   "source": [
    "#### Text Length Feature\n",
    "\n",
    "We compute the character length of each review using the `text` field to create a new feature, `text_len`.\n",
    "\n",
    "This helps detect outliers such as:\n",
    "- Very short reviews (e.g. single-word spam)\n",
    "- Unusually long reviews (e.g. keyword-stuffed or bot-generated)"
   ]
  },
  {
   "cell_type": "code",
   "execution_count": 254,
   "id": "bbf034f0",
   "metadata": {},
   "outputs": [],
   "source": [
    "df['text_len'] = df['text'].fillna('').apply(len)"
   ]
  },
  {
   "cell_type": "markdown",
   "id": "a5023941",
   "metadata": {},
   "source": [
    "#### Numeric Feature Transformations\n",
    "\n",
    "To normalize skewed numeric distributions and detect outlier behaviours, we apply two transformations:\n",
    "\n",
    "- `log_num_reviews`: Applies a log transform to compress the scale of `num_of_reviews`, to make feature distributions smoother while preserving rank order.\n",
    "- `rating_deviation`: Measures how far a given review's rating deviates from the business's average rating. Large deviations may indicate suspicious or inconsistent review behaviour.\n"
   ]
  },
  {
   "cell_type": "code",
   "execution_count": 255,
   "id": "7686ae8e",
   "metadata": {},
   "outputs": [],
   "source": [
    "df['log_num_reviews'] = np.log1p(df['num_of_reviews'])\n",
    "\n",
    "df['rating_deviation'] = df['rating'] - df['avg_rating']"
   ]
  },
  {
   "cell_type": "code",
   "execution_count": 256,
   "id": "c233f6a2",
   "metadata": {},
   "outputs": [
    {
     "name": "stdout",
     "output_type": "stream",
     "text": [
      "<class 'pandas.core.frame.DataFrame'>\n",
      "Index: 26622 entries, 2 to 49999\n",
      "Data columns (total 33 columns):\n",
      " #   Column                    Non-Null Count  Dtype  \n",
      "---  ------                    --------------  -----  \n",
      " 0   user_id                   26622 non-null  object \n",
      " 1   name_review_user          26622 non-null  object \n",
      " 2   time                      26622 non-null  int64  \n",
      " 3   rating                    26622 non-null  int64  \n",
      " 4   text                      26622 non-null  object \n",
      " 5   gmap_id                   26622 non-null  object \n",
      " 6   latitude                  26622 non-null  float64\n",
      " 7   longitude                 26622 non-null  float64\n",
      " 8   category                  26616 non-null  object \n",
      " 9   avg_rating                26622 non-null  float64\n",
      " 10  num_of_reviews            26622 non-null  int64  \n",
      " 11  price                     14747 non-null  object \n",
      " 12  state                     15483 non-null  object \n",
      " 13  category_main             26622 non-null  object \n",
      " 14  cat_American restaurant   26622 non-null  bool   \n",
      " 15  cat_Coffee shop           26622 non-null  bool   \n",
      " 16  cat_Department store      26622 non-null  bool   \n",
      " 17  cat_Fast food restaurant  26622 non-null  bool   \n",
      " 18  cat_Grocery store         26622 non-null  bool   \n",
      " 19  cat_Hotel                 26622 non-null  bool   \n",
      " 20  cat_Mexican restaurant    26622 non-null  bool   \n",
      " 21  cat_Other                 26622 non-null  bool   \n",
      " 22  cat_Pizza restaurant      26622 non-null  bool   \n",
      " 23  cat_Restaurant            26622 non-null  bool   \n",
      " 24  cat_Shopping mall         26622 non-null  bool   \n",
      " 25  price_encoded             26622 non-null  int64  \n",
      " 26  year                      26622 non-null  int32  \n",
      " 27  month                     26622 non-null  int32  \n",
      " 28  weekday                   26622 non-null  int32  \n",
      " 29  hour                      26622 non-null  int32  \n",
      " 30  text_len                  26622 non-null  int64  \n",
      " 31  log_num_reviews           26622 non-null  float64\n",
      " 32  rating_deviation          26622 non-null  float64\n",
      "dtypes: bool(11), float64(5), int32(4), int64(5), object(8)\n",
      "memory usage: 4.5+ MB\n"
     ]
    },
    {
     "data": {
      "text/html": [
       "<div>\n",
       "<style scoped>\n",
       "    .dataframe tbody tr th:only-of-type {\n",
       "        vertical-align: middle;\n",
       "    }\n",
       "\n",
       "    .dataframe tbody tr th {\n",
       "        vertical-align: top;\n",
       "    }\n",
       "\n",
       "    .dataframe thead th {\n",
       "        text-align: right;\n",
       "    }\n",
       "</style>\n",
       "<table border=\"1\" class=\"dataframe\">\n",
       "  <thead>\n",
       "    <tr style=\"text-align: right;\">\n",
       "      <th></th>\n",
       "      <th>user_id</th>\n",
       "      <th>name_review_user</th>\n",
       "      <th>time</th>\n",
       "      <th>rating</th>\n",
       "      <th>text</th>\n",
       "      <th>gmap_id</th>\n",
       "      <th>latitude</th>\n",
       "      <th>longitude</th>\n",
       "      <th>category</th>\n",
       "      <th>avg_rating</th>\n",
       "      <th>...</th>\n",
       "      <th>cat_Restaurant</th>\n",
       "      <th>cat_Shopping mall</th>\n",
       "      <th>price_encoded</th>\n",
       "      <th>year</th>\n",
       "      <th>month</th>\n",
       "      <th>weekday</th>\n",
       "      <th>hour</th>\n",
       "      <th>text_len</th>\n",
       "      <th>log_num_reviews</th>\n",
       "      <th>rating_deviation</th>\n",
       "    </tr>\n",
       "  </thead>\n",
       "  <tbody>\n",
       "    <tr>\n",
       "      <th>2</th>\n",
       "      <td>107813727678662505612</td>\n",
       "      <td>Felicia Wall</td>\n",
       "      <td>1575939675467</td>\n",
       "      <td>5</td>\n",
       "      <td>Coffee is great and so is the service</td>\n",
       "      <td>0x56c67c7da439c267:0x72f12aacd98f7f2e</td>\n",
       "      <td>60.561418</td>\n",
       "      <td>-151.285291</td>\n",
       "      <td>[Cafe]</td>\n",
       "      <td>4.6</td>\n",
       "      <td>...</td>\n",
       "      <td>False</td>\n",
       "      <td>False</td>\n",
       "      <td>0</td>\n",
       "      <td>2019</td>\n",
       "      <td>12</td>\n",
       "      <td>1</td>\n",
       "      <td>1</td>\n",
       "      <td>37</td>\n",
       "      <td>4.290459</td>\n",
       "      <td>0.4</td>\n",
       "    </tr>\n",
       "    <tr>\n",
       "      <th>3</th>\n",
       "      <td>103473424444871906765</td>\n",
       "      <td>Garry Hanley</td>\n",
       "      <td>1602702499311</td>\n",
       "      <td>5</td>\n",
       "      <td>Easy in and out experience.  Reasonable pricin...</td>\n",
       "      <td>0x56c899de8ee5d2a5:0xb15f3c48a1dc94f0</td>\n",
       "      <td>61.137792</td>\n",
       "      <td>-149.836917</td>\n",
       "      <td>[Department of motor vehicles, Auto tag agency...</td>\n",
       "      <td>4.2</td>\n",
       "      <td>...</td>\n",
       "      <td>False</td>\n",
       "      <td>False</td>\n",
       "      <td>0</td>\n",
       "      <td>2020</td>\n",
       "      <td>10</td>\n",
       "      <td>2</td>\n",
       "      <td>19</td>\n",
       "      <td>109</td>\n",
       "      <td>4.744932</td>\n",
       "      <td>0.8</td>\n",
       "    </tr>\n",
       "    <tr>\n",
       "      <th>4</th>\n",
       "      <td>104393976961042472712</td>\n",
       "      <td>Nathan Harrison</td>\n",
       "      <td>1559438084515</td>\n",
       "      <td>4</td>\n",
       "      <td>Great lunch, service could be better as there ...</td>\n",
       "      <td>0x56c894263c293e31:0x39aa7cb841273597</td>\n",
       "      <td>61.228926</td>\n",
       "      <td>-149.741000</td>\n",
       "      <td>[Restaurant, Brewpub, Pizza restaurant, Sports...</td>\n",
       "      <td>3.9</td>\n",
       "      <td>...</td>\n",
       "      <td>True</td>\n",
       "      <td>False</td>\n",
       "      <td>2</td>\n",
       "      <td>2019</td>\n",
       "      <td>6</td>\n",
       "      <td>6</td>\n",
       "      <td>1</td>\n",
       "      <td>71</td>\n",
       "      <td>6.475433</td>\n",
       "      <td>0.1</td>\n",
       "    </tr>\n",
       "    <tr>\n",
       "      <th>7</th>\n",
       "      <td>110829207026204377440</td>\n",
       "      <td>Terry Oakes</td>\n",
       "      <td>1578766259352</td>\n",
       "      <td>3</td>\n",
       "      <td>Small portions and do not give you what the me...</td>\n",
       "      <td>0x51325b0542590ed1:0xaba794ec633521ef</td>\n",
       "      <td>64.821774</td>\n",
       "      <td>-147.713617</td>\n",
       "      <td>[Restaurant]</td>\n",
       "      <td>4.2</td>\n",
       "      <td>...</td>\n",
       "      <td>True</td>\n",
       "      <td>False</td>\n",
       "      <td>0</td>\n",
       "      <td>2020</td>\n",
       "      <td>1</td>\n",
       "      <td>5</td>\n",
       "      <td>18</td>\n",
       "      <td>55</td>\n",
       "      <td>4.836282</td>\n",
       "      <td>-1.2</td>\n",
       "    </tr>\n",
       "    <tr>\n",
       "      <th>8</th>\n",
       "      <td>108158723955787868825</td>\n",
       "      <td>Lee Petersen</td>\n",
       "      <td>1501725448031</td>\n",
       "      <td>4</td>\n",
       "      <td>Nice gym, what I expect from a Planet Fitness....</td>\n",
       "      <td>0x51325acaa661fa4d:0xa0cf5a8e5d34cbde</td>\n",
       "      <td>64.835650</td>\n",
       "      <td>-147.742050</td>\n",
       "      <td>[Gym, Fitness center, Personal trainer, Spa an...</td>\n",
       "      <td>4.1</td>\n",
       "      <td>...</td>\n",
       "      <td>False</td>\n",
       "      <td>False</td>\n",
       "      <td>0</td>\n",
       "      <td>2017</td>\n",
       "      <td>8</td>\n",
       "      <td>3</td>\n",
       "      <td>1</td>\n",
       "      <td>152</td>\n",
       "      <td>5.342334</td>\n",
       "      <td>-0.1</td>\n",
       "    </tr>\n",
       "  </tbody>\n",
       "</table>\n",
       "<p>5 rows × 33 columns</p>\n",
       "</div>"
      ],
      "text/plain": [
       "                 user_id name_review_user           time  rating  \\\n",
       "2  107813727678662505612     Felicia Wall  1575939675467       5   \n",
       "3  103473424444871906765     Garry Hanley  1602702499311       5   \n",
       "4  104393976961042472712  Nathan Harrison  1559438084515       4   \n",
       "7  110829207026204377440      Terry Oakes  1578766259352       3   \n",
       "8  108158723955787868825     Lee Petersen  1501725448031       4   \n",
       "\n",
       "                                                text  \\\n",
       "2              Coffee is great and so is the service   \n",
       "3  Easy in and out experience.  Reasonable pricin...   \n",
       "4  Great lunch, service could be better as there ...   \n",
       "7  Small portions and do not give you what the me...   \n",
       "8  Nice gym, what I expect from a Planet Fitness....   \n",
       "\n",
       "                                 gmap_id   latitude   longitude  \\\n",
       "2  0x56c67c7da439c267:0x72f12aacd98f7f2e  60.561418 -151.285291   \n",
       "3  0x56c899de8ee5d2a5:0xb15f3c48a1dc94f0  61.137792 -149.836917   \n",
       "4  0x56c894263c293e31:0x39aa7cb841273597  61.228926 -149.741000   \n",
       "7  0x51325b0542590ed1:0xaba794ec633521ef  64.821774 -147.713617   \n",
       "8  0x51325acaa661fa4d:0xa0cf5a8e5d34cbde  64.835650 -147.742050   \n",
       "\n",
       "                                            category  avg_rating  ...  \\\n",
       "2                                             [Cafe]         4.6  ...   \n",
       "3  [Department of motor vehicles, Auto tag agency...         4.2  ...   \n",
       "4  [Restaurant, Brewpub, Pizza restaurant, Sports...         3.9  ...   \n",
       "7                                       [Restaurant]         4.2  ...   \n",
       "8  [Gym, Fitness center, Personal trainer, Spa an...         4.1  ...   \n",
       "\n",
       "   cat_Restaurant cat_Shopping mall price_encoded  year  month  weekday  hour  \\\n",
       "2           False             False             0  2019     12        1     1   \n",
       "3           False             False             0  2020     10        2    19   \n",
       "4            True             False             2  2019      6        6     1   \n",
       "7            True             False             0  2020      1        5    18   \n",
       "8           False             False             0  2017      8        3     1   \n",
       "\n",
       "   text_len  log_num_reviews  rating_deviation  \n",
       "2        37         4.290459               0.4  \n",
       "3       109         4.744932               0.8  \n",
       "4        71         6.475433               0.1  \n",
       "7        55         4.836282              -1.2  \n",
       "8       152         5.342334              -0.1  \n",
       "\n",
       "[5 rows x 33 columns]"
      ]
     },
     "execution_count": 256,
     "metadata": {},
     "output_type": "execute_result"
    }
   ],
   "source": [
    "df.info()\n",
    "df.head()"
   ]
  },
  {
   "cell_type": "markdown",
   "id": "d3e8983e",
   "metadata": {},
   "source": [
    "# Textual Feature Engineering #\n"
   ]
  },
  {
   "cell_type": "markdown",
   "id": "911ebebf",
   "metadata": {},
   "source": [
    "We use TF-IDF (Term Frequency–Inverse Document Frequency) to extract informative words and phrases from the reviews. Both unigrams (single words) and bigrams (two-word phrases) are considered. Since TF-IDF produces a very high-dimensional representation, we apply Truncated SVD to reduce the dimensionality while retaining the most important semantic information."
   ]
  },
  {
   "cell_type": "code",
   "execution_count": 257,
   "id": "6fc9ce98",
   "metadata": {},
   "outputs": [],
   "source": [
    "tfidf = TfidfVectorizer(max_features=5000, ngram_range=(1,2), stop_words=\"english\")\n",
    "X_tfidf = tfidf.fit_transform(df[\"text\"])\n",
    "\n",
    "svd = TruncatedSVD(n_components=100, random_state=42)\n",
    "X_tfidf_reduced = svd.fit_transform(X_tfidf)"
   ]
  },
  {
   "cell_type": "markdown",
   "id": "25598bde",
   "metadata": {},
   "source": [
    "## Sentiment Analysis ##\n",
    "\n",
    "Using TextBlob, we compute sentiment polarity (ranging from -1 to +1) and subjectivity (0 to 1). These features help identify reviews that are overly positive, overly negative, or strongly opinionated, which may indicate spam or irrelevance."
   ]
  },
  {
   "cell_type": "code",
   "execution_count": 258,
   "id": "bc132507",
   "metadata": {},
   "outputs": [],
   "source": [
    "df[\"sentiment_polarity\"] = df[\"text\"].apply(lambda x: TextBlob(x).sentiment.polarity)\n",
    "df[\"sentiment_subjectivity\"] = df[\"text\"].apply(lambda x: TextBlob(x).sentiment.subjectivity)"
   ]
  },
  {
   "cell_type": "markdown",
   "id": "f994be85",
   "metadata": {},
   "source": [
    "## Keyword/Rule Features (Policy signals) ##\n",
    "We add simple but effective binary features that capture violations of review quality policies. For example, spammy or rant-like reviews may use excessive punctuation."
   ]
  },
  {
   "cell_type": "code",
   "execution_count": 259,
   "id": "c2a4e212",
   "metadata": {},
   "outputs": [],
   "source": [
    "df[\"excessive_exclaim\"] = df[\"text\"].str.count(\"!\") > 3"
   ]
  },
  {
   "cell_type": "markdown",
   "id": "af193ec2",
   "metadata": {},
   "source": [
    "To better understand these signals, we inspect how many reviews are flagged for containing excessive punctuation."
   ]
  },
  {
   "cell_type": "code",
   "execution_count": 260,
   "id": "1d7a0c88",
   "metadata": {},
   "outputs": [
    {
     "name": "stdout",
     "output_type": "stream",
     "text": [
      "\n",
      "Excessive exclamation counts:\n"
     ]
    },
    {
     "data": {
      "text/plain": [
       "excessive_exclaim\n",
       "False    26151\n",
       "True       471\n",
       "Name: count, dtype: int64"
      ]
     },
     "execution_count": 260,
     "metadata": {},
     "output_type": "execute_result"
    }
   ],
   "source": [
    "print(\"\\nExcessive exclamation counts:\")\n",
    "df[\"excessive_exclaim\"].value_counts()"
   ]
  },
  {
   "cell_type": "code",
   "execution_count": 261,
   "id": "a7a76c1e",
   "metadata": {},
   "outputs": [
    {
     "name": "stdout",
     "output_type": "stream",
     "text": [
      "<class 'pandas.core.frame.DataFrame'>\n",
      "Index: 26622 entries, 2 to 49999\n",
      "Data columns (total 36 columns):\n",
      " #   Column                    Non-Null Count  Dtype  \n",
      "---  ------                    --------------  -----  \n",
      " 0   user_id                   26622 non-null  object \n",
      " 1   name_review_user          26622 non-null  object \n",
      " 2   time                      26622 non-null  int64  \n",
      " 3   rating                    26622 non-null  int64  \n",
      " 4   text                      26622 non-null  object \n",
      " 5   gmap_id                   26622 non-null  object \n",
      " 6   latitude                  26622 non-null  float64\n",
      " 7   longitude                 26622 non-null  float64\n",
      " 8   category                  26616 non-null  object \n",
      " 9   avg_rating                26622 non-null  float64\n",
      " 10  num_of_reviews            26622 non-null  int64  \n",
      " 11  price                     14747 non-null  object \n",
      " 12  state                     15483 non-null  object \n",
      " 13  category_main             26622 non-null  object \n",
      " 14  cat_American restaurant   26622 non-null  bool   \n",
      " 15  cat_Coffee shop           26622 non-null  bool   \n",
      " 16  cat_Department store      26622 non-null  bool   \n",
      " 17  cat_Fast food restaurant  26622 non-null  bool   \n",
      " 18  cat_Grocery store         26622 non-null  bool   \n",
      " 19  cat_Hotel                 26622 non-null  bool   \n",
      " 20  cat_Mexican restaurant    26622 non-null  bool   \n",
      " 21  cat_Other                 26622 non-null  bool   \n",
      " 22  cat_Pizza restaurant      26622 non-null  bool   \n",
      " 23  cat_Restaurant            26622 non-null  bool   \n",
      " 24  cat_Shopping mall         26622 non-null  bool   \n",
      " 25  price_encoded             26622 non-null  int64  \n",
      " 26  year                      26622 non-null  int32  \n",
      " 27  month                     26622 non-null  int32  \n",
      " 28  weekday                   26622 non-null  int32  \n",
      " 29  hour                      26622 non-null  int32  \n",
      " 30  text_len                  26622 non-null  int64  \n",
      " 31  log_num_reviews           26622 non-null  float64\n",
      " 32  rating_deviation          26622 non-null  float64\n",
      " 33  sentiment_polarity        26622 non-null  float64\n",
      " 34  sentiment_subjectivity    26622 non-null  float64\n",
      " 35  excessive_exclaim         26622 non-null  bool   \n",
      "dtypes: bool(12), float64(7), int32(4), int64(5), object(8)\n",
      "memory usage: 5.0+ MB\n"
     ]
    },
    {
     "data": {
      "text/html": [
       "<div>\n",
       "<style scoped>\n",
       "    .dataframe tbody tr th:only-of-type {\n",
       "        vertical-align: middle;\n",
       "    }\n",
       "\n",
       "    .dataframe tbody tr th {\n",
       "        vertical-align: top;\n",
       "    }\n",
       "\n",
       "    .dataframe thead th {\n",
       "        text-align: right;\n",
       "    }\n",
       "</style>\n",
       "<table border=\"1\" class=\"dataframe\">\n",
       "  <thead>\n",
       "    <tr style=\"text-align: right;\">\n",
       "      <th></th>\n",
       "      <th>user_id</th>\n",
       "      <th>name_review_user</th>\n",
       "      <th>time</th>\n",
       "      <th>rating</th>\n",
       "      <th>text</th>\n",
       "      <th>gmap_id</th>\n",
       "      <th>latitude</th>\n",
       "      <th>longitude</th>\n",
       "      <th>category</th>\n",
       "      <th>avg_rating</th>\n",
       "      <th>...</th>\n",
       "      <th>year</th>\n",
       "      <th>month</th>\n",
       "      <th>weekday</th>\n",
       "      <th>hour</th>\n",
       "      <th>text_len</th>\n",
       "      <th>log_num_reviews</th>\n",
       "      <th>rating_deviation</th>\n",
       "      <th>sentiment_polarity</th>\n",
       "      <th>sentiment_subjectivity</th>\n",
       "      <th>excessive_exclaim</th>\n",
       "    </tr>\n",
       "  </thead>\n",
       "  <tbody>\n",
       "    <tr>\n",
       "      <th>2</th>\n",
       "      <td>107813727678662505612</td>\n",
       "      <td>Felicia Wall</td>\n",
       "      <td>1575939675467</td>\n",
       "      <td>5</td>\n",
       "      <td>Coffee is great and so is the service</td>\n",
       "      <td>0x56c67c7da439c267:0x72f12aacd98f7f2e</td>\n",
       "      <td>60.561418</td>\n",
       "      <td>-151.285291</td>\n",
       "      <td>[Cafe]</td>\n",
       "      <td>4.6</td>\n",
       "      <td>...</td>\n",
       "      <td>2019</td>\n",
       "      <td>12</td>\n",
       "      <td>1</td>\n",
       "      <td>1</td>\n",
       "      <td>37</td>\n",
       "      <td>4.290459</td>\n",
       "      <td>0.4</td>\n",
       "      <td>0.800000</td>\n",
       "      <td>0.750000</td>\n",
       "      <td>False</td>\n",
       "    </tr>\n",
       "    <tr>\n",
       "      <th>3</th>\n",
       "      <td>103473424444871906765</td>\n",
       "      <td>Garry Hanley</td>\n",
       "      <td>1602702499311</td>\n",
       "      <td>5</td>\n",
       "      <td>Easy in and out experience.  Reasonable pricin...</td>\n",
       "      <td>0x56c899de8ee5d2a5:0xb15f3c48a1dc94f0</td>\n",
       "      <td>61.137792</td>\n",
       "      <td>-149.836917</td>\n",
       "      <td>[Department of motor vehicles, Auto tag agency...</td>\n",
       "      <td>4.2</td>\n",
       "      <td>...</td>\n",
       "      <td>2020</td>\n",
       "      <td>10</td>\n",
       "      <td>2</td>\n",
       "      <td>19</td>\n",
       "      <td>109</td>\n",
       "      <td>4.744932</td>\n",
       "      <td>0.8</td>\n",
       "      <td>0.377778</td>\n",
       "      <td>0.644444</td>\n",
       "      <td>False</td>\n",
       "    </tr>\n",
       "    <tr>\n",
       "      <th>4</th>\n",
       "      <td>104393976961042472712</td>\n",
       "      <td>Nathan Harrison</td>\n",
       "      <td>1559438084515</td>\n",
       "      <td>4</td>\n",
       "      <td>Great lunch, service could be better as there ...</td>\n",
       "      <td>0x56c894263c293e31:0x39aa7cb841273597</td>\n",
       "      <td>61.228926</td>\n",
       "      <td>-149.741000</td>\n",
       "      <td>[Restaurant, Brewpub, Pizza restaurant, Sports...</td>\n",
       "      <td>3.9</td>\n",
       "      <td>...</td>\n",
       "      <td>2019</td>\n",
       "      <td>6</td>\n",
       "      <td>6</td>\n",
       "      <td>1</td>\n",
       "      <td>71</td>\n",
       "      <td>6.475433</td>\n",
       "      <td>0.1</td>\n",
       "      <td>0.600000</td>\n",
       "      <td>0.583333</td>\n",
       "      <td>False</td>\n",
       "    </tr>\n",
       "    <tr>\n",
       "      <th>7</th>\n",
       "      <td>110829207026204377440</td>\n",
       "      <td>Terry Oakes</td>\n",
       "      <td>1578766259352</td>\n",
       "      <td>3</td>\n",
       "      <td>Small portions and do not give you what the me...</td>\n",
       "      <td>0x51325b0542590ed1:0xaba794ec633521ef</td>\n",
       "      <td>64.821774</td>\n",
       "      <td>-147.713617</td>\n",
       "      <td>[Restaurant]</td>\n",
       "      <td>4.2</td>\n",
       "      <td>...</td>\n",
       "      <td>2020</td>\n",
       "      <td>1</td>\n",
       "      <td>5</td>\n",
       "      <td>18</td>\n",
       "      <td>55</td>\n",
       "      <td>4.836282</td>\n",
       "      <td>-1.2</td>\n",
       "      <td>-0.250000</td>\n",
       "      <td>0.400000</td>\n",
       "      <td>False</td>\n",
       "    </tr>\n",
       "    <tr>\n",
       "      <th>8</th>\n",
       "      <td>108158723955787868825</td>\n",
       "      <td>Lee Petersen</td>\n",
       "      <td>1501725448031</td>\n",
       "      <td>4</td>\n",
       "      <td>Nice gym, what I expect from a Planet Fitness....</td>\n",
       "      <td>0x51325acaa661fa4d:0xa0cf5a8e5d34cbde</td>\n",
       "      <td>64.835650</td>\n",
       "      <td>-147.742050</td>\n",
       "      <td>[Gym, Fitness center, Personal trainer, Spa an...</td>\n",
       "      <td>4.1</td>\n",
       "      <td>...</td>\n",
       "      <td>2017</td>\n",
       "      <td>8</td>\n",
       "      <td>3</td>\n",
       "      <td>1</td>\n",
       "      <td>152</td>\n",
       "      <td>5.342334</td>\n",
       "      <td>-0.1</td>\n",
       "      <td>0.241667</td>\n",
       "      <td>0.741667</td>\n",
       "      <td>False</td>\n",
       "    </tr>\n",
       "  </tbody>\n",
       "</table>\n",
       "<p>5 rows × 36 columns</p>\n",
       "</div>"
      ],
      "text/plain": [
       "                 user_id name_review_user           time  rating  \\\n",
       "2  107813727678662505612     Felicia Wall  1575939675467       5   \n",
       "3  103473424444871906765     Garry Hanley  1602702499311       5   \n",
       "4  104393976961042472712  Nathan Harrison  1559438084515       4   \n",
       "7  110829207026204377440      Terry Oakes  1578766259352       3   \n",
       "8  108158723955787868825     Lee Petersen  1501725448031       4   \n",
       "\n",
       "                                                text  \\\n",
       "2              Coffee is great and so is the service   \n",
       "3  Easy in and out experience.  Reasonable pricin...   \n",
       "4  Great lunch, service could be better as there ...   \n",
       "7  Small portions and do not give you what the me...   \n",
       "8  Nice gym, what I expect from a Planet Fitness....   \n",
       "\n",
       "                                 gmap_id   latitude   longitude  \\\n",
       "2  0x56c67c7da439c267:0x72f12aacd98f7f2e  60.561418 -151.285291   \n",
       "3  0x56c899de8ee5d2a5:0xb15f3c48a1dc94f0  61.137792 -149.836917   \n",
       "4  0x56c894263c293e31:0x39aa7cb841273597  61.228926 -149.741000   \n",
       "7  0x51325b0542590ed1:0xaba794ec633521ef  64.821774 -147.713617   \n",
       "8  0x51325acaa661fa4d:0xa0cf5a8e5d34cbde  64.835650 -147.742050   \n",
       "\n",
       "                                            category  avg_rating  ...  year  \\\n",
       "2                                             [Cafe]         4.6  ...  2019   \n",
       "3  [Department of motor vehicles, Auto tag agency...         4.2  ...  2020   \n",
       "4  [Restaurant, Brewpub, Pizza restaurant, Sports...         3.9  ...  2019   \n",
       "7                                       [Restaurant]         4.2  ...  2020   \n",
       "8  [Gym, Fitness center, Personal trainer, Spa an...         4.1  ...  2017   \n",
       "\n",
       "  month weekday hour  text_len  log_num_reviews  rating_deviation  \\\n",
       "2    12       1    1        37         4.290459               0.4   \n",
       "3    10       2   19       109         4.744932               0.8   \n",
       "4     6       6    1        71         6.475433               0.1   \n",
       "7     1       5   18        55         4.836282              -1.2   \n",
       "8     8       3    1       152         5.342334              -0.1   \n",
       "\n",
       "   sentiment_polarity  sentiment_subjectivity  excessive_exclaim  \n",
       "2            0.800000                0.750000              False  \n",
       "3            0.377778                0.644444              False  \n",
       "4            0.600000                0.583333              False  \n",
       "7           -0.250000                0.400000              False  \n",
       "8            0.241667                0.741667              False  \n",
       "\n",
       "[5 rows x 36 columns]"
      ]
     },
     "execution_count": 261,
     "metadata": {},
     "output_type": "execute_result"
    }
   ],
   "source": [
    "df.info()\n",
    "df.head()"
   ]
  },
  {
   "cell_type": "markdown",
   "id": "4e0e6557",
   "metadata": {},
   "source": [
    "## Exploratory Data Visualizations ##\n",
    "\n",
    "To better understand our dataset, we visualize the distribution of key features including ratings, review lengths, sentiment scores, rating deviations, and temporal/category trends. These plots help us detect imbalances, outliers, and suspicious review behaviors."
   ]
  },
  {
   "cell_type": "code",
   "execution_count": 262,
   "id": "ea4fbe3b",
   "metadata": {},
   "outputs": [],
   "source": [
    "sns.set(style=\"whitegrid\", palette=\"muted\", font_scale=1.1)"
   ]
  },
  {
   "cell_type": "code",
   "execution_count": 263,
   "id": "629df8dc",
   "metadata": {},
   "outputs": [
    {
     "data": {
      "image/png": "[encoded data removed]",
      "text/plain": [
       "<Figure size 600x400 with 1 Axes>"
      ]
     },
     "metadata": {},
     "output_type": "display_data"
    }
   ],
   "source": [
    "# 1. Distribution of Ratings\n",
    "plt.figure(figsize=(6,4))\n",
    "sns.countplot(\n",
    "    x=\"rating\", \n",
    "    hue=\"rating\",       \n",
    "    data=df, \n",
    "    palette=\"viridis\", \n",
    "    legend=False        \n",
    ")\n",
    "\n",
    "plt.title(\"Distribution of Ratings\")\n",
    "plt.xlabel(\"Rating\")\n",
    "plt.ylabel(\"Count\")\n",
    "plt.show()"
   ]
  },
  {
   "cell_type": "markdown",
   "id": "ec4cdf61",
   "metadata": {},
   "source": [
    "The majority of reviews are highly positive, with 5-star reviews dominating the dataset. This indicates a strong class imbalance where most users leave positive feedback, which may bias models towards predicting “not spam” or “positive.” Lower ratings (1–2 stars) are relatively rare, so special care may be needed during modeling (e.g., class weighting)."
   ]
  },
  {
   "cell_type": "code",
   "execution_count": 264,
   "id": "2b4425d3",
   "metadata": {},
   "outputs": [
    {
     "data": {
      "image/png": "[encoded data removed]",
      "text/plain": [
       "<Figure size 600x400 with 1 Axes>"
      ]
     },
     "metadata": {},
     "output_type": "display_data"
    }
   ],
   "source": [
    "# 2. Review Length Distribution\n",
    "plt.figure(figsize=(6,4))\n",
    "sns.histplot(df[\"text_len\"], bins=50, kde=True, color=\"skyblue\")\n",
    "plt.title(\"Distribution of Review Lengths (characters)\")\n",
    "plt.xlabel(\"Text Length\")\n",
    "plt.ylabel(\"Frequency\")\n",
    "plt.xlim(0, 1000)  # zoom in to filter extreme outliers\n",
    "plt.show()"
   ]
  },
  {
   "cell_type": "markdown",
   "id": "60b7ac48",
   "metadata": {},
   "source": [
    "Most reviews are short (under 200 characters), with the distribution being heavily right-skewed. A few reviews are very long outliers (potentially spam or detailed experiences). This aligns with typical user behavior: many people leave brief comments, while a minority write detailed accounts."
   ]
  },
  {
   "cell_type": "code",
   "execution_count": 265,
   "id": "ccdf1418",
   "metadata": {},
   "outputs": [
    {
     "data": {
      "image/png": "[encoded data removed]",
      "text/plain": [
       "<Figure size 600x400 with 1 Axes>"
      ]
     },
     "metadata": {},
     "output_type": "display_data"
    }
   ],
   "source": [
    "# 3. Sentiment Polarity Distribution\n",
    "plt.figure(figsize=(6,4))\n",
    "sns.histplot(df[\"sentiment_polarity\"], bins=30, kde=True, color=\"green\")\n",
    "plt.title(\"Sentiment Polarity Distribution\")\n",
    "plt.xlabel(\"Polarity (-1 = neg, +1 = pos)\")\n",
    "plt.ylabel(\"Count\")\n",
    "plt.show()"
   ]
  },
  {
   "cell_type": "markdown",
   "id": "e5847fe5",
   "metadata": {},
   "source": [
    "The sentiment distribution is skewed towards the positive side, reflecting the rating distribution. Most reviews cluster around polarity values between 0.2 and 0.7, indicating moderately positive sentiment. However, there are also noticeable peaks near 0.0 (neutral reviews) and some highly negative reviews, though these are less frequent."
   ]
  },
  {
   "cell_type": "code",
   "execution_count": 266,
   "id": "b244cc9b",
   "metadata": {},
   "outputs": [
    {
     "data": {
      "image/png": "[encoded data removed]",
      "text/plain": [
       "<Figure size 800x500 with 1 Axes>"
      ]
     },
     "metadata": {},
     "output_type": "display_data"
    }
   ],
   "source": [
    "# 4. Sentiment vs Rating\n",
    "plt.figure(figsize=(8,5))\n",
    "sns.boxplot(\n",
    "    x=\"rating\", \n",
    "    y=\"sentiment_polarity\", \n",
    "    hue=\"rating\",       \n",
    "    data=df, \n",
    "    palette=\"coolwarm\", \n",
    "    legend=False        \n",
    ")\n",
    "plt.title(\"Sentiment Polarity vs Rating\")\n",
    "plt.xlabel(\"Rating\")\n",
    "plt.ylabel(\"Sentiment Polarity\")\n",
    "plt.show()"
   ]
  },
  {
   "cell_type": "markdown",
   "id": "74d9a831",
   "metadata": {},
   "source": [
    "There is a clear positive relationship between ratings and sentiment polarity:\n",
    "\n",
    "Low ratings (1–2) tend to have negative or neutral polarity.\n",
    "\n",
    "High ratings (4–5) show more positive polarity.\n",
    "However, there are some mismatches (e.g., 5-star reviews with negative sentiment or 1-star reviews with neutral/positive sentiment). These inconsistencies may point to spam, sarcasm, or low-quality reviews, and can serve as valuable features for detection."
   ]
  },
  {
   "cell_type": "code",
   "execution_count": 267,
   "id": "62349ac1",
   "metadata": {},
   "outputs": [
    {
     "data": {
      "image/png": "[encoded data removed]",
      "text/plain": [
       "<Figure size 600x400 with 1 Axes>"
      ]
     },
     "metadata": {},
     "output_type": "display_data"
    }
   ],
   "source": [
    "# 5. Rating Deviation Distribution\n",
    "plt.figure(figsize=(6,4))\n",
    "sns.histplot(df[\"rating_deviation\"], bins=50, kde=True, color=\"orange\")\n",
    "plt.title(\"Distribution of Rating Deviations\")\n",
    "plt.xlabel(\"Deviation (review rating - business avg)\")\n",
    "plt.ylabel(\"Count\")\n",
    "plt.show()"
   ]
  },
  {
   "cell_type": "markdown",
   "id": "d10125be",
   "metadata": {},
   "source": [
    "Most reviews have ratings close to the business average (deviation near 0). However, there are noticeable outliers where user ratings deviate strongly (±2–3 stars) from the average. These extreme deviations may indicate biased, malicious, or irrelevant reviews, making this feature useful for spam/relevance classification."
   ]
  },
  {
   "cell_type": "code",
   "execution_count": 268,
   "id": "dd65f7be",
   "metadata": {},
   "outputs": [
    {
     "data": {
      "image/png": "[encoded data removed]",
      "text/plain": [
       "<Figure size 700x400 with 1 Axes>"
      ]
     },
     "metadata": {},
     "output_type": "display_data"
    }
   ],
   "source": [
    "# 6. Reviews per Year\n",
    "plt.figure(figsize=(7,4))\n",
    "sns.countplot(\n",
    "    x=\"year\",\n",
    "    hue=\"year\",          \n",
    "    data=df,\n",
    "    palette=\"Set2\",\n",
    "    legend=False         \n",
    ")\n",
    "plt.title(\"Number of Reviews per Year\")\n",
    "plt.xlabel(\"Year\")\n",
    "plt.ylabel(\"Count\")\n",
    "plt.show()\n"
   ]
  },
  {
   "cell_type": "markdown",
   "id": "81cb0c5c",
   "metadata": {},
   "source": [
    "The number of reviews grows steadily over time, peaking around 2018–2019. After that, there’s a decline into 2020–2021, which may be influenced by external factors such as COVID-19 reducing business activity and reviews. Temporal distribution also highlights potential periods of review “bursts,” which could correspond to coordinated spam campaigns."
   ]
  },
  {
   "cell_type": "code",
   "execution_count": 269,
   "id": "c7f41cc6",
   "metadata": {},
   "outputs": [
    {
     "data": {
      "image/png": "[encoded data removed]",
      "text/plain": [
       "<Figure size 1000x500 with 1 Axes>"
      ]
     },
     "metadata": {},
     "output_type": "display_data"
    }
   ],
   "source": [
    "# 7. Category Distribution (Top categories)\n",
    "plt.figure(figsize=(10,5))\n",
    "cat_counts = df[\"category_main\"].value_counts().nlargest(10)\n",
    "\n",
    "sns.barplot(\n",
    "    x=cat_counts.index,\n",
    "    y=cat_counts.values,\n",
    "    hue=cat_counts.index,      \n",
    "    dodge=False,               \n",
    "    palette=\"Blues_r\",\n",
    "    legend=False               \n",
    ")\n",
    "\n",
    "plt.title(\"Top 10 Business Categories in Sample\")\n",
    "plt.xticks(rotation=45, ha=\"right\")\n",
    "plt.ylabel(\"Review Count\")\n",
    "plt.show()\n"
   ]
  },
  {
   "cell_type": "markdown",
   "id": "ff39d815",
   "metadata": {},
   "source": [
    "The dataset is dominated by food-related businesses (e.g., fast food restaurants, American restaurants, pizza restaurants, grocery stores). This reflects the heavily skewed nature of online reviews toward the food and hospitality industry. Non-food categories (e.g., department stores, shopping malls, hotels) are also present but less frequent. This imbalance may affect generalizability across business types."
   ]
  }
 ],
 "metadata": {
  "kernelspec": {
   "display_name": "myenv",
   "language": "python",
   "name": "python3"
  },
  "language_info": {
   "codemirror_mode": {
    "name": "ipython",
    "version": 3
   },
   "file_extension": ".py",
   "mimetype": "text/x-python",
   "name": "python",
   "nbconvert_exporter": "python",
   "pygments_lexer": "ipython3",
   "version": "3.13.2"
  }
 },
 "nbformat": 4,
 "nbformat_minor": 5
}
