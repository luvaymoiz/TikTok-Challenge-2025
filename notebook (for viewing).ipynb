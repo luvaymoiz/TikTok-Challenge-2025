{
 "cells": [
  {
   "cell_type": "code",
   "execution_count": 1,
   "id": "e854eef1",
   "metadata": {},
   "outputs": [
    {
     "data": {
      "text/plain": [
       "\"Successfully loaded 'final_dataset.parquet'. Shape: (26622, 36)\""
      ]
     },
     "metadata": {},
     "output_type": "display_data"
    },
    {
     "name": "stdout",
     "output_type": "stream",
     "text": [
      "Number of rows (lines): 26622\n"
     ]
    },
    {
     "data": {
      "text/plain": [
       "'First 5 rows of the dataset:'"
      ]
     },
     "metadata": {},
     "output_type": "display_data"
    },
    {
     "data": {
      "text/html": [
       "<div>\n",
       "<style scoped>\n",
       "    .dataframe tbody tr th:only-of-type {\n",
       "        vertical-align: middle;\n",
       "    }\n",
       "\n",
       "    .dataframe tbody tr th {\n",
       "        vertical-align: top;\n",
       "    }\n",
       "\n",
       "    .dataframe thead th {\n",
       "        text-align: right;\n",
       "    }\n",
       "</style>\n",
       "<table border=\"1\" class=\"dataframe\">\n",
       "  <thead>\n",
       "    <tr style=\"text-align: right;\">\n",
       "      <th></th>\n",
       "      <th>user_id</th>\n",
       "      <th>name_review_user</th>\n",
       "      <th>time</th>\n",
       "      <th>rating</th>\n",
       "      <th>text</th>\n",
       "      <th>gmap_id</th>\n",
       "      <th>latitude</th>\n",
       "      <th>longitude</th>\n",
       "      <th>category</th>\n",
       "      <th>avg_rating</th>\n",
       "      <th>...</th>\n",
       "      <th>year</th>\n",
       "      <th>month</th>\n",
       "      <th>weekday</th>\n",
       "      <th>hour</th>\n",
       "      <th>text_len</th>\n",
       "      <th>log_num_reviews</th>\n",
       "      <th>rating_deviation</th>\n",
       "      <th>sentiment_polarity</th>\n",
       "      <th>sentiment_subjectivity</th>\n",
       "      <th>excessive_exclaim</th>\n",
       "    </tr>\n",
       "  </thead>\n",
       "  <tbody>\n",
       "    <tr>\n",
       "      <th>0</th>\n",
       "      <td>107813727678662505612</td>\n",
       "      <td>Felicia Wall</td>\n",
       "      <td>1575939675467</td>\n",
       "      <td>5</td>\n",
       "      <td>Coffee is great and so is the service</td>\n",
       "      <td>0x56c67c7da439c267:0x72f12aacd98f7f2e</td>\n",
       "      <td>60.561418</td>\n",
       "      <td>-151.285291</td>\n",
       "      <td>[Cafe]</td>\n",
       "      <td>4.6</td>\n",
       "      <td>...</td>\n",
       "      <td>2019</td>\n",
       "      <td>12</td>\n",
       "      <td>1</td>\n",
       "      <td>1</td>\n",
       "      <td>37</td>\n",
       "      <td>4.290459</td>\n",
       "      <td>0.4</td>\n",
       "      <td>0.800000</td>\n",
       "      <td>0.750000</td>\n",
       "      <td>False</td>\n",
       "    </tr>\n",
       "    <tr>\n",
       "      <th>1</th>\n",
       "      <td>103473424444871906765</td>\n",
       "      <td>Garry Hanley</td>\n",
       "      <td>1602702499311</td>\n",
       "      <td>5</td>\n",
       "      <td>Easy in and out experience.  Reasonable pricin...</td>\n",
       "      <td>0x56c899de8ee5d2a5:0xb15f3c48a1dc94f0</td>\n",
       "      <td>61.137792</td>\n",
       "      <td>-149.836917</td>\n",
       "      <td>[Department of motor vehicles, Auto tag agency...</td>\n",
       "      <td>4.2</td>\n",
       "      <td>...</td>\n",
       "      <td>2020</td>\n",
       "      <td>10</td>\n",
       "      <td>2</td>\n",
       "      <td>19</td>\n",
       "      <td>109</td>\n",
       "      <td>4.744932</td>\n",
       "      <td>0.8</td>\n",
       "      <td>0.377778</td>\n",
       "      <td>0.644444</td>\n",
       "      <td>False</td>\n",
       "    </tr>\n",
       "    <tr>\n",
       "      <th>2</th>\n",
       "      <td>104393976961042472712</td>\n",
       "      <td>Nathan Harrison</td>\n",
       "      <td>1559438084515</td>\n",
       "      <td>4</td>\n",
       "      <td>Great lunch, service could be better as there ...</td>\n",
       "      <td>0x56c894263c293e31:0x39aa7cb841273597</td>\n",
       "      <td>61.228926</td>\n",
       "      <td>-149.741000</td>\n",
       "      <td>[Restaurant, Brewpub, Pizza restaurant, Sports...</td>\n",
       "      <td>3.9</td>\n",
       "      <td>...</td>\n",
       "      <td>2019</td>\n",
       "      <td>6</td>\n",
       "      <td>6</td>\n",
       "      <td>1</td>\n",
       "      <td>71</td>\n",
       "      <td>6.475433</td>\n",
       "      <td>0.1</td>\n",
       "      <td>0.600000</td>\n",
       "      <td>0.583333</td>\n",
       "      <td>False</td>\n",
       "    </tr>\n",
       "    <tr>\n",
       "      <th>3</th>\n",
       "      <td>110829207026204377440</td>\n",
       "      <td>Terry Oakes</td>\n",
       "      <td>1578766259352</td>\n",
       "      <td>3</td>\n",
       "      <td>Small portions and do not give you what the me...</td>\n",
       "      <td>0x51325b0542590ed1:0xaba794ec633521ef</td>\n",
       "      <td>64.821774</td>\n",
       "      <td>-147.713617</td>\n",
       "      <td>[Restaurant]</td>\n",
       "      <td>4.2</td>\n",
       "      <td>...</td>\n",
       "      <td>2020</td>\n",
       "      <td>1</td>\n",
       "      <td>5</td>\n",
       "      <td>18</td>\n",
       "      <td>55</td>\n",
       "      <td>4.836282</td>\n",
       "      <td>-1.2</td>\n",
       "      <td>-0.250000</td>\n",
       "      <td>0.400000</td>\n",
       "      <td>False</td>\n",
       "    </tr>\n",
       "    <tr>\n",
       "      <th>4</th>\n",
       "      <td>108158723955787868825</td>\n",
       "      <td>Lee Petersen</td>\n",
       "      <td>1501725448031</td>\n",
       "      <td>4</td>\n",
       "      <td>Nice gym, what I expect from a Planet Fitness....</td>\n",
       "      <td>0x51325acaa661fa4d:0xa0cf5a8e5d34cbde</td>\n",
       "      <td>64.835650</td>\n",
       "      <td>-147.742050</td>\n",
       "      <td>[Gym, Fitness center, Personal trainer, Spa an...</td>\n",
       "      <td>4.1</td>\n",
       "      <td>...</td>\n",
       "      <td>2017</td>\n",
       "      <td>8</td>\n",
       "      <td>3</td>\n",
       "      <td>1</td>\n",
       "      <td>152</td>\n",
       "      <td>5.342334</td>\n",
       "      <td>-0.1</td>\n",
       "      <td>0.241667</td>\n",
       "      <td>0.741667</td>\n",
       "      <td>False</td>\n",
       "    </tr>\n",
       "  </tbody>\n",
       "</table>\n",
       "<p>5 rows × 36 columns</p>\n",
       "</div>"
      ],
      "text/plain": [
       "                 user_id name_review_user           time  rating  \\\n",
       "0  107813727678662505612     Felicia Wall  1575939675467       5   \n",
       "1  103473424444871906765     Garry Hanley  1602702499311       5   \n",
       "2  104393976961042472712  Nathan Harrison  1559438084515       4   \n",
       "3  110829207026204377440      Terry Oakes  1578766259352       3   \n",
       "4  108158723955787868825     Lee Petersen  1501725448031       4   \n",
       "\n",
       "                                                text  \\\n",
       "0              Coffee is great and so is the service   \n",
       "1  Easy in and out experience.  Reasonable pricin...   \n",
       "2  Great lunch, service could be better as there ...   \n",
       "3  Small portions and do not give you what the me...   \n",
       "4  Nice gym, what I expect from a Planet Fitness....   \n",
       "\n",
       "                                 gmap_id   latitude   longitude  \\\n",
       "0  0x56c67c7da439c267:0x72f12aacd98f7f2e  60.561418 -151.285291   \n",
       "1  0x56c899de8ee5d2a5:0xb15f3c48a1dc94f0  61.137792 -149.836917   \n",
       "2  0x56c894263c293e31:0x39aa7cb841273597  61.228926 -149.741000   \n",
       "3  0x51325b0542590ed1:0xaba794ec633521ef  64.821774 -147.713617   \n",
       "4  0x51325acaa661fa4d:0xa0cf5a8e5d34cbde  64.835650 -147.742050   \n",
       "\n",
       "                                            category  avg_rating  ...  year  \\\n",
       "0                                             [Cafe]         4.6  ...  2019   \n",
       "1  [Department of motor vehicles, Auto tag agency...         4.2  ...  2020   \n",
       "2  [Restaurant, Brewpub, Pizza restaurant, Sports...         3.9  ...  2019   \n",
       "3                                       [Restaurant]         4.2  ...  2020   \n",
       "4  [Gym, Fitness center, Personal trainer, Spa an...         4.1  ...  2017   \n",
       "\n",
       "  month weekday hour  text_len  log_num_reviews  rating_deviation  \\\n",
       "0    12       1    1        37         4.290459               0.4   \n",
       "1    10       2   19       109         4.744932               0.8   \n",
       "2     6       6    1        71         6.475433               0.1   \n",
       "3     1       5   18        55         4.836282              -1.2   \n",
       "4     8       3    1       152         5.342334              -0.1   \n",
       "\n",
       "   sentiment_polarity  sentiment_subjectivity  excessive_exclaim  \n",
       "0            0.800000                0.750000              False  \n",
       "1            0.377778                0.644444              False  \n",
       "2            0.600000                0.583333              False  \n",
       "3           -0.250000                0.400000              False  \n",
       "4            0.241667                0.741667              False  \n",
       "\n",
       "[5 rows x 36 columns]"
      ]
     },
     "metadata": {},
     "output_type": "display_data"
    },
    {
     "data": {
      "text/plain": [
       "'\\nAutoencoder Model Summary (PyTorch):'"
      ]
     },
     "metadata": {},
     "output_type": "display_data"
    },
    {
     "data": {
      "text/plain": [
       "Autoencoder(\n",
       "  (encoder): Sequential(\n",
       "    (0): Linear(in_features=24, out_features=20, bias=True)\n",
       "    (1): LeakyReLU(negative_slope=0.01)\n",
       "    (2): Linear(in_features=20, out_features=10, bias=True)\n",
       "    (3): LeakyReLU(negative_slope=0.01)\n",
       "  )\n",
       "  (decoder): Sequential(\n",
       "    (0): Linear(in_features=10, out_features=20, bias=True)\n",
       "    (1): LeakyReLU(negative_slope=0.01)\n",
       "    (2): Linear(in_features=20, out_features=24, bias=True)\n",
       "    (3): Sigmoid()\n",
       "  )\n",
       ")"
      ]
     },
     "metadata": {},
     "output_type": "display_data"
    },
    {
     "data": {
      "text/plain": [
       "'\\nTraining Autoencoder for 50 epochs...'"
      ]
     },
     "metadata": {},
     "output_type": "display_data"
    },
    {
     "data": {
      "text/plain": [
       "'Using device: cpu'"
      ]
     },
     "metadata": {},
     "output_type": "display_data"
    },
    {
     "data": {
      "text/plain": [
       "'Epoch 1/50, Train Loss: 0.0554, Val Loss: 0.0372'"
      ]
     },
     "metadata": {},
     "output_type": "display_data"
    },
    {
     "data": {
      "text/plain": [
       "'Epoch 2/50, Train Loss: 0.0303, Val Loss: 0.0221'"
      ]
     },
     "metadata": {},
     "output_type": "display_data"
    },
    {
     "data": {
      "text/plain": [
       "'Epoch 3/50, Train Loss: 0.0201, Val Loss: 0.0170'"
      ]
     },
     "metadata": {},
     "output_type": "display_data"
    },
    {
     "data": {
      "text/plain": [
       "'Epoch 4/50, Train Loss: 0.0156, Val Loss: 0.0137'"
      ]
     },
     "metadata": {},
     "output_type": "display_data"
    },
    {
     "data": {
      "text/plain": [
       "'Epoch 5/50, Train Loss: 0.0127, Val Loss: 0.0108'"
      ]
     },
     "metadata": {},
     "output_type": "display_data"
    },
    {
     "data": {
      "text/plain": [
       "'Epoch 6/50, Train Loss: 0.0098, Val Loss: 0.0088'"
      ]
     },
     "metadata": {},
     "output_type": "display_data"
    },
    {
     "data": {
      "text/plain": [
       "'Epoch 7/50, Train Loss: 0.0084, Val Loss: 0.0077'"
      ]
     },
     "metadata": {},
     "output_type": "display_data"
    },
    {
     "data": {
      "text/plain": [
       "'Epoch 8/50, Train Loss: 0.0074, Val Loss: 0.0072'"
      ]
     },
     "metadata": {},
     "output_type": "display_data"
    },
    {
     "data": {
      "text/plain": [
       "'Epoch 9/50, Train Loss: 0.0070, Val Loss: 0.0068'"
      ]
     },
     "metadata": {},
     "output_type": "display_data"
    },
    {
     "data": {
      "text/plain": [
       "'Epoch 10/50, Train Loss: 0.0067, Val Loss: 0.0064'"
      ]
     },
     "metadata": {},
     "output_type": "display_data"
    },
    {
     "data": {
      "text/plain": [
       "'Epoch 11/50, Train Loss: 0.0064, Val Loss: 0.0062'"
      ]
     },
     "metadata": {},
     "output_type": "display_data"
    },
    {
     "data": {
      "text/plain": [
       "'Epoch 12/50, Train Loss: 0.0062, Val Loss: 0.0060'"
      ]
     },
     "metadata": {},
     "output_type": "display_data"
    },
    {
     "data": {
      "text/plain": [
       "'Epoch 13/50, Train Loss: 0.0060, Val Loss: 0.0058'"
      ]
     },
     "metadata": {},
     "output_type": "display_data"
    },
    {
     "data": {
      "text/plain": [
       "'Epoch 14/50, Train Loss: 0.0059, Val Loss: 0.0057'"
      ]
     },
     "metadata": {},
     "output_type": "display_data"
    },
    {
     "data": {
      "text/plain": [
       "'Epoch 15/50, Train Loss: 0.0058, Val Loss: 0.0056'"
      ]
     },
     "metadata": {},
     "output_type": "display_data"
    },
    {
     "data": {
      "text/plain": [
       "'Epoch 16/50, Train Loss: 0.0057, Val Loss: 0.0054'"
      ]
     },
     "metadata": {},
     "output_type": "display_data"
    },
    {
     "data": {
      "text/plain": [
       "'Epoch 17/50, Train Loss: 0.0056, Val Loss: 0.0053'"
      ]
     },
     "metadata": {},
     "output_type": "display_data"
    },
    {
     "data": {
      "text/plain": [
       "'Epoch 18/50, Train Loss: 0.0055, Val Loss: 0.0051'"
      ]
     },
     "metadata": {},
     "output_type": "display_data"
    },
    {
     "data": {
      "text/plain": [
       "'Epoch 19/50, Train Loss: 0.0053, Val Loss: 0.0051'"
      ]
     },
     "metadata": {},
     "output_type": "display_data"
    },
    {
     "data": {
      "text/plain": [
       "'Epoch 20/50, Train Loss: 0.0052, Val Loss: 0.0049'"
      ]
     },
     "metadata": {},
     "output_type": "display_data"
    },
    {
     "data": {
      "text/plain": [
       "'Epoch 21/50, Train Loss: 0.0050, Val Loss: 0.0045'"
      ]
     },
     "metadata": {},
     "output_type": "display_data"
    },
    {
     "data": {
      "text/plain": [
       "'Epoch 22/50, Train Loss: 0.0046, Val Loss: 0.0042'"
      ]
     },
     "metadata": {},
     "output_type": "display_data"
    },
    {
     "data": {
      "text/plain": [
       "'Epoch 23/50, Train Loss: 0.0044, Val Loss: 0.0042'"
      ]
     },
     "metadata": {},
     "output_type": "display_data"
    },
    {
     "data": {
      "text/plain": [
       "'Epoch 24/50, Train Loss: 0.0043, Val Loss: 0.0041'"
      ]
     },
     "metadata": {},
     "output_type": "display_data"
    },
    {
     "data": {
      "text/plain": [
       "'Epoch 25/50, Train Loss: 0.0042, Val Loss: 0.0040'"
      ]
     },
     "metadata": {},
     "output_type": "display_data"
    },
    {
     "data": {
      "text/plain": [
       "'Epoch 26/50, Train Loss: 0.0042, Val Loss: 0.0040'"
      ]
     },
     "metadata": {},
     "output_type": "display_data"
    },
    {
     "data": {
      "text/plain": [
       "'Epoch 27/50, Train Loss: 0.0042, Val Loss: 0.0039'"
      ]
     },
     "metadata": {},
     "output_type": "display_data"
    },
    {
     "data": {
      "text/plain": [
       "'Epoch 28/50, Train Loss: 0.0041, Val Loss: 0.0039'"
      ]
     },
     "metadata": {},
     "output_type": "display_data"
    },
    {
     "data": {
      "text/plain": [
       "'Epoch 29/50, Train Loss: 0.0041, Val Loss: 0.0039'"
      ]
     },
     "metadata": {},
     "output_type": "display_data"
    },
    {
     "data": {
      "text/plain": [
       "'Epoch 30/50, Train Loss: 0.0041, Val Loss: 0.0039'"
      ]
     },
     "metadata": {},
     "output_type": "display_data"
    },
    {
     "data": {
      "text/plain": [
       "'Epoch 31/50, Train Loss: 0.0041, Val Loss: 0.0039'"
      ]
     },
     "metadata": {},
     "output_type": "display_data"
    },
    {
     "data": {
      "text/plain": [
       "'Epoch 32/50, Train Loss: 0.0040, Val Loss: 0.0037'"
      ]
     },
     "metadata": {},
     "output_type": "display_data"
    },
    {
     "data": {
      "text/plain": [
       "'Epoch 33/50, Train Loss: 0.0038, Val Loss: 0.0035'"
      ]
     },
     "metadata": {},
     "output_type": "display_data"
    },
    {
     "data": {
      "text/plain": [
       "'Epoch 34/50, Train Loss: 0.0036, Val Loss: 0.0034'"
      ]
     },
     "metadata": {},
     "output_type": "display_data"
    },
    {
     "data": {
      "text/plain": [
       "'Epoch 35/50, Train Loss: 0.0035, Val Loss: 0.0033'"
      ]
     },
     "metadata": {},
     "output_type": "display_data"
    },
    {
     "data": {
      "text/plain": [
       "'Epoch 36/50, Train Loss: 0.0034, Val Loss: 0.0032'"
      ]
     },
     "metadata": {},
     "output_type": "display_data"
    },
    {
     "data": {
      "text/plain": [
       "'Epoch 37/50, Train Loss: 0.0034, Val Loss: 0.0032'"
      ]
     },
     "metadata": {},
     "output_type": "display_data"
    },
    {
     "data": {
      "text/plain": [
       "'Epoch 38/50, Train Loss: 0.0033, Val Loss: 0.0031'"
      ]
     },
     "metadata": {},
     "output_type": "display_data"
    },
    {
     "data": {
      "text/plain": [
       "'Epoch 39/50, Train Loss: 0.0032, Val Loss: 0.0031'"
      ]
     },
     "metadata": {},
     "output_type": "display_data"
    },
    {
     "data": {
      "text/plain": [
       "'Epoch 40/50, Train Loss: 0.0032, Val Loss: 0.0030'"
      ]
     },
     "metadata": {},
     "output_type": "display_data"
    },
    {
     "data": {
      "text/plain": [
       "'Epoch 41/50, Train Loss: 0.0031, Val Loss: 0.0030'"
      ]
     },
     "metadata": {},
     "output_type": "display_data"
    },
    {
     "data": {
      "text/plain": [
       "'Epoch 42/50, Train Loss: 0.0031, Val Loss: 0.0029'"
      ]
     },
     "metadata": {},
     "output_type": "display_data"
    },
    {
     "data": {
      "text/plain": [
       "'Epoch 43/50, Train Loss: 0.0031, Val Loss: 0.0029'"
      ]
     },
     "metadata": {},
     "output_type": "display_data"
    },
    {
     "data": {
      "text/plain": [
       "'Epoch 44/50, Train Loss: 0.0030, Val Loss: 0.0029'"
      ]
     },
     "metadata": {},
     "output_type": "display_data"
    },
    {
     "data": {
      "text/plain": [
       "'Epoch 45/50, Train Loss: 0.0030, Val Loss: 0.0028'"
      ]
     },
     "metadata": {},
     "output_type": "display_data"
    },
    {
     "data": {
      "text/plain": [
       "'Epoch 46/50, Train Loss: 0.0030, Val Loss: 0.0028'"
      ]
     },
     "metadata": {},
     "output_type": "display_data"
    },
    {
     "data": {
      "text/plain": [
       "'Epoch 47/50, Train Loss: 0.0030, Val Loss: 0.0028'"
      ]
     },
     "metadata": {},
     "output_type": "display_data"
    },
    {
     "data": {
      "text/plain": [
       "'Epoch 48/50, Train Loss: 0.0029, Val Loss: 0.0028'"
      ]
     },
     "metadata": {},
     "output_type": "display_data"
    },
    {
     "data": {
      "text/plain": [
       "'Epoch 49/50, Train Loss: 0.0029, Val Loss: 0.0028'"
      ]
     },
     "metadata": {},
     "output_type": "display_data"
    },
    {
     "data": {
      "text/plain": [
       "'Epoch 50/50, Train Loss: 0.0029, Val Loss: 0.0028'"
      ]
     },
     "metadata": {},
     "output_type": "display_data"
    },
    {
     "data": {
      "text/plain": [
       "'\\nTraining complete.'"
      ]
     },
     "metadata": {},
     "output_type": "display_data"
    },
    {
     "data": {
      "text/plain": [
       "'\\nReconstruction errors calculated and z-scored.'"
      ]
     },
     "metadata": {},
     "output_type": "display_data"
    },
    {
     "data": {
      "text/plain": [
       "'First 10 reviews with their z-scored autoencoder reconstruction error:'"
      ]
     },
     "metadata": {},
     "output_type": "display_data"
    },
    {
     "data": {
      "text/html": [
       "<div>\n",
       "<style scoped>\n",
       "    .dataframe tbody tr th:only-of-type {\n",
       "        vertical-align: middle;\n",
       "    }\n",
       "\n",
       "    .dataframe tbody tr th {\n",
       "        vertical-align: top;\n",
       "    }\n",
       "\n",
       "    .dataframe thead th {\n",
       "        text-align: right;\n",
       "    }\n",
       "</style>\n",
       "<table border=\"1\" class=\"dataframe\">\n",
       "  <thead>\n",
       "    <tr style=\"text-align: right;\">\n",
       "      <th></th>\n",
       "      <th>ae_reconstruction_error_zscore</th>\n",
       "      <th>rating</th>\n",
       "      <th>text_len</th>\n",
       "      <th>rating_deviation</th>\n",
       "      <th>sentiment_polarity</th>\n",
       "      <th>sentiment_subjectivity</th>\n",
       "      <th>excessive_exclaim</th>\n",
       "      <th>avg_rating</th>\n",
       "      <th>log_num_reviews</th>\n",
       "      <th>price_encoded</th>\n",
       "      <th>...</th>\n",
       "      <th>cat_Coffee shop</th>\n",
       "      <th>cat_Department store</th>\n",
       "      <th>cat_Fast food restaurant</th>\n",
       "      <th>cat_Grocery store</th>\n",
       "      <th>cat_Hotel</th>\n",
       "      <th>cat_Mexican restaurant</th>\n",
       "      <th>cat_Other</th>\n",
       "      <th>cat_Pizza restaurant</th>\n",
       "      <th>cat_Restaurant</th>\n",
       "      <th>cat_Shopping mall</th>\n",
       "    </tr>\n",
       "  </thead>\n",
       "  <tbody>\n",
       "    <tr>\n",
       "      <th>0</th>\n",
       "      <td>-0.396800</td>\n",
       "      <td>5</td>\n",
       "      <td>37</td>\n",
       "      <td>0.4</td>\n",
       "      <td>0.800000</td>\n",
       "      <td>0.750000</td>\n",
       "      <td>False</td>\n",
       "      <td>4.6</td>\n",
       "      <td>4.290459</td>\n",
       "      <td>0</td>\n",
       "      <td>...</td>\n",
       "      <td>False</td>\n",
       "      <td>False</td>\n",
       "      <td>False</td>\n",
       "      <td>False</td>\n",
       "      <td>False</td>\n",
       "      <td>False</td>\n",
       "      <td>True</td>\n",
       "      <td>False</td>\n",
       "      <td>False</td>\n",
       "      <td>False</td>\n",
       "    </tr>\n",
       "    <tr>\n",
       "      <th>1</th>\n",
       "      <td>-0.351315</td>\n",
       "      <td>5</td>\n",
       "      <td>109</td>\n",
       "      <td>0.8</td>\n",
       "      <td>0.377778</td>\n",
       "      <td>0.644444</td>\n",
       "      <td>False</td>\n",
       "      <td>4.2</td>\n",
       "      <td>4.744932</td>\n",
       "      <td>0</td>\n",
       "      <td>...</td>\n",
       "      <td>False</td>\n",
       "      <td>False</td>\n",
       "      <td>False</td>\n",
       "      <td>False</td>\n",
       "      <td>False</td>\n",
       "      <td>False</td>\n",
       "      <td>True</td>\n",
       "      <td>False</td>\n",
       "      <td>False</td>\n",
       "      <td>False</td>\n",
       "    </tr>\n",
       "    <tr>\n",
       "      <th>2</th>\n",
       "      <td>6.648789</td>\n",
       "      <td>4</td>\n",
       "      <td>71</td>\n",
       "      <td>0.1</td>\n",
       "      <td>0.600000</td>\n",
       "      <td>0.583333</td>\n",
       "      <td>False</td>\n",
       "      <td>3.9</td>\n",
       "      <td>6.475433</td>\n",
       "      <td>2</td>\n",
       "      <td>...</td>\n",
       "      <td>False</td>\n",
       "      <td>False</td>\n",
       "      <td>False</td>\n",
       "      <td>False</td>\n",
       "      <td>False</td>\n",
       "      <td>False</td>\n",
       "      <td>False</td>\n",
       "      <td>False</td>\n",
       "      <td>True</td>\n",
       "      <td>False</td>\n",
       "    </tr>\n",
       "    <tr>\n",
       "      <th>3</th>\n",
       "      <td>0.095690</td>\n",
       "      <td>3</td>\n",
       "      <td>55</td>\n",
       "      <td>-1.2</td>\n",
       "      <td>-0.250000</td>\n",
       "      <td>0.400000</td>\n",
       "      <td>False</td>\n",
       "      <td>4.2</td>\n",
       "      <td>4.836282</td>\n",
       "      <td>0</td>\n",
       "      <td>...</td>\n",
       "      <td>False</td>\n",
       "      <td>False</td>\n",
       "      <td>False</td>\n",
       "      <td>False</td>\n",
       "      <td>False</td>\n",
       "      <td>False</td>\n",
       "      <td>False</td>\n",
       "      <td>False</td>\n",
       "      <td>True</td>\n",
       "      <td>False</td>\n",
       "    </tr>\n",
       "    <tr>\n",
       "      <th>4</th>\n",
       "      <td>-0.399781</td>\n",
       "      <td>4</td>\n",
       "      <td>152</td>\n",
       "      <td>-0.1</td>\n",
       "      <td>0.241667</td>\n",
       "      <td>0.741667</td>\n",
       "      <td>False</td>\n",
       "      <td>4.1</td>\n",
       "      <td>5.342334</td>\n",
       "      <td>0</td>\n",
       "      <td>...</td>\n",
       "      <td>False</td>\n",
       "      <td>False</td>\n",
       "      <td>False</td>\n",
       "      <td>False</td>\n",
       "      <td>False</td>\n",
       "      <td>False</td>\n",
       "      <td>True</td>\n",
       "      <td>False</td>\n",
       "      <td>False</td>\n",
       "      <td>False</td>\n",
       "    </tr>\n",
       "    <tr>\n",
       "      <th>5</th>\n",
       "      <td>-0.164909</td>\n",
       "      <td>5</td>\n",
       "      <td>123</td>\n",
       "      <td>0.8</td>\n",
       "      <td>0.250000</td>\n",
       "      <td>0.812500</td>\n",
       "      <td>False</td>\n",
       "      <td>4.2</td>\n",
       "      <td>5.796058</td>\n",
       "      <td>2</td>\n",
       "      <td>...</td>\n",
       "      <td>False</td>\n",
       "      <td>False</td>\n",
       "      <td>False</td>\n",
       "      <td>False</td>\n",
       "      <td>False</td>\n",
       "      <td>True</td>\n",
       "      <td>False</td>\n",
       "      <td>False</td>\n",
       "      <td>False</td>\n",
       "      <td>False</td>\n",
       "    </tr>\n",
       "    <tr>\n",
       "      <th>6</th>\n",
       "      <td>0.272322</td>\n",
       "      <td>1</td>\n",
       "      <td>64</td>\n",
       "      <td>-2.7</td>\n",
       "      <td>-1.000000</td>\n",
       "      <td>0.900000</td>\n",
       "      <td>False</td>\n",
       "      <td>3.7</td>\n",
       "      <td>6.577861</td>\n",
       "      <td>1</td>\n",
       "      <td>...</td>\n",
       "      <td>False</td>\n",
       "      <td>False</td>\n",
       "      <td>True</td>\n",
       "      <td>False</td>\n",
       "      <td>False</td>\n",
       "      <td>False</td>\n",
       "      <td>False</td>\n",
       "      <td>False</td>\n",
       "      <td>False</td>\n",
       "      <td>False</td>\n",
       "    </tr>\n",
       "    <tr>\n",
       "      <th>7</th>\n",
       "      <td>-0.298887</td>\n",
       "      <td>5</td>\n",
       "      <td>27</td>\n",
       "      <td>0.3</td>\n",
       "      <td>1.000000</td>\n",
       "      <td>0.300000</td>\n",
       "      <td>False</td>\n",
       "      <td>4.7</td>\n",
       "      <td>6.023448</td>\n",
       "      <td>0</td>\n",
       "      <td>...</td>\n",
       "      <td>False</td>\n",
       "      <td>False</td>\n",
       "      <td>False</td>\n",
       "      <td>False</td>\n",
       "      <td>False</td>\n",
       "      <td>False</td>\n",
       "      <td>True</td>\n",
       "      <td>False</td>\n",
       "      <td>False</td>\n",
       "      <td>False</td>\n",
       "    </tr>\n",
       "    <tr>\n",
       "      <th>8</th>\n",
       "      <td>-0.390165</td>\n",
       "      <td>1</td>\n",
       "      <td>137</td>\n",
       "      <td>-3.5</td>\n",
       "      <td>0.300000</td>\n",
       "      <td>0.300000</td>\n",
       "      <td>False</td>\n",
       "      <td>4.5</td>\n",
       "      <td>4.934474</td>\n",
       "      <td>0</td>\n",
       "      <td>...</td>\n",
       "      <td>False</td>\n",
       "      <td>False</td>\n",
       "      <td>False</td>\n",
       "      <td>False</td>\n",
       "      <td>False</td>\n",
       "      <td>False</td>\n",
       "      <td>True</td>\n",
       "      <td>False</td>\n",
       "      <td>False</td>\n",
       "      <td>False</td>\n",
       "    </tr>\n",
       "    <tr>\n",
       "      <th>9</th>\n",
       "      <td>-0.024678</td>\n",
       "      <td>5</td>\n",
       "      <td>432</td>\n",
       "      <td>0.3</td>\n",
       "      <td>0.137500</td>\n",
       "      <td>0.617361</td>\n",
       "      <td>False</td>\n",
       "      <td>4.7</td>\n",
       "      <td>6.306275</td>\n",
       "      <td>2</td>\n",
       "      <td>...</td>\n",
       "      <td>False</td>\n",
       "      <td>False</td>\n",
       "      <td>False</td>\n",
       "      <td>False</td>\n",
       "      <td>False</td>\n",
       "      <td>False</td>\n",
       "      <td>True</td>\n",
       "      <td>False</td>\n",
       "      <td>False</td>\n",
       "      <td>False</td>\n",
       "    </tr>\n",
       "  </tbody>\n",
       "</table>\n",
       "<p>10 rows × 25 columns</p>\n",
       "</div>"
      ],
      "text/plain": [
       "   ae_reconstruction_error_zscore  rating  text_len  rating_deviation  \\\n",
       "0                       -0.396800       5        37               0.4   \n",
       "1                       -0.351315       5       109               0.8   \n",
       "2                        6.648789       4        71               0.1   \n",
       "3                        0.095690       3        55              -1.2   \n",
       "4                       -0.399781       4       152              -0.1   \n",
       "5                       -0.164909       5       123               0.8   \n",
       "6                        0.272322       1        64              -2.7   \n",
       "7                       -0.298887       5        27               0.3   \n",
       "8                       -0.390165       1       137              -3.5   \n",
       "9                       -0.024678       5       432               0.3   \n",
       "\n",
       "   sentiment_polarity  sentiment_subjectivity  excessive_exclaim  avg_rating  \\\n",
       "0            0.800000                0.750000              False         4.6   \n",
       "1            0.377778                0.644444              False         4.2   \n",
       "2            0.600000                0.583333              False         3.9   \n",
       "3           -0.250000                0.400000              False         4.2   \n",
       "4            0.241667                0.741667              False         4.1   \n",
       "5            0.250000                0.812500              False         4.2   \n",
       "6           -1.000000                0.900000              False         3.7   \n",
       "7            1.000000                0.300000              False         4.7   \n",
       "8            0.300000                0.300000              False         4.5   \n",
       "9            0.137500                0.617361              False         4.7   \n",
       "\n",
       "   log_num_reviews  price_encoded  ...  cat_Coffee shop  cat_Department store  \\\n",
       "0         4.290459              0  ...            False                 False   \n",
       "1         4.744932              0  ...            False                 False   \n",
       "2         6.475433              2  ...            False                 False   \n",
       "3         4.836282              0  ...            False                 False   \n",
       "4         5.342334              0  ...            False                 False   \n",
       "5         5.796058              2  ...            False                 False   \n",
       "6         6.577861              1  ...            False                 False   \n",
       "7         6.023448              0  ...            False                 False   \n",
       "8         4.934474              0  ...            False                 False   \n",
       "9         6.306275              2  ...            False                 False   \n",
       "\n",
       "   cat_Fast food restaurant  cat_Grocery store  cat_Hotel  \\\n",
       "0                     False              False      False   \n",
       "1                     False              False      False   \n",
       "2                     False              False      False   \n",
       "3                     False              False      False   \n",
       "4                     False              False      False   \n",
       "5                     False              False      False   \n",
       "6                      True              False      False   \n",
       "7                     False              False      False   \n",
       "8                     False              False      False   \n",
       "9                     False              False      False   \n",
       "\n",
       "   cat_Mexican restaurant  cat_Other  cat_Pizza restaurant  cat_Restaurant  \\\n",
       "0                   False       True                 False           False   \n",
       "1                   False       True                 False           False   \n",
       "2                   False      False                 False            True   \n",
       "3                   False      False                 False            True   \n",
       "4                   False       True                 False           False   \n",
       "5                    True      False                 False           False   \n",
       "6                   False      False                 False           False   \n",
       "7                   False       True                 False           False   \n",
       "8                   False       True                 False           False   \n",
       "9                   False       True                 False           False   \n",
       "\n",
       "   cat_Shopping mall  \n",
       "0              False  \n",
       "1              False  \n",
       "2              False  \n",
       "3              False  \n",
       "4              False  \n",
       "5              False  \n",
       "6              False  \n",
       "7              False  \n",
       "8              False  \n",
       "9              False  \n",
       "\n",
       "[10 rows x 25 columns]"
      ]
     },
     "metadata": {},
     "output_type": "display_data"
    },
    {
     "data": {
      "text/plain": [
       "'\\nNumber of potential anomalies (z-score > 2.0): 713'"
      ]
     },
     "metadata": {},
     "output_type": "display_data"
    },
    {
     "name": "stdout",
     "output_type": "stream",
     "text": [
      "\n",
      "Displaying the top 20 anomalies with all their features (sorted by anomaly score):\n",
      "                     user_id name_review_user           time  rating                                                                                                                                                   text                                gmap_id   latitude   longitude                                                                                                                                               category  avg_rating  num_of_reviews price                      state         category_main  cat_American restaurant  cat_Coffee shop  cat_Department store  cat_Fast food restaurant  cat_Grocery store  cat_Hotel  cat_Mexican restaurant  cat_Other  cat_Pizza restaurant  cat_Restaurant  cat_Shopping mall  price_encoded  year  month  weekday  hour  text_len  log_num_reviews  rating_deviation  sentiment_polarity  sentiment_subjectivity  excessive_exclaim  ae_reconstruction_error_zscore\n",
      "7610   104078896205481303832     Adrian Henry  1518961685694       2                                                                                                    Food options are limited need more vegan foods !!!!  0x89b7c7d1093102cb:0xb72575867849d00c  38.958029  -77.002412  [Department store, Clothing store, Craft store, Discount store, Electronics store, Grocery store, Home goods store, Sporting goods store, Supermar...         4.1            4902     $                       None      Department store                    False            False                  True                     False              False      False                   False      False                 False           False              False              1  2018      2        6    13        51         8.497603              -2.1            0.464286                0.321429               True                       10.402871\n",
      "783    111457712265234071422         Bob Mill  1478648201291       5                                                                                                                                        Chicken! Yum!!!  0x56c8963ac42857b7:0xbd06ac316a12f454  61.217857 -149.863398                                                                                                 [Chicken restaurant, Hamburger restaurant, Restaurant]         4.5            1353    $$                       None    Chicken restaurant                    False            False                 False                     False              False      False                   False       True                 False           False              False              2  2016     11        1    23        15         7.210818               0.5           -1.000000                0.950000               True                        9.862997\n",
      "26349  106830487326000315106   Brandon Renner  1547819536460       1  It wasn't  busy at all and still took me all of 35 - 40 minutes to get a cpl mcdoubles. I guess anyone can be a manager or assistant manager here!...  0x89ca02f6151f3a6d:0xe534415c4f292953  39.478644  -77.957981                                             [Fast food restaurant, Breakfast restaurant, Coffee shop, Hamburger restaurant, Restaurant, Sandwich shop]         3.2            1072     $                       None  Fast food restaurant                    False            False                 False                      True              False      False                   False      False                 False           False              False              1  2019      1        4    13       150         6.978214              -2.2            0.305176                0.300000               True                        9.649104\n",
      "3783   107878898345341106897       Ivory Love  1593959137891       2  They never get your order right!!! When you order the meal, they ring you up for just the sandwich and vise versa...ALWAYS!!! They dump about 6lbs...  0x89c701c91cc664db:0x234c1a80b344bfa5  39.722921  -75.660783                                             [Fast food restaurant, Breakfast restaurant, Coffee shop, Hamburger restaurant, Restaurant, Sandwich shop]         3.5             894     $                       None  Fast food restaurant                    False            False                 False                      True              False      False                   False      False                 False           False              False              1  2020      7        6    14       455         6.796824              -1.5            0.268229                0.325794               True                        9.532793\n",
      "4300   103197900629550030037      David Ogden  1497903486943       2  OK, you know what you are going to be offered when you go into a diner; food, lots of it; good or bad dependant on the area etc\\nWhat you do expec...  0x89b8b74db5f67797:0xf47e34cd382d1620  38.751979  -75.167325                                                                                                     [American restaurant, Breakfast restaurant, Diner]         4.2             356     $                       None   American restaurant                     True            False                 False                     False              False      False                   False      False                 False           False              False              1  2017      6        0    20       754         5.877736              -2.2            0.319556                0.546444               True                        9.342068\n",
      "1792   105711311976094310918    Walden Walden  1527829796125       4                                                   (Translated by Google) How all Juneau is worth it !!\\n\\n(Original)\\nCómo todo Juneau, vale la pena!!  0x5400df825529d147:0xd6e949be5e51046a  58.299399 -134.407901                                                                                                                                        [Shopping mall]         4.2              88  None           Opens soon ⋅ 8AM         Shopping mall                    False            False                 False                     False              False      False                   False      False                 False           False               True              0  2018      6        4     5        97         4.488636              -0.2            0.527344                0.425000               True                        9.308783\n",
      "7947   117818919252907687590      Purify Love  1580231716469       5  Farmers & Distillers (China Town, DC)\\n\\n#EndlessMeTime\\n\\nThis place is the best hands down in service, hand crafted top shelf beverages, fresh s...  0x89b7b78da5b33f25:0xc54f018d705f5589  38.901252  -77.020211  [American restaurant, Breakfast restaurant, Brunch restaurant, Cocktail bar, Dessert restaurant, New American restaurant, Restaurant, Sandwich sho...         4.4            4093    $$                       None   American restaurant                     True            False                 False                     False              False      False                   False      False                 False           False              False              2  2020      1        1    17      1151         8.317278               0.6            0.356597                0.444444               True                        9.192481\n",
      "7069   101540479363078252111     Ellen Pliska  1332547200000       3                                                                           one of the best happy hours in town with delicious pizza and beer for cheap.  0x89b6471661a6b92d:0x42649b588a9eb0df  38.933189  -77.084782                                                                                                                      [Restaurant, American restaurant]         4.0             918    $$                       None            Restaurant                    False            False                 False                     False              False      False                   False      False                 False            True              False              2  2012      3        5     0        76         6.823286              -1.0            0.800000                0.750000              False                        9.132663\n",
      "3220   117436125207307684476     ma of Autism  1533138889049       1  Salad bar had nothing to it. Our waitress acted as if she did NOT want to be there!!! Who charges an up-charge for cottage cheese??!! Very disappo...  0x89c7079bfd966113:0x9db192acecdc255f  39.618601  -75.696359                                                                                         [American restaurant, Diner, Hamburger restaurant, Restaurant]         4.2             893     $         Open ⋅ Closes 10PM   American restaurant                     True            False                 False                     False              False      False                   False      False                 False           False              False              1  2018      8        2    15       153         6.795706              -3.2           -1.000000                0.975000               True                        9.040795\n",
      "19598  102987515669746674850       Rosemary G  1565122934446       1                                                                                                                      None of your business !!!!!!!!!!!   0x89e44e4f3ba2d8bf:0x98f34cf6639a8c1  41.754110  -71.413143                                             [Fast food restaurant, Breakfast restaurant, Coffee shop, Hamburger restaurant, Restaurant, Sandwich shop]         3.3             686     $                       None  Fast food restaurant                    False            False                 False                      True              False      False                   False      False                 False           False              False              1  2019      8        1    20        33         6.532334              -2.3            0.000000                0.000000               True                        9.003683\n",
      "24606  105019814701478547762   Grace Irizarry  1560190657669       5  I was looking for a specific item and the store did not have. I asked a staff member and she told me it had to be ordered on line. She kindly orde...   0x89ca0160228dfe1f:0xb2630ba3eaa8398  39.441103  -77.992010  [Department store, Appliance store, Bathroom supply store, Bedding store, Cutlery store, Gift shop, Glassware store, Home goods store, Linens stor...         4.3             228    $$                       None      Department store                    False            False                  True                     False              False      False                   False      False                 False           False              False              2  2019      6        0    18       188         5.433722               0.7            0.533333                0.591667               True                        8.939704\n",
      "576    108958904934316809199    David Sanders  1551403070818       4  Great place to shop. Lots of stores for the whole family. Stopped at Sephora and Lush for early birthday presents for my fiancee! Be careful not t...   0x56c89629bde7481f:0x7e8a9413ab25d5d  61.216889 -149.888942                                                                                                                                        [Shopping mall]         4.2            3097  None                       None         Shopping mall                    False            False                 False                     False              False      False                   False      False                 False           False               True              0  2019      3        4     1       348         8.038512              -0.2            0.304688                0.593750               True                        8.936476\n",
      "3455   105245228582592694821    Sabrina Hearn  1581267781602       5                     The food an service absolutely great!!! On the other hand though The parking area and drive thru line are insanely  Unexceptional!  0x89c70702bb3ffe25:0x6f44dd1d533e5702  39.630466  -75.666097                                         [Fast food restaurant, Breakfast restaurant, Caterer, Chicken restaurant, Delivery service, Family restaurant]         4.6            2391     $         Closed ⋅ Opens 6AM  Fast food restaurant                    False            False                 False                      True              False      False                   False      False                 False           False              False              1  2020      2        6    17       130         7.779885               0.4           -0.041667                0.708333               True                        8.933924\n",
      "10422  117260752529886246709      Mike Walter  1581096081239       5                                                                                                                              The best food in town!!!!  0x535dcd84939e656d:0xd9732a29f4f6d1a6  46.834639 -114.016268                                                                                              [Fast food restaurant, Takeout restaurant, Sandwich shop]         4.2             434  None        Closed ⋅ Opens 11AM  Fast food restaurant                    False            False                 False                      True              False      False                   False      False                 False           False              False              0  2020      2        4    17        25         6.075346               0.8            1.000000                0.300000               True                        8.810876\n",
      "17644  115116087045208050817    David Coleman  1551816808152       3                                                                                           Food was good.. Bathrooms and dining room were not clean!!!!  0x8760bb511debe505:0xcc90ede27bcc3c26  42.833613 -106.338347                                                                                               [Fast food restaurant, Hamburger restaurant, Restaurant]         4.1             773     $  Closed ⋅ Opens 6:30AM Tue  Fast food restaurant                    False            False                 False                      True              False      False                   False      False                 False           False              False              1  2019      3        1    20        60         6.651572              -1.1            0.126204                0.650000               True                        8.782892\n",
      "9355   108982651320205472256      Stace Ewing  1529896020636       1  6/24/18 7:45p The store was decimated!! At least 50% of shelves were empty. Couldn't get half my list. I have traveled all across the country and ...   0x53454439a544d341:0xf6042a10f298012  45.694617 -111.042065  [Department store, Clothing store, Craft store, Electronics store, Furniture store, Grocery store, Hardware store, Home goods store, Sporting good...         3.5            3507     $         Closed ⋅ Opens 7AM      Department store                    False            False                  True                     False              False      False                   False      False                 False           False              False              1  2018      6        0     3       243         8.162801              -2.5           -0.016574                0.439630               True                        8.647895\n",
      "1273   105977742373683292322    Edith Garrett  1473456690136       1                                                 Tried to eat late lunch (between 1 & 2 PM) 4-times now only to find them closed. Not trying again!!!!!  0x51325b3c079841cf:0xccc1344f6ea512b8  64.840901 -147.841531                                                                                                                      [American restaurant, Restaurant]         4.2             234    $$         Temporarily closed   American restaurant                     True            False                 False                     False              False      False                   False      False                 False           False              False              2  2016      9        4    21       102         5.459586              -3.2           -0.201725                0.566667               True                        8.598353\n",
      "23801  115387083814314087299  Samantha Koskey  1580074475754       2  You need help!!!!!!  I did a mobile order, and it took an additional 20 min to get my order from the time it was supposed to be ready.  Also when ...  0x52cf33524900777b:0x427dc4d9f3a52548  46.843529  -96.884001  [Fast food restaurant, Breakfast restaurant, Burrito restaurant, Lunch restaurant, Takeout Restaurant, Mexican restaurant, Restaurant, Taco restau...         3.2            1117     $                       None  Fast food restaurant                    False            False                 False                      True              False      False                   False      False                 False           False              False              1  2020      1        6    21       302         7.019297              -1.2           -0.192708                0.522222               True                        8.453766\n",
      "26116  107100402765489177493       Rae Savage  1580187495794       5                                                                                        I can't get enough!!! I'm there every week I'm so addicted!!!!!  0x884a680c26d0d8df:0x544ee3f2a067a29b  39.263401  -80.285758  [Department store, Clothing store, Craft store, Discount store, Electronics store, Grocery store, Home goods store, Sporting goods store, Supermar...         3.8            2160     $                       None      Department store                    False            False                  True                     False              False      False                   False      False                 False           False              False              1  2020      1        1     4        63         7.678326               1.2           -0.500000                0.550000               True                        8.380051\n",
      "20233  115552631249774358571   salvador rivas  1542669838236       2                                                                                                                         Slowest drive thru ever!!!!!!!  0x88e0a9d653100001:0x14062fdad64a5ff2  41.801881  -71.445891                                             [Fast food restaurant, Breakfast restaurant, Coffee shop, Hamburger restaurant, Restaurant, Sandwich shop]         3.5            1085     $                       None  Fast food restaurant                    False            False                 False                      True              False      False                   False      False                 False           False              False              1  2018     11        0    23        30         6.990257              -1.5            0.000000                0.000000               True                        8.344373\n",
      "\n",
      "--- Investigating the Latent Space ---\n",
      "\n",
      "Correlation of Latent Dimensions with Original Features:\n",
      "                          latent_dim_1  latent_dim_2  latent_dim_3  latent_dim_4  latent_dim_5  latent_dim_6  latent_dim_7  latent_dim_8  latent_dim_9  latent_dim_10\n",
      "rating                       -0.134863      0.809792     -0.023182      0.312840      0.231335      0.273137      0.231067      0.034498      0.148380       0.028253\n",
      "text_len                      0.025242     -0.142548     -0.060126     -0.050349     -0.089665     -0.064230     -0.057760     -0.078170      0.006841       0.046641\n",
      "rating_deviation             -0.093480      0.746772      0.097297      0.212398      0.181046      0.154422      0.174197      0.130170      0.117273      -0.020709\n",
      "sentiment_polarity           -0.131509      0.603259      0.055493      0.402779      0.456567      0.550203      0.310571      0.183195      0.340075      -0.079196\n",
      "sentiment_subjectivity       -0.044688      0.407534      0.124615      0.375521      0.532009      0.621922      0.271253      0.299206      0.730728      -0.140987\n",
      "excessive_exclaim             0.013755      0.178082      0.008956     -0.016577     -0.092408     -0.092881     -0.031158      0.011412      0.258824       0.015073\n",
      "avg_rating                   -0.133172      0.303075     -0.326421      0.320831      0.173026      0.363167      0.190601     -0.250433      0.107905       0.135783\n",
      "log_num_reviews              -0.078150     -0.032881      0.230230     -0.081268      0.032229     -0.101691     -0.030734      0.220568      0.077444      -0.330962\n",
      "price_encoded                -0.179640     -0.073204      0.165660     -0.025771     -0.081561     -0.009352      0.186396      0.154254      0.033741      -0.326757\n",
      "year                          0.064374      0.091383      0.062579      0.079803      0.064301      0.031173      0.041580     -0.009223      0.023835      -0.007109\n",
      "month                        -0.403478     -0.154872     -0.123738     -0.154679     -0.158125     -0.027122     -0.062119      0.178709     -0.100236      -0.299920\n",
      "weekday                      -0.089303     -0.111146      0.046095      0.456483      0.274867     -0.116243      0.166630      0.169307      0.174220      -0.005052\n",
      "hour                         -0.089700     -0.094886      0.061769      0.160978     -0.223031      0.131107     -0.003171      0.045665     -0.032540      -0.269212\n",
      "cat_American restaurant       0.224321      0.004905      0.278781     -0.035485      0.271132     -0.003885     -0.290150      0.308811     -0.117156       0.078061\n",
      "cat_Coffee shop              -0.259401     -0.107803      0.042993     -0.157118     -0.155038     -0.059716      0.399638      0.013140     -0.082745      -0.329882\n",
      "cat_Department store         -0.209174     -0.196847      0.284739     -0.326241     -0.168001     -0.238952      0.341281      0.212855     -0.154674      -0.444336\n",
      "cat_Fast food restaurant      0.213975     -0.133392      0.771284     -0.510833      0.007780     -0.539501     -0.345615      0.719062     -0.093909      -0.166428\n",
      "cat_Grocery store             0.195005      0.287637      0.113692     -0.093876     -0.084716     -0.279011     -0.272188      0.118726      0.440778      -0.032447\n",
      "cat_Hotel                     0.091261     -0.049238      0.037629      0.042138      0.203416      0.057267     -0.101059      0.035537     -0.077637      -0.049481\n",
      "cat_Mexican restaurant       -0.132223     -0.141114      0.126989     -0.135388     -0.008724     -0.034537      0.314781      0.082142     -0.166725      -0.355785\n",
      "cat_Other                    -0.227532      0.231573     -0.737098      0.258224      0.031034      0.265620      0.253950     -0.661172      0.181294       0.544600\n",
      "cat_Pizza restaurant          0.231122      0.010713     -0.028565      0.114546      0.237387      0.111257     -0.249008     -0.021651     -0.074044       0.168941\n",
      "cat_Restaurant               -0.148484     -0.176779      0.024818      0.407651     -0.478290      0.339691      0.053038     -0.007217      0.003467      -0.354833\n",
      "cat_Shopping mall             0.336277     -0.109832      0.056084      0.039306      0.226338      0.043123     -0.332419      0.053633     -0.236890       0.068287\n",
      "\n",
      "Standard Deviation of each Latent Dimension:\n",
      "latent_dim_1     0.042455\n",
      "latent_dim_2     1.500904\n",
      "latent_dim_3     5.251225\n",
      "latent_dim_4     2.781370\n",
      "latent_dim_5     2.620083\n",
      "latent_dim_6     2.494351\n",
      "latent_dim_7     3.347882\n",
      "latent_dim_8     3.597972\n",
      "latent_dim_9     1.277648\n",
      "latent_dim_10    0.027880\n",
      "dtype: float32\n"
     ]
    }
   ],
   "source": [
    "import pandas as pd\n",
    "import numpy as np\n",
    "from sklearn.preprocessing import MinMaxScaler\n",
    "from sklearn.model_selection import train_test_split\n",
    "from scipy.stats import zscore\n",
    "import os\n",
    "\n",
    "import torch\n",
    "import torch.nn as nn\n",
    "import torch.optim as optim\n",
    "from torch.utils.data import TensorDataset, DataLoader\n",
    "\n",
    "# Load Data\n",
    "file_path = 'final_dataset.parquet'\n",
    "\n",
    "if not os.path.exists(file_path):\n",
    "\tdisplay(f\"Error: The file '{file_path}' was not found. Please ensure it's in the correct directory.\")\n",
    "\texit() \n",
    "else:\n",
    "\ttry:\n",
    "\t\tdf = pd.read_parquet(file_path)\n",
    "\t\tdisplay(f\"Successfully loaded '{file_path}'. Shape: {df.shape}\")\n",
    "\t\tprint(f\"Number of rows (lines): {df.shape[0]}\")\n",
    "\t\tdisplay(\"First 5 rows of the dataset:\")\n",
    "\t\tdisplay(df.head())\n",
    "\texcept Exception as e:\n",
    "\t\tdisplay(f\"Error loading Parquet file: {e}\")\n",
    "\t\texit() \n",
    "\n",
    "# Feature Selection \n",
    "features = [\n",
    "\t'rating',\n",
    "\t'text_len',\n",
    "\t'rating_deviation',\n",
    "\t'sentiment_polarity',\n",
    "\t'sentiment_subjectivity',\n",
    "\t'excessive_exclaim',\n",
    "\t'avg_rating',\n",
    "\t#'num_of_reviews',\n",
    "\t'log_num_reviews',\n",
    "\t# 'latitude',\n",
    "\t# 'longitude',\n",
    "\t'price_encoded',\n",
    "\t'year',\n",
    "\t'month',\n",
    "\t'weekday',\n",
    "\t'hour',\n",
    "\t'cat_American restaurant',\n",
    "\t'cat_Coffee shop',\n",
    "\t'cat_Department store',\n",
    "\t'cat_Fast food restaurant',\n",
    "\t'cat_Grocery store',\n",
    "\t'cat_Hotel',\n",
    "\t'cat_Mexican restaurant',\n",
    "\t'cat_Other',\n",
    "\t'cat_Pizza restaurant',\n",
    "\t'cat_Restaurant',\n",
    "\t'cat_Shopping mall'\n",
    "]\n",
    "\n",
    "# Check if all required features exist in the DataFrame\n",
    "missing_features = [f for f in features if f not in df.columns]\n",
    "if missing_features:\n",
    "\tdisplay(f\"Error: Missing required features in the dataset: {missing_features}\")\n",
    "\tdisplay(\"Please ensure your 'final_dataset.parquet' contains these columns.\")\n",
    "\tfeatures = [f for f in features if f in df.columns] \n",
    "\tif not features:\n",
    "\t\tdisplay(\"No valid features remaining. Exiting.\")\n",
    "\t\texit()\n",
    "\telse:\n",
    "\t\tdisplay(f\"Proceeding with available features: {features}\")\n",
    "\n",
    "data = df[features].copy()\n",
    "\n",
    "\n",
    "# Data Preprocessing (Scaling)\n",
    "scaler = MinMaxScaler()\n",
    "scaled_data_np = scaler.fit_transform(data) \n",
    "\n",
    "# Convert to PyTorch tensors\n",
    "scaled_data_tensor = torch.tensor(scaled_data_np, dtype=torch.float32)\n",
    "\n",
    "# Split data into training and validation sets\n",
    "X_train_tensor, X_val_tensor = train_test_split(scaled_data_tensor, test_size=0.2, random_state=42)\n",
    "\n",
    "# Create DataLoader for batching\n",
    "batch_size = 32\n",
    "train_dataset = TensorDataset(X_train_tensor, X_train_tensor) \n",
    "train_loader = DataLoader(train_dataset, batch_size=batch_size, shuffle=True)\n",
    "\n",
    "val_dataset = TensorDataset(X_val_tensor, X_val_tensor)\n",
    "val_loader = DataLoader(val_dataset, batch_size=batch_size, shuffle=False)\n",
    "\n",
    "# Autoencoder Model Definition (PyTorch)\n",
    "class Autoencoder(nn.Module):\n",
    "\tdef __init__(self, input_dim, encoding_dim):\n",
    "\t\tsuper(Autoencoder, self).__init__()\n",
    "\t\tself.encoder = nn.Sequential(\n",
    "\t\t\tnn.Linear(input_dim, encoding_dim * 2),\n",
    "\t\t\tnn.LeakyReLU(0.01),  \n",
    "\t\t\tnn.Linear(encoding_dim * 2, encoding_dim),\n",
    "\t\t\tnn.LeakyReLU(0.01)   \n",
    "\t\t)\n",
    "\t\tself.decoder = nn.Sequential(\n",
    "\t\t\tnn.Linear(encoding_dim, encoding_dim * 2),\n",
    "\t\t\tnn.LeakyReLU(0.01),  \n",
    "\t\t\tnn.Linear(encoding_dim * 2, input_dim),\n",
    "\t\t\tnn.Sigmoid()\n",
    "\t\t)\n",
    "\t\t\n",
    "\tdef forward(self, x):\n",
    "\t\tencoded = self.encoder(x)\n",
    "\t\tdecoded = self.decoder(encoded)\n",
    "\t\treturn decoded\n",
    "\n",
    "input_dim = X_train_tensor.shape[1]\n",
    "# Dimensionality of the latent space\n",
    "encoding_dim = 10 \n",
    "\n",
    "model = Autoencoder(input_dim, encoding_dim)\n",
    "display(\"\\nAutoencoder Model Summary (PyTorch):\")\n",
    "display(model) \n",
    "\n",
    "# Define Loss function and Optimiser\n",
    "criterion = nn.MSELoss()\n",
    "optimizer = optim.Adam(model.parameters(), lr=0.001)\n",
    "\n",
    "# Training the Autoencoder\n",
    "epochs = 50\n",
    "display(f\"\\nTraining Autoencoder for {epochs} epochs...\")\n",
    "\n",
    "# Check for GPU\n",
    "device = torch.device(\"cuda\" if torch.cuda.is_available() else \"cpu\")\n",
    "model.to(device)\n",
    "display(f\"Using device: {device}\")\n",
    "\n",
    "for epoch in range(epochs):\n",
    "\tmodel.train() \n",
    "\trunning_loss = 0.0\n",
    "\tfor data_batch, _ in train_loader:\n",
    "\t\tdata_batch = data_batch.to(device)\n",
    "\n",
    "\t\toptimizer.zero_grad() \n",
    "\t\toutputs = model(data_batch) \n",
    "\t\tloss = criterion(outputs, data_batch) \n",
    "\t\tloss.backward() \n",
    "\t\toptimizer.step() \n",
    "\n",
    "\t\trunning_loss += loss.item() * data_batch.size(0)\n",
    "\n",
    "\ttrain_loss = running_loss / len(train_dataset)\n",
    "\n",
    "\t# Validation phase\n",
    "\tmodel.eval() \n",
    "\tval_loss = 0.0\n",
    "\twith torch.no_grad(): \n",
    "\t\tfor data_batch_val, _ in val_loader:\n",
    "\t\t\tdata_batch_val = data_batch_val.to(device)\n",
    "\t\t\toutputs_val = model(data_batch_val)\n",
    "\t\t\tloss_val = criterion(outputs_val, data_batch_val)\n",
    "\t\t\tval_loss += loss_val.item() * data_batch_val.size(0)\n",
    "\tval_loss = val_loss / len(val_dataset)\n",
    "\n",
    "\tdisplay(f'Epoch {epoch+1}/{epochs}, Train Loss: {train_loss:.4f}, Val Loss: {val_loss:.4f}')\n",
    "\n",
    "display(\"\\nTraining complete.\")\n",
    "\n",
    "# Calculate Reconstruction Error (PyTorch) \n",
    "model.eval() \n",
    "all_reconstructions = []\n",
    "with torch.no_grad():\n",
    "\tfor i in range(0, len(scaled_data_tensor), batch_size):\n",
    "\t\tbatch = scaled_data_tensor[i:i + batch_size].to(device)\n",
    "\t\treconstructed_batch = model(batch)\n",
    "\t\tall_reconstructions.append(reconstructed_batch.cpu().numpy())\n",
    "\n",
    "reconstructions_np = np.vstack(all_reconstructions)\n",
    "\n",
    "# Calculate Mean Squared Error (MSE) between original and reconstructed data\n",
    "reconstruction_errors = np.mean(np.square(scaled_data_np - reconstructions_np), axis=1)\n",
    "\n",
    "# Z-scoring the Reconstruction Error\n",
    "z_scored_reconstruction_errors = zscore(reconstruction_errors)\n",
    "\n",
    "# Add the z-scored errors to the original dataframe\n",
    "df['ae_reconstruction_error_zscore'] = z_scored_reconstruction_errors\n",
    "\n",
    "display(\"\\nReconstruction errors calculated and z-scored.\")\n",
    "display(\"First 10 reviews with their z-scored autoencoder reconstruction error:\")\n",
    "display(df[['ae_reconstruction_error_zscore'] + features].head(10))\n",
    "\n",
    "# Identify potential anomalies\n",
    "threshold = 2.0\n",
    "anomalies = df[df['ae_reconstruction_error_zscore'] > threshold]\n",
    "display(f\"\\nNumber of potential anomalies (z-score > {threshold}): {len(anomalies)}\")\n",
    "\n",
    "# Display more anomalies and all of their original features (For viewing purposes)\n",
    "if not anomalies.empty:\n",
    "\tprint(\"\\nDisplaying the top 20 anomalies with all their features (sorted by anomaly score):\")\n",
    "\n",
    "\tpd.set_option('display.max_rows', 50)       \n",
    "\tpd.set_option('display.max_columns', None)   \n",
    "\tpd.set_option('display.width', 1000)          \n",
    "\tpd.set_option('display.max_colwidth', 150)    \n",
    "\n",
    "\t# Sort by the anomaly score to see the most anomalous first and show the top 20\n",
    "\tprint(anomalies.sort_values(by='ae_reconstruction_error_zscore', ascending=False).head(20))\n",
    "\n",
    "else:\n",
    "\tprint(\"\\nNo anomalies detected above the specified threshold.\")\n",
    "\n",
    "# Investigating the Latent Space\n",
    "print(\"\\n--- Investigating the Latent Space ---\")\n",
    "\n",
    "model.eval()\n",
    "with torch.no_grad():\n",
    "\tencoded_data_tensor = model.encoder(scaled_data_tensor.to(device))\n",
    "\tencoded_data_np = encoded_data_tensor.cpu().numpy()\n",
    "\n",
    "# Create a DataFrame for the encoded dimensions\n",
    "encoded_df = pd.DataFrame(encoded_data_np, columns=[f'latent_dim_{i+1}' for i in range(encoding_dim)])\n",
    "\n",
    "# Combine with the original (unscaled) features to make interpretation easier\n",
    "combined_df = pd.concat([df[features].reset_index(drop=True), encoded_df], axis=1)\n",
    "\n",
    "# Calculate the correlation matrix\n",
    "correlation_matrix = combined_df.corr()\n",
    "\n",
    "# Get the correlation of each latent dimension with the original features\n",
    "latent_correlations = correlation_matrix[encoded_df.columns].loc[features]\n",
    "\n",
    "print(\"\\nCorrelation of Latent Dimensions with Original Features:\")\n",
    "print(latent_correlations)\n",
    "print(\"\\nStandard Deviation of each Latent Dimension:\")\n",
    "print(encoded_df.std())"
   ]
  },
  {
   "cell_type": "code",
   "execution_count": null,
   "id": "109f385d",
   "metadata": {},
   "outputs": [],
   "source": []
  }
 ],
 "metadata": {
  "kernelspec": {
   "display_name": "TikTok-Challenge-2025",
   "language": "python",
   "name": "python3"
  },
  "language_info": {
   "codemirror_mode": {
    "name": "ipython",
    "version": 3
   },
   "file_extension": ".py",
   "mimetype": "text/x-python",
   "name": "python",
   "nbconvert_exporter": "python",
   "pygments_lexer": "ipython3",
   "version": "3.13.5"
  }
 },
 "nbformat": 4,
 "nbformat_minor": 5
}
