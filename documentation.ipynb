{
 "cells": [
  {
   "cell_type": "markdown",
   "id": "b14ab675",
   "metadata": {},
   "source": [
    "## Install and Import Necessary Packages"
   ]
  },
  {
   "cell_type": "code",
   "execution_count": 4,
   "id": "35c4c4fd",
   "metadata": {},
   "outputs": [],
   "source": [
    "# pip install pandas \n",
    "# pip install \n",
    "# pip install numpy \n",
    "# pip install scikit-learn \n",
    "# pip install scipy \n",
    "# pip install torch"
   ]
  },
  {
   "cell_type": "code",
   "execution_count": 5,
   "id": "57fef30f",
   "metadata": {},
   "outputs": [],
   "source": [
    "import pandas as pd\n",
    "import numpy as np\n",
    "from sklearn.preprocessing import MinMaxScaler\n",
    "from sklearn.model_selection import train_test_split\n",
    "from scipy.stats import zscore\n",
    "import os\n",
    "\n",
    "import torch\n",
    "import torch.nn as nn\n",
    "import torch.optim as optim\n",
    "from torch.utils.data import TensorDataset, DataLoader"
   ]
  },
  {
   "cell_type": "markdown",
   "id": "1a2fabc6",
   "metadata": {},
   "source": [
    "## Loading of data"
   ]
  },
  {
   "cell_type": "markdown",
   "id": "d735e233",
   "metadata": {},
   "source": [
    "Read the cleaned dataset: final-dataset.parquet"
   ]
  },
  {
   "cell_type": "code",
   "execution_count": 12,
   "id": "5afb8112",
   "metadata": {},
   "outputs": [
    {
     "data": {
      "text/plain": [
       "\"Successfully loaded 'final_dataset.parquet'. Shape: (26622, 36)\""
      ]
     },
     "metadata": {},
     "output_type": "display_data"
    },
    {
     "name": "stdout",
     "output_type": "stream",
     "text": [
      "Number of rows (lines): 26622\n"
     ]
    },
    {
     "data": {
      "text/plain": [
       "'First 5 rows of the dataset:'"
      ]
     },
     "metadata": {},
     "output_type": "display_data"
    },
    {
     "data": {
      "text/html": [
       "<div>\n",
       "<style scoped>\n",
       "    .dataframe tbody tr th:only-of-type {\n",
       "        vertical-align: middle;\n",
       "    }\n",
       "\n",
       "    .dataframe tbody tr th {\n",
       "        vertical-align: top;\n",
       "    }\n",
       "\n",
       "    .dataframe thead th {\n",
       "        text-align: right;\n",
       "    }\n",
       "</style>\n",
       "<table border=\"1\" class=\"dataframe\">\n",
       "  <thead>\n",
       "    <tr style=\"text-align: right;\">\n",
       "      <th></th>\n",
       "      <th>user_id</th>\n",
       "      <th>name_review_user</th>\n",
       "      <th>time</th>\n",
       "      <th>rating</th>\n",
       "      <th>text</th>\n",
       "      <th>gmap_id</th>\n",
       "      <th>latitude</th>\n",
       "      <th>longitude</th>\n",
       "      <th>category</th>\n",
       "      <th>avg_rating</th>\n",
       "      <th>num_of_reviews</th>\n",
       "      <th>price</th>\n",
       "      <th>state</th>\n",
       "      <th>category_main</th>\n",
       "      <th>cat_American restaurant</th>\n",
       "      <th>cat_Coffee shop</th>\n",
       "      <th>cat_Department store</th>\n",
       "      <th>cat_Fast food restaurant</th>\n",
       "      <th>cat_Grocery store</th>\n",
       "      <th>cat_Hotel</th>\n",
       "      <th>cat_Mexican restaurant</th>\n",
       "      <th>cat_Other</th>\n",
       "      <th>cat_Pizza restaurant</th>\n",
       "      <th>cat_Restaurant</th>\n",
       "      <th>cat_Shopping mall</th>\n",
       "      <th>price_encoded</th>\n",
       "      <th>year</th>\n",
       "      <th>month</th>\n",
       "      <th>weekday</th>\n",
       "      <th>hour</th>\n",
       "      <th>text_len</th>\n",
       "      <th>log_num_reviews</th>\n",
       "      <th>rating_deviation</th>\n",
       "      <th>sentiment_polarity</th>\n",
       "      <th>sentiment_subjectivity</th>\n",
       "      <th>excessive_exclaim</th>\n",
       "    </tr>\n",
       "  </thead>\n",
       "  <tbody>\n",
       "    <tr>\n",
       "      <th>0</th>\n",
       "      <td>107813727678662505612</td>\n",
       "      <td>Felicia Wall</td>\n",
       "      <td>1575939675467</td>\n",
       "      <td>5</td>\n",
       "      <td>Coffee is great and so is the service</td>\n",
       "      <td>0x56c67c7da439c267:0x72f12aacd98f7f2e</td>\n",
       "      <td>60.561418</td>\n",
       "      <td>-151.285291</td>\n",
       "      <td>[Cafe]</td>\n",
       "      <td>4.6</td>\n",
       "      <td>72</td>\n",
       "      <td>None</td>\n",
       "      <td>Open ⋅ Closes 3PM</td>\n",
       "      <td>Cafe</td>\n",
       "      <td>False</td>\n",
       "      <td>False</td>\n",
       "      <td>False</td>\n",
       "      <td>False</td>\n",
       "      <td>False</td>\n",
       "      <td>False</td>\n",
       "      <td>False</td>\n",
       "      <td>True</td>\n",
       "      <td>False</td>\n",
       "      <td>False</td>\n",
       "      <td>False</td>\n",
       "      <td>0</td>\n",
       "      <td>2019</td>\n",
       "      <td>12</td>\n",
       "      <td>1</td>\n",
       "      <td>1</td>\n",
       "      <td>37</td>\n",
       "      <td>4.290459</td>\n",
       "      <td>0.4</td>\n",
       "      <td>0.800000</td>\n",
       "      <td>0.750000</td>\n",
       "      <td>False</td>\n",
       "    </tr>\n",
       "    <tr>\n",
       "      <th>1</th>\n",
       "      <td>103473424444871906765</td>\n",
       "      <td>Garry Hanley</td>\n",
       "      <td>1602702499311</td>\n",
       "      <td>5</td>\n",
       "      <td>Easy in and out experience.  Reasonable pricing for the convenience.  We use them for most all our DMV needs.</td>\n",
       "      <td>0x56c899de8ee5d2a5:0xb15f3c48a1dc94f0</td>\n",
       "      <td>61.137792</td>\n",
       "      <td>-149.836917</td>\n",
       "      <td>[Department of motor vehicles, Auto tag agency, State government office]</td>\n",
       "      <td>4.2</td>\n",
       "      <td>114</td>\n",
       "      <td>None</td>\n",
       "      <td>Closed ⋅ Opens 9AM</td>\n",
       "      <td>Department of motor vehicles</td>\n",
       "      <td>False</td>\n",
       "      <td>False</td>\n",
       "      <td>False</td>\n",
       "      <td>False</td>\n",
       "      <td>False</td>\n",
       "      <td>False</td>\n",
       "      <td>False</td>\n",
       "      <td>True</td>\n",
       "      <td>False</td>\n",
       "      <td>False</td>\n",
       "      <td>False</td>\n",
       "      <td>0</td>\n",
       "      <td>2020</td>\n",
       "      <td>10</td>\n",
       "      <td>2</td>\n",
       "      <td>19</td>\n",
       "      <td>109</td>\n",
       "      <td>4.744932</td>\n",
       "      <td>0.8</td>\n",
       "      <td>0.377778</td>\n",
       "      <td>0.644444</td>\n",
       "      <td>False</td>\n",
       "    </tr>\n",
       "    <tr>\n",
       "      <th>2</th>\n",
       "      <td>104393976961042472712</td>\n",
       "      <td>Nathan Harrison</td>\n",
       "      <td>1559438084515</td>\n",
       "      <td>4</td>\n",
       "      <td>Great lunch, service could be better as there wasn't many people there.</td>\n",
       "      <td>0x56c894263c293e31:0x39aa7cb841273597</td>\n",
       "      <td>61.228926</td>\n",
       "      <td>-149.741000</td>\n",
       "      <td>[Restaurant, Brewpub, Pizza restaurant, Sports bar]</td>\n",
       "      <td>3.9</td>\n",
       "      <td>648</td>\n",
       "      <td>$$</td>\n",
       "      <td>None</td>\n",
       "      <td>Restaurant</td>\n",
       "      <td>False</td>\n",
       "      <td>False</td>\n",
       "      <td>False</td>\n",
       "      <td>False</td>\n",
       "      <td>False</td>\n",
       "      <td>False</td>\n",
       "      <td>False</td>\n",
       "      <td>False</td>\n",
       "      <td>False</td>\n",
       "      <td>True</td>\n",
       "      <td>False</td>\n",
       "      <td>2</td>\n",
       "      <td>2019</td>\n",
       "      <td>6</td>\n",
       "      <td>6</td>\n",
       "      <td>1</td>\n",
       "      <td>71</td>\n",
       "      <td>6.475433</td>\n",
       "      <td>0.1</td>\n",
       "      <td>0.600000</td>\n",
       "      <td>0.583333</td>\n",
       "      <td>False</td>\n",
       "    </tr>\n",
       "    <tr>\n",
       "      <th>3</th>\n",
       "      <td>110829207026204377440</td>\n",
       "      <td>Terry Oakes</td>\n",
       "      <td>1578766259352</td>\n",
       "      <td>3</td>\n",
       "      <td>Small portions and do not give you what the menu lists.</td>\n",
       "      <td>0x51325b0542590ed1:0xaba794ec633521ef</td>\n",
       "      <td>64.821774</td>\n",
       "      <td>-147.713617</td>\n",
       "      <td>[Restaurant]</td>\n",
       "      <td>4.2</td>\n",
       "      <td>125</td>\n",
       "      <td>None</td>\n",
       "      <td>Closed ⋅ Opens 11AM Sun</td>\n",
       "      <td>Restaurant</td>\n",
       "      <td>False</td>\n",
       "      <td>False</td>\n",
       "      <td>False</td>\n",
       "      <td>False</td>\n",
       "      <td>False</td>\n",
       "      <td>False</td>\n",
       "      <td>False</td>\n",
       "      <td>False</td>\n",
       "      <td>False</td>\n",
       "      <td>True</td>\n",
       "      <td>False</td>\n",
       "      <td>0</td>\n",
       "      <td>2020</td>\n",
       "      <td>1</td>\n",
       "      <td>5</td>\n",
       "      <td>18</td>\n",
       "      <td>55</td>\n",
       "      <td>4.836282</td>\n",
       "      <td>-1.2</td>\n",
       "      <td>-0.250000</td>\n",
       "      <td>0.400000</td>\n",
       "      <td>False</td>\n",
       "    </tr>\n",
       "    <tr>\n",
       "      <th>4</th>\n",
       "      <td>108158723955787868825</td>\n",
       "      <td>Lee Petersen</td>\n",
       "      <td>1501725448031</td>\n",
       "      <td>4</td>\n",
       "      <td>Nice gym, what I expect from a Planet Fitness. Bathrooms and locker rooms are clean. Good variety of machines. Sometimes a bit crowded, but not to...</td>\n",
       "      <td>0x51325acaa661fa4d:0xa0cf5a8e5d34cbde</td>\n",
       "      <td>64.835650</td>\n",
       "      <td>-147.742050</td>\n",
       "      <td>[Gym, Fitness center, Personal trainer, Spa and health club, Tanning salon]</td>\n",
       "      <td>4.1</td>\n",
       "      <td>208</td>\n",
       "      <td>None</td>\n",
       "      <td>Open 24 hours</td>\n",
       "      <td>Gym</td>\n",
       "      <td>False</td>\n",
       "      <td>False</td>\n",
       "      <td>False</td>\n",
       "      <td>False</td>\n",
       "      <td>False</td>\n",
       "      <td>False</td>\n",
       "      <td>False</td>\n",
       "      <td>True</td>\n",
       "      <td>False</td>\n",
       "      <td>False</td>\n",
       "      <td>False</td>\n",
       "      <td>0</td>\n",
       "      <td>2017</td>\n",
       "      <td>8</td>\n",
       "      <td>3</td>\n",
       "      <td>1</td>\n",
       "      <td>152</td>\n",
       "      <td>5.342334</td>\n",
       "      <td>-0.1</td>\n",
       "      <td>0.241667</td>\n",
       "      <td>0.741667</td>\n",
       "      <td>False</td>\n",
       "    </tr>\n",
       "  </tbody>\n",
       "</table>\n",
       "</div>"
      ],
      "text/plain": [
       "                 user_id name_review_user           time  rating                                                                                                                                                   text                                gmap_id   latitude   longitude                                                                     category  avg_rating  num_of_reviews price                    state                 category_main  cat_American restaurant  cat_Coffee shop  cat_Department store  cat_Fast food restaurant  cat_Grocery store  cat_Hotel  cat_Mexican restaurant  cat_Other  cat_Pizza restaurant  cat_Restaurant  cat_Shopping mall  price_encoded  year  month  weekday  hour  text_len  log_num_reviews  rating_deviation  sentiment_polarity  sentiment_subjectivity  excessive_exclaim\n",
       "0  107813727678662505612     Felicia Wall  1575939675467       5                                                                                                                  Coffee is great and so is the service  0x56c67c7da439c267:0x72f12aacd98f7f2e  60.561418 -151.285291                                                                       [Cafe]         4.6              72  None        Open ⋅ Closes 3PM                          Cafe                    False            False                 False                     False              False      False                   False       True                 False           False              False              0  2019     12        1     1        37         4.290459               0.4            0.800000                0.750000              False\n",
       "1  103473424444871906765     Garry Hanley  1602702499311       5                                          Easy in and out experience.  Reasonable pricing for the convenience.  We use them for most all our DMV needs.  0x56c899de8ee5d2a5:0xb15f3c48a1dc94f0  61.137792 -149.836917     [Department of motor vehicles, Auto tag agency, State government office]         4.2             114  None       Closed ⋅ Opens 9AM  Department of motor vehicles                    False            False                 False                     False              False      False                   False       True                 False           False              False              0  2020     10        2    19       109         4.744932               0.8            0.377778                0.644444              False\n",
       "2  104393976961042472712  Nathan Harrison  1559438084515       4                                                                                Great lunch, service could be better as there wasn't many people there.  0x56c894263c293e31:0x39aa7cb841273597  61.228926 -149.741000                          [Restaurant, Brewpub, Pizza restaurant, Sports bar]         3.9             648    $$                     None                    Restaurant                    False            False                 False                     False              False      False                   False      False                 False            True              False              2  2019      6        6     1        71         6.475433               0.1            0.600000                0.583333              False\n",
       "3  110829207026204377440      Terry Oakes  1578766259352       3                                                                                                Small portions and do not give you what the menu lists.  0x51325b0542590ed1:0xaba794ec633521ef  64.821774 -147.713617                                                                 [Restaurant]         4.2             125  None  Closed ⋅ Opens 11AM Sun                    Restaurant                    False            False                 False                     False              False      False                   False      False                 False            True              False              0  2020      1        5    18        55         4.836282              -1.2           -0.250000                0.400000              False\n",
       "4  108158723955787868825     Lee Petersen  1501725448031       4  Nice gym, what I expect from a Planet Fitness. Bathrooms and locker rooms are clean. Good variety of machines. Sometimes a bit crowded, but not to...  0x51325acaa661fa4d:0xa0cf5a8e5d34cbde  64.835650 -147.742050  [Gym, Fitness center, Personal trainer, Spa and health club, Tanning salon]         4.1             208  None            Open 24 hours                           Gym                    False            False                 False                     False              False      False                   False       True                 False           False              False              0  2017      8        3     1       152         5.342334              -0.1            0.241667                0.741667              False"
      ]
     },
     "metadata": {},
     "output_type": "display_data"
    }
   ],
   "source": [
    "file_path = 'final_dataset.parquet'\n",
    "\n",
    "if not os.path.exists(file_path):\n",
    "\tdisplay(f\"Error: The file '{file_path}' was not found. Please ensure it's in the correct directory.\")\n",
    "\texit() \n",
    "else:\n",
    "\ttry:\n",
    "\t\tdf = pd.read_parquet(file_path)\n",
    "\t\tdisplay(f\"Successfully loaded '{file_path}'. Shape: {df.shape}\")\n",
    "\t\tprint(f\"Number of rows (lines): {df.shape[0]}\")\n",
    "\t\tdisplay(\"First 5 rows of the dataset:\")\n",
    "\t\tdisplay(df.head())\n",
    "\texcept Exception as e:\n",
    "\t\tdisplay(f\"Error loading Parquet file: {e}\")\n",
    "\t\texit() "
   ]
  },
  {
   "cell_type": "markdown",
   "id": "ceb8b8af",
   "metadata": {},
   "source": [
    "## Data reprocessing"
   ]
  },
  {
   "cell_type": "markdown",
   "id": "a4fbb616",
   "metadata": {},
   "source": [
    "Prepare the data for the autoencoder by defining a list of relevant features. Then, we use `MinMaxScaler` to normalise the data,and then convert it to PyTorch tensors and DataLoaders for efficient batch processing during training."
   ]
  },
  {
   "cell_type": "code",
   "execution_count": 13,
   "id": "d90365e0",
   "metadata": {},
   "outputs": [],
   "source": [
    "# Feature Selection \n",
    "features = [\n",
    "\t'rating',\n",
    "\t'text_len',\n",
    "\t'rating_deviation',\n",
    "\t'sentiment_polarity',\n",
    "\t'sentiment_subjectivity',\n",
    "\t'excessive_exclaim',\n",
    "\t'avg_rating',\n",
    "\t#'num_of_reviews',\n",
    "\t'log_num_reviews',\n",
    "\t# 'latitude',\n",
    "\t# 'longitude',\n",
    "\t'price_encoded',\n",
    "\t'year',\n",
    "\t'month',\n",
    "\t'weekday',\n",
    "\t'hour',\n",
    "\t'cat_American restaurant',\n",
    "\t'cat_Coffee shop',\n",
    "\t'cat_Department store',\n",
    "\t'cat_Fast food restaurant',\n",
    "\t'cat_Grocery store',\n",
    "\t'cat_Hotel',\n",
    "\t'cat_Mexican restaurant',\n",
    "\t'cat_Other',\n",
    "\t'cat_Pizza restaurant',\n",
    "\t'cat_Restaurant',\n",
    "\t'cat_Shopping mall'\n",
    "]\n",
    "\n",
    "# Check if all required features exist in the DataFrame\n",
    "missing_features = [f for f in features if f not in df.columns]\n",
    "if missing_features:\n",
    "\tdisplay(f\"Error: Missing required features in the dataset: {missing_features}\")\n",
    "\tdisplay(\"Please ensure your 'final_dataset.parquet' contains these columns.\")\n",
    "\tfeatures = [f for f in features if f in df.columns] \n",
    "\tif not features:\n",
    "\t\tdisplay(\"No valid features remaining. Exiting.\")\n",
    "\t\texit()\n",
    "\telse:\n",
    "\t\tdisplay(f\"Proceeding with available features: {features}\")\n",
    "\n",
    "data = df[features].copy()\n",
    "\n",
    "\n",
    "# Data Preprocessing (Scaling)\n",
    "scaler = MinMaxScaler()\n",
    "scaled_data_np = scaler.fit_transform(data) \n",
    "\n",
    "# Convert to PyTorch tensors\n",
    "scaled_data_tensor = torch.tensor(scaled_data_np, dtype=torch.float32)\n",
    "\n",
    "# Split data into training and validation sets\n",
    "X_train_tensor, X_val_tensor = train_test_split(scaled_data_tensor, test_size=0.2, random_state=42)\n",
    "\n",
    "# Create DataLoader for batching\n",
    "batch_size = 32\n",
    "train_dataset = TensorDataset(X_train_tensor, X_train_tensor) \n",
    "train_loader = DataLoader(train_dataset, batch_size=batch_size, shuffle=True)\n",
    "\n",
    "val_dataset = TensorDataset(X_val_tensor, X_val_tensor)\n",
    "val_loader = DataLoader(val_dataset, batch_size=batch_size, shuffle=False)\n"
   ]
  },
  {
   "cell_type": "markdown",
   "id": "fb7040da",
   "metadata": {},
   "source": [
    "## Autoencoder Model Definition (PyTorch)"
   ]
  },
  {
   "cell_type": "markdown",
   "id": "6e022153",
   "metadata": {},
   "source": [
    "Define the Autoencoder model using PyTorch's `nn.Module`.\n",
    "\n",
    "The autoencoder will perform a reconstruction task, mapping an input vector x to an output vector x'. The core principle of anomaly detection with autoencoders is that the model learns to minimise the reconstruction loss (e.g., Mean Squared Error) for the normal data on which it is trained.\n",
    "\n",
    "Dimensionality of the latent space chosen is 10. This means the model's encoder component is configured to compress the input data—which has 24 features—into a dense, 10-dimensional vector."
   ]
  },
  {
   "cell_type": "code",
   "execution_count": 14,
   "id": "6f5fb75c",
   "metadata": {},
   "outputs": [
    {
     "data": {
      "text/plain": [
       "'\\nAutoencoder Model Summary (PyTorch):'"
      ]
     },
     "metadata": {},
     "output_type": "display_data"
    },
    {
     "data": {
      "text/plain": [
       "Autoencoder(\n",
       "  (encoder): Sequential(\n",
       "    (0): Linear(in_features=24, out_features=20, bias=True)\n",
       "    (1): LeakyReLU(negative_slope=0.01)\n",
       "    (2): Linear(in_features=20, out_features=10, bias=True)\n",
       "    (3): LeakyReLU(negative_slope=0.01)\n",
       "  )\n",
       "  (decoder): Sequential(\n",
       "    (0): Linear(in_features=10, out_features=20, bias=True)\n",
       "    (1): LeakyReLU(negative_slope=0.01)\n",
       "    (2): Linear(in_features=20, out_features=24, bias=True)\n",
       "    (3): Sigmoid()\n",
       "  )\n",
       ")"
      ]
     },
     "metadata": {},
     "output_type": "display_data"
    }
   ],
   "source": [
    "# Autoencoder Model Definition (PyTorch)\n",
    "class Autoencoder(nn.Module):\n",
    "\tdef __init__(self, input_dim, encoding_dim):\n",
    "\t\tsuper(Autoencoder, self).__init__()\n",
    "\t\tself.encoder = nn.Sequential(\n",
    "\t\t\tnn.Linear(input_dim, encoding_dim * 2),\n",
    "\t\t\tnn.LeakyReLU(0.01),  \n",
    "\t\t\tnn.Linear(encoding_dim * 2, encoding_dim),\n",
    "\t\t\tnn.LeakyReLU(0.01)   \n",
    "\t\t)\n",
    "\t\tself.decoder = nn.Sequential(\n",
    "\t\t\tnn.Linear(encoding_dim, encoding_dim * 2),\n",
    "\t\t\tnn.LeakyReLU(0.01),  \n",
    "\t\t\tnn.Linear(encoding_dim * 2, input_dim),\n",
    "\t\t\tnn.Sigmoid()\n",
    "\t\t)\n",
    "\t\t\n",
    "\tdef forward(self, x):\n",
    "\t\tencoded = self.encoder(x)\n",
    "\t\tdecoded = self.decoder(encoded)\n",
    "\t\treturn decoded\n",
    "\n",
    "input_dim = X_train_tensor.shape[1]\n",
    "# Dimensionality of the latent space\n",
    "encoding_dim = 10 \n",
    "\n",
    "model = Autoencoder(input_dim, encoding_dim)\n",
    "display(\"\\nAutoencoder Model Summary (PyTorch):\")\n",
    "display(model) \n",
    "\n",
    "# Define Loss function and Optimiser\n",
    "criterion = nn.MSELoss()\n",
    "optimizer = optim.Adam(model.parameters(), lr=0.001)"
   ]
  },
  {
   "cell_type": "markdown",
   "id": "d6ffcc3b",
   "metadata": {},
   "source": [
    "## Training the Autoencoder"
   ]
  },
  {
   "cell_type": "markdown",
   "id": "c45ca392",
   "metadata": {},
   "source": [
    "\n",
    "Train the model by iterating over the dataset for a number of epochs. In each epoch, perform a forward pass to get the reconstructed output, calculate the mean squared error (MSE) as our loss, and then backpropagate the loss to update the model weights.\n",
    "\n",
    "A validation set is used to monitor the model's performance on unseen data and ensure it's not overfitting.\n"
   ]
  },
  {
   "cell_type": "code",
   "execution_count": 15,
   "id": "73a0475c",
   "metadata": {},
   "outputs": [
    {
     "data": {
      "text/plain": [
       "'\\nTraining Autoencoder for 50 epochs...'"
      ]
     },
     "metadata": {},
     "output_type": "display_data"
    },
    {
     "data": {
      "text/plain": [
       "'Using device: cpu'"
      ]
     },
     "metadata": {},
     "output_type": "display_data"
    },
    {
     "data": {
      "text/plain": [
       "'Epoch 1/50, Train Loss: 0.0572, Val Loss: 0.0351'"
      ]
     },
     "metadata": {},
     "output_type": "display_data"
    },
    {
     "data": {
      "text/plain": [
       "'Epoch 2/50, Train Loss: 0.0266, Val Loss: 0.0186'"
      ]
     },
     "metadata": {},
     "output_type": "display_data"
    },
    {
     "data": {
      "text/plain": [
       "'Epoch 3/50, Train Loss: 0.0162, Val Loss: 0.0136'"
      ]
     },
     "metadata": {},
     "output_type": "display_data"
    },
    {
     "data": {
      "text/plain": [
       "'Epoch 4/50, Train Loss: 0.0123, Val Loss: 0.0109'"
      ]
     },
     "metadata": {},
     "output_type": "display_data"
    },
    {
     "data": {
      "text/plain": [
       "'Epoch 5/50, Train Loss: 0.0104, Val Loss: 0.0094'"
      ]
     },
     "metadata": {},
     "output_type": "display_data"
    },
    {
     "data": {
      "text/plain": [
       "'Epoch 6/50, Train Loss: 0.0092, Val Loss: 0.0082'"
      ]
     },
     "metadata": {},
     "output_type": "display_data"
    },
    {
     "data": {
      "text/plain": [
       "'Epoch 7/50, Train Loss: 0.0078, Val Loss: 0.0070'"
      ]
     },
     "metadata": {},
     "output_type": "display_data"
    },
    {
     "data": {
      "text/plain": [
       "'Epoch 8/50, Train Loss: 0.0068, Val Loss: 0.0062'"
      ]
     },
     "metadata": {},
     "output_type": "display_data"
    },
    {
     "data": {
      "text/plain": [
       "'Epoch 9/50, Train Loss: 0.0062, Val Loss: 0.0057'"
      ]
     },
     "metadata": {},
     "output_type": "display_data"
    },
    {
     "data": {
      "text/plain": [
       "'Epoch 10/50, Train Loss: 0.0057, Val Loss: 0.0055'"
      ]
     },
     "metadata": {},
     "output_type": "display_data"
    },
    {
     "data": {
      "text/plain": [
       "'Epoch 11/50, Train Loss: 0.0054, Val Loss: 0.0051'"
      ]
     },
     "metadata": {},
     "output_type": "display_data"
    },
    {
     "data": {
      "text/plain": [
       "'Epoch 12/50, Train Loss: 0.0050, Val Loss: 0.0047'"
      ]
     },
     "metadata": {},
     "output_type": "display_data"
    },
    {
     "data": {
      "text/plain": [
       "'Epoch 13/50, Train Loss: 0.0046, Val Loss: 0.0044'"
      ]
     },
     "metadata": {},
     "output_type": "display_data"
    },
    {
     "data": {
      "text/plain": [
       "'Epoch 14/50, Train Loss: 0.0044, Val Loss: 0.0042'"
      ]
     },
     "metadata": {},
     "output_type": "display_data"
    },
    {
     "data": {
      "text/plain": [
       "'Epoch 15/50, Train Loss: 0.0042, Val Loss: 0.0040'"
      ]
     },
     "metadata": {},
     "output_type": "display_data"
    },
    {
     "data": {
      "text/plain": [
       "'Epoch 16/50, Train Loss: 0.0041, Val Loss: 0.0038'"
      ]
     },
     "metadata": {},
     "output_type": "display_data"
    },
    {
     "data": {
      "text/plain": [
       "'Epoch 17/50, Train Loss: 0.0040, Val Loss: 0.0038'"
      ]
     },
     "metadata": {},
     "output_type": "display_data"
    },
    {
     "data": {
      "text/plain": [
       "'Epoch 18/50, Train Loss: 0.0039, Val Loss: 0.0036'"
      ]
     },
     "metadata": {},
     "output_type": "display_data"
    },
    {
     "data": {
      "text/plain": [
       "'Epoch 19/50, Train Loss: 0.0038, Val Loss: 0.0036'"
      ]
     },
     "metadata": {},
     "output_type": "display_data"
    },
    {
     "data": {
      "text/plain": [
       "'Epoch 20/50, Train Loss: 0.0037, Val Loss: 0.0036'"
      ]
     },
     "metadata": {},
     "output_type": "display_data"
    },
    {
     "data": {
      "text/plain": [
       "'Epoch 21/50, Train Loss: 0.0037, Val Loss: 0.0035'"
      ]
     },
     "metadata": {},
     "output_type": "display_data"
    },
    {
     "data": {
      "text/plain": [
       "'Epoch 22/50, Train Loss: 0.0036, Val Loss: 0.0035'"
      ]
     },
     "metadata": {},
     "output_type": "display_data"
    },
    {
     "data": {
      "text/plain": [
       "'Epoch 23/50, Train Loss: 0.0036, Val Loss: 0.0034'"
      ]
     },
     "metadata": {},
     "output_type": "display_data"
    },
    {
     "data": {
      "text/plain": [
       "'Epoch 24/50, Train Loss: 0.0035, Val Loss: 0.0033'"
      ]
     },
     "metadata": {},
     "output_type": "display_data"
    },
    {
     "data": {
      "text/plain": [
       "'Epoch 25/50, Train Loss: 0.0034, Val Loss: 0.0033'"
      ]
     },
     "metadata": {},
     "output_type": "display_data"
    },
    {
     "data": {
      "text/plain": [
       "'Epoch 26/50, Train Loss: 0.0034, Val Loss: 0.0032'"
      ]
     },
     "metadata": {},
     "output_type": "display_data"
    },
    {
     "data": {
      "text/plain": [
       "'Epoch 27/50, Train Loss: 0.0033, Val Loss: 0.0032'"
      ]
     },
     "metadata": {},
     "output_type": "display_data"
    },
    {
     "data": {
      "text/plain": [
       "'Epoch 28/50, Train Loss: 0.0033, Val Loss: 0.0031'"
      ]
     },
     "metadata": {},
     "output_type": "display_data"
    },
    {
     "data": {
      "text/plain": [
       "'Epoch 29/50, Train Loss: 0.0032, Val Loss: 0.0030'"
      ]
     },
     "metadata": {},
     "output_type": "display_data"
    },
    {
     "data": {
      "text/plain": [
       "'Epoch 30/50, Train Loss: 0.0031, Val Loss: 0.0030'"
      ]
     },
     "metadata": {},
     "output_type": "display_data"
    },
    {
     "data": {
      "text/plain": [
       "'Epoch 31/50, Train Loss: 0.0031, Val Loss: 0.0029'"
      ]
     },
     "metadata": {},
     "output_type": "display_data"
    },
    {
     "data": {
      "text/plain": [
       "'Epoch 32/50, Train Loss: 0.0030, Val Loss: 0.0029'"
      ]
     },
     "metadata": {},
     "output_type": "display_data"
    },
    {
     "data": {
      "text/plain": [
       "'Epoch 33/50, Train Loss: 0.0030, Val Loss: 0.0029'"
      ]
     },
     "metadata": {},
     "output_type": "display_data"
    },
    {
     "data": {
      "text/plain": [
       "'Epoch 34/50, Train Loss: 0.0029, Val Loss: 0.0028'"
      ]
     },
     "metadata": {},
     "output_type": "display_data"
    },
    {
     "data": {
      "text/plain": [
       "'Epoch 35/50, Train Loss: 0.0029, Val Loss: 0.0028'"
      ]
     },
     "metadata": {},
     "output_type": "display_data"
    },
    {
     "data": {
      "text/plain": [
       "'Epoch 36/50, Train Loss: 0.0029, Val Loss: 0.0028'"
      ]
     },
     "metadata": {},
     "output_type": "display_data"
    },
    {
     "data": {
      "text/plain": [
       "'Epoch 37/50, Train Loss: 0.0028, Val Loss: 0.0028'"
      ]
     },
     "metadata": {},
     "output_type": "display_data"
    },
    {
     "data": {
      "text/plain": [
       "'Epoch 38/50, Train Loss: 0.0028, Val Loss: 0.0027'"
      ]
     },
     "metadata": {},
     "output_type": "display_data"
    },
    {
     "data": {
      "text/plain": [
       "'Epoch 39/50, Train Loss: 0.0028, Val Loss: 0.0027'"
      ]
     },
     "metadata": {},
     "output_type": "display_data"
    },
    {
     "data": {
      "text/plain": [
       "'Epoch 40/50, Train Loss: 0.0027, Val Loss: 0.0026'"
      ]
     },
     "metadata": {},
     "output_type": "display_data"
    },
    {
     "data": {
      "text/plain": [
       "'Epoch 41/50, Train Loss: 0.0027, Val Loss: 0.0026'"
      ]
     },
     "metadata": {},
     "output_type": "display_data"
    },
    {
     "data": {
      "text/plain": [
       "'Epoch 42/50, Train Loss: 0.0027, Val Loss: 0.0026'"
      ]
     },
     "metadata": {},
     "output_type": "display_data"
    },
    {
     "data": {
      "text/plain": [
       "'Epoch 43/50, Train Loss: 0.0026, Val Loss: 0.0026'"
      ]
     },
     "metadata": {},
     "output_type": "display_data"
    },
    {
     "data": {
      "text/plain": [
       "'Epoch 44/50, Train Loss: 0.0026, Val Loss: 0.0025'"
      ]
     },
     "metadata": {},
     "output_type": "display_data"
    },
    {
     "data": {
      "text/plain": [
       "'Epoch 45/50, Train Loss: 0.0026, Val Loss: 0.0025'"
      ]
     },
     "metadata": {},
     "output_type": "display_data"
    },
    {
     "data": {
      "text/plain": [
       "'Epoch 46/50, Train Loss: 0.0026, Val Loss: 0.0025'"
      ]
     },
     "metadata": {},
     "output_type": "display_data"
    },
    {
     "data": {
      "text/plain": [
       "'Epoch 47/50, Train Loss: 0.0025, Val Loss: 0.0025'"
      ]
     },
     "metadata": {},
     "output_type": "display_data"
    },
    {
     "data": {
      "text/plain": [
       "'Epoch 48/50, Train Loss: 0.0025, Val Loss: 0.0025'"
      ]
     },
     "metadata": {},
     "output_type": "display_data"
    },
    {
     "data": {
      "text/plain": [
       "'Epoch 49/50, Train Loss: 0.0025, Val Loss: 0.0025'"
      ]
     },
     "metadata": {},
     "output_type": "display_data"
    },
    {
     "data": {
      "text/plain": [
       "'Epoch 50/50, Train Loss: 0.0025, Val Loss: 0.0024'"
      ]
     },
     "metadata": {},
     "output_type": "display_data"
    },
    {
     "data": {
      "text/plain": [
       "'\\nTraining complete.'"
      ]
     },
     "metadata": {},
     "output_type": "display_data"
    }
   ],
   "source": [
    "# Training the Autoencoder\n",
    "epochs = 50\n",
    "display(f\"\\nTraining Autoencoder for {epochs} epochs...\")\n",
    "\n",
    "# Check for GPU\n",
    "device = torch.device(\"cuda\" if torch.cuda.is_available() else \"cpu\")\n",
    "model.to(device)\n",
    "display(f\"Using device: {device}\")\n",
    "\n",
    "for epoch in range(epochs):\n",
    "\tmodel.train() \n",
    "\trunning_loss = 0.0\n",
    "\tfor data_batch, _ in train_loader:\n",
    "\t\tdata_batch = data_batch.to(device)\n",
    "\n",
    "\t\toptimizer.zero_grad() \n",
    "\t\toutputs = model(data_batch) \n",
    "\t\tloss = criterion(outputs, data_batch) \n",
    "\t\tloss.backward() \n",
    "\t\toptimizer.step() \n",
    "\n",
    "\t\trunning_loss += loss.item() * data_batch.size(0)\n",
    "\n",
    "\ttrain_loss = running_loss / len(train_dataset)\n",
    "\n",
    "\t# Validation phase\n",
    "\tmodel.eval() \n",
    "\tval_loss = 0.0\n",
    "\twith torch.no_grad(): \n",
    "\t\tfor data_batch_val, _ in val_loader:\n",
    "\t\t\tdata_batch_val = data_batch_val.to(device)\n",
    "\t\t\toutputs_val = model(data_batch_val)\n",
    "\t\t\tloss_val = criterion(outputs_val, data_batch_val)\n",
    "\t\t\tval_loss += loss_val.item() * data_batch_val.size(0)\n",
    "\tval_loss = val_loss / len(val_dataset)\n",
    "\n",
    "\tdisplay(f'Epoch {epoch+1}/{epochs}, Train Loss: {train_loss:.4f}, Val Loss: {val_loss:.4f}')\n",
    "\n",
    "display(\"\\nTraining complete.\")"
   ]
  },
  {
   "cell_type": "markdown",
   "id": "a8551a57",
   "metadata": {},
   "source": [
    "## 6. Anomaly Detection using Reconstruction Error"
   ]
  },
  {
   "cell_type": "markdown",
   "id": "b2e9b239",
   "metadata": {},
   "source": [
    "fter training, we use the autoencoder to reconstruct the entire dataset. Data points that are difficult for the model to reconstruct will have a high reconstruction error (high MSE). We then use a Z-score to standardize these errors, allowing us to identify statistical outliers as potential anomalies. A threshold (a Z-score of 2.0) is used to flag these anomalies. \n",
    "\n",
    "Data points with a Z-score greater than 2.0 are flagged as potential anomalies.\n",
    "\n",
    "A binary \"is_outlier\" column is also added to the dataset (-1 if anomaly, 1 if non-anomalyl).\n",
    "\n",
    "Examples of anomalies are shown."
   ]
  },
  {
   "cell_type": "code",
   "execution_count": null,
   "id": "65bafc64",
   "metadata": {},
   "outputs": [
    {
     "data": {
      "text/plain": [
       "'\\nReconstruction errors calculated and z-scored.'"
      ]
     },
     "metadata": {},
     "output_type": "display_data"
    },
    {
     "data": {
      "text/plain": [
       "'First 10 reviews with their z-scored autoencoder reconstruction error:'"
      ]
     },
     "metadata": {},
     "output_type": "display_data"
    },
    {
     "data": {
      "text/html": [
       "<div>\n",
       "<style scoped>\n",
       "    .dataframe tbody tr th:only-of-type {\n",
       "        vertical-align: middle;\n",
       "    }\n",
       "\n",
       "    .dataframe tbody tr th {\n",
       "        vertical-align: top;\n",
       "    }\n",
       "\n",
       "    .dataframe thead th {\n",
       "        text-align: right;\n",
       "    }\n",
       "</style>\n",
       "<table border=\"1\" class=\"dataframe\">\n",
       "  <thead>\n",
       "    <tr style=\"text-align: right;\">\n",
       "      <th></th>\n",
       "      <th>ae_reconstruction_error_zscore</th>\n",
       "      <th>rating</th>\n",
       "      <th>text_len</th>\n",
       "      <th>rating_deviation</th>\n",
       "      <th>sentiment_polarity</th>\n",
       "      <th>sentiment_subjectivity</th>\n",
       "      <th>excessive_exclaim</th>\n",
       "      <th>avg_rating</th>\n",
       "      <th>log_num_reviews</th>\n",
       "      <th>price_encoded</th>\n",
       "      <th>year</th>\n",
       "      <th>month</th>\n",
       "      <th>weekday</th>\n",
       "      <th>hour</th>\n",
       "      <th>cat_American restaurant</th>\n",
       "      <th>cat_Coffee shop</th>\n",
       "      <th>cat_Department store</th>\n",
       "      <th>cat_Fast food restaurant</th>\n",
       "      <th>cat_Grocery store</th>\n",
       "      <th>cat_Hotel</th>\n",
       "      <th>cat_Mexican restaurant</th>\n",
       "      <th>cat_Other</th>\n",
       "      <th>cat_Pizza restaurant</th>\n",
       "      <th>cat_Restaurant</th>\n",
       "      <th>cat_Shopping mall</th>\n",
       "    </tr>\n",
       "  </thead>\n",
       "  <tbody>\n",
       "    <tr>\n",
       "      <th>0</th>\n",
       "      <td>-0.427530</td>\n",
       "      <td>5</td>\n",
       "      <td>37</td>\n",
       "      <td>0.4</td>\n",
       "      <td>0.800000</td>\n",
       "      <td>0.750000</td>\n",
       "      <td>False</td>\n",
       "      <td>4.6</td>\n",
       "      <td>4.290459</td>\n",
       "      <td>0</td>\n",
       "      <td>2019</td>\n",
       "      <td>12</td>\n",
       "      <td>1</td>\n",
       "      <td>1</td>\n",
       "      <td>False</td>\n",
       "      <td>False</td>\n",
       "      <td>False</td>\n",
       "      <td>False</td>\n",
       "      <td>False</td>\n",
       "      <td>False</td>\n",
       "      <td>False</td>\n",
       "      <td>True</td>\n",
       "      <td>False</td>\n",
       "      <td>False</td>\n",
       "      <td>False</td>\n",
       "    </tr>\n",
       "    <tr>\n",
       "      <th>1</th>\n",
       "      <td>-0.347770</td>\n",
       "      <td>5</td>\n",
       "      <td>109</td>\n",
       "      <td>0.8</td>\n",
       "      <td>0.377778</td>\n",
       "      <td>0.644444</td>\n",
       "      <td>False</td>\n",
       "      <td>4.2</td>\n",
       "      <td>4.744932</td>\n",
       "      <td>0</td>\n",
       "      <td>2020</td>\n",
       "      <td>10</td>\n",
       "      <td>2</td>\n",
       "      <td>19</td>\n",
       "      <td>False</td>\n",
       "      <td>False</td>\n",
       "      <td>False</td>\n",
       "      <td>False</td>\n",
       "      <td>False</td>\n",
       "      <td>False</td>\n",
       "      <td>False</td>\n",
       "      <td>True</td>\n",
       "      <td>False</td>\n",
       "      <td>False</td>\n",
       "      <td>False</td>\n",
       "    </tr>\n",
       "    <tr>\n",
       "      <th>2</th>\n",
       "      <td>-0.271739</td>\n",
       "      <td>4</td>\n",
       "      <td>71</td>\n",
       "      <td>0.1</td>\n",
       "      <td>0.600000</td>\n",
       "      <td>0.583333</td>\n",
       "      <td>False</td>\n",
       "      <td>3.9</td>\n",
       "      <td>6.475433</td>\n",
       "      <td>2</td>\n",
       "      <td>2019</td>\n",
       "      <td>6</td>\n",
       "      <td>6</td>\n",
       "      <td>1</td>\n",
       "      <td>False</td>\n",
       "      <td>False</td>\n",
       "      <td>False</td>\n",
       "      <td>False</td>\n",
       "      <td>False</td>\n",
       "      <td>False</td>\n",
       "      <td>False</td>\n",
       "      <td>False</td>\n",
       "      <td>False</td>\n",
       "      <td>True</td>\n",
       "      <td>False</td>\n",
       "    </tr>\n",
       "    <tr>\n",
       "      <th>3</th>\n",
       "      <td>0.110246</td>\n",
       "      <td>3</td>\n",
       "      <td>55</td>\n",
       "      <td>-1.2</td>\n",
       "      <td>-0.250000</td>\n",
       "      <td>0.400000</td>\n",
       "      <td>False</td>\n",
       "      <td>4.2</td>\n",
       "      <td>4.836282</td>\n",
       "      <td>0</td>\n",
       "      <td>2020</td>\n",
       "      <td>1</td>\n",
       "      <td>5</td>\n",
       "      <td>18</td>\n",
       "      <td>False</td>\n",
       "      <td>False</td>\n",
       "      <td>False</td>\n",
       "      <td>False</td>\n",
       "      <td>False</td>\n",
       "      <td>False</td>\n",
       "      <td>False</td>\n",
       "      <td>False</td>\n",
       "      <td>False</td>\n",
       "      <td>True</td>\n",
       "      <td>False</td>\n",
       "    </tr>\n",
       "    <tr>\n",
       "      <th>4</th>\n",
       "      <td>-0.498539</td>\n",
       "      <td>4</td>\n",
       "      <td>152</td>\n",
       "      <td>-0.1</td>\n",
       "      <td>0.241667</td>\n",
       "      <td>0.741667</td>\n",
       "      <td>False</td>\n",
       "      <td>4.1</td>\n",
       "      <td>5.342334</td>\n",
       "      <td>0</td>\n",
       "      <td>2017</td>\n",
       "      <td>8</td>\n",
       "      <td>3</td>\n",
       "      <td>1</td>\n",
       "      <td>False</td>\n",
       "      <td>False</td>\n",
       "      <td>False</td>\n",
       "      <td>False</td>\n",
       "      <td>False</td>\n",
       "      <td>False</td>\n",
       "      <td>False</td>\n",
       "      <td>True</td>\n",
       "      <td>False</td>\n",
       "      <td>False</td>\n",
       "      <td>False</td>\n",
       "    </tr>\n",
       "    <tr>\n",
       "      <th>5</th>\n",
       "      <td>0.242406</td>\n",
       "      <td>5</td>\n",
       "      <td>123</td>\n",
       "      <td>0.8</td>\n",
       "      <td>0.250000</td>\n",
       "      <td>0.812500</td>\n",
       "      <td>False</td>\n",
       "      <td>4.2</td>\n",
       "      <td>5.796058</td>\n",
       "      <td>2</td>\n",
       "      <td>2019</td>\n",
       "      <td>7</td>\n",
       "      <td>2</td>\n",
       "      <td>3</td>\n",
       "      <td>False</td>\n",
       "      <td>False</td>\n",
       "      <td>False</td>\n",
       "      <td>False</td>\n",
       "      <td>False</td>\n",
       "      <td>False</td>\n",
       "      <td>True</td>\n",
       "      <td>False</td>\n",
       "      <td>False</td>\n",
       "      <td>False</td>\n",
       "      <td>False</td>\n",
       "    </tr>\n",
       "    <tr>\n",
       "      <th>6</th>\n",
       "      <td>1.246798</td>\n",
       "      <td>1</td>\n",
       "      <td>64</td>\n",
       "      <td>-2.7</td>\n",
       "      <td>-1.000000</td>\n",
       "      <td>0.900000</td>\n",
       "      <td>False</td>\n",
       "      <td>3.7</td>\n",
       "      <td>6.577861</td>\n",
       "      <td>1</td>\n",
       "      <td>2019</td>\n",
       "      <td>6</td>\n",
       "      <td>4</td>\n",
       "      <td>6</td>\n",
       "      <td>False</td>\n",
       "      <td>False</td>\n",
       "      <td>False</td>\n",
       "      <td>True</td>\n",
       "      <td>False</td>\n",
       "      <td>False</td>\n",
       "      <td>False</td>\n",
       "      <td>False</td>\n",
       "      <td>False</td>\n",
       "      <td>False</td>\n",
       "      <td>False</td>\n",
       "    </tr>\n",
       "    <tr>\n",
       "      <th>7</th>\n",
       "      <td>0.341970</td>\n",
       "      <td>5</td>\n",
       "      <td>27</td>\n",
       "      <td>0.3</td>\n",
       "      <td>1.000000</td>\n",
       "      <td>0.300000</td>\n",
       "      <td>False</td>\n",
       "      <td>4.7</td>\n",
       "      <td>6.023448</td>\n",
       "      <td>0</td>\n",
       "      <td>2019</td>\n",
       "      <td>1</td>\n",
       "      <td>0</td>\n",
       "      <td>4</td>\n",
       "      <td>False</td>\n",
       "      <td>False</td>\n",
       "      <td>False</td>\n",
       "      <td>False</td>\n",
       "      <td>False</td>\n",
       "      <td>False</td>\n",
       "      <td>False</td>\n",
       "      <td>True</td>\n",
       "      <td>False</td>\n",
       "      <td>False</td>\n",
       "      <td>False</td>\n",
       "    </tr>\n",
       "    <tr>\n",
       "      <th>8</th>\n",
       "      <td>0.381516</td>\n",
       "      <td>1</td>\n",
       "      <td>137</td>\n",
       "      <td>-3.5</td>\n",
       "      <td>0.300000</td>\n",
       "      <td>0.300000</td>\n",
       "      <td>False</td>\n",
       "      <td>4.5</td>\n",
       "      <td>4.934474</td>\n",
       "      <td>0</td>\n",
       "      <td>2019</td>\n",
       "      <td>5</td>\n",
       "      <td>6</td>\n",
       "      <td>20</td>\n",
       "      <td>False</td>\n",
       "      <td>False</td>\n",
       "      <td>False</td>\n",
       "      <td>False</td>\n",
       "      <td>False</td>\n",
       "      <td>False</td>\n",
       "      <td>False</td>\n",
       "      <td>True</td>\n",
       "      <td>False</td>\n",
       "      <td>False</td>\n",
       "      <td>False</td>\n",
       "    </tr>\n",
       "    <tr>\n",
       "      <th>9</th>\n",
       "      <td>0.163762</td>\n",
       "      <td>5</td>\n",
       "      <td>432</td>\n",
       "      <td>0.3</td>\n",
       "      <td>0.137500</td>\n",
       "      <td>0.617361</td>\n",
       "      <td>False</td>\n",
       "      <td>4.7</td>\n",
       "      <td>6.306275</td>\n",
       "      <td>2</td>\n",
       "      <td>2017</td>\n",
       "      <td>3</td>\n",
       "      <td>0</td>\n",
       "      <td>4</td>\n",
       "      <td>False</td>\n",
       "      <td>False</td>\n",
       "      <td>False</td>\n",
       "      <td>False</td>\n",
       "      <td>False</td>\n",
       "      <td>False</td>\n",
       "      <td>False</td>\n",
       "      <td>True</td>\n",
       "      <td>False</td>\n",
       "      <td>False</td>\n",
       "      <td>False</td>\n",
       "    </tr>\n",
       "  </tbody>\n",
       "</table>\n",
       "</div>"
      ],
      "text/plain": [
       "   ae_reconstruction_error_zscore  rating  text_len  rating_deviation  sentiment_polarity  sentiment_subjectivity  excessive_exclaim  avg_rating  log_num_reviews  price_encoded  year  month  weekday  hour  cat_American restaurant  cat_Coffee shop  cat_Department store  cat_Fast food restaurant  cat_Grocery store  cat_Hotel  cat_Mexican restaurant  cat_Other  cat_Pizza restaurant  cat_Restaurant  cat_Shopping mall\n",
       "0                       -0.427530       5        37               0.4            0.800000                0.750000              False         4.6         4.290459              0  2019     12        1     1                    False            False                 False                     False              False      False                   False       True                 False           False              False\n",
       "1                       -0.347770       5       109               0.8            0.377778                0.644444              False         4.2         4.744932              0  2020     10        2    19                    False            False                 False                     False              False      False                   False       True                 False           False              False\n",
       "2                       -0.271739       4        71               0.1            0.600000                0.583333              False         3.9         6.475433              2  2019      6        6     1                    False            False                 False                     False              False      False                   False      False                 False            True              False\n",
       "3                        0.110246       3        55              -1.2           -0.250000                0.400000              False         4.2         4.836282              0  2020      1        5    18                    False            False                 False                     False              False      False                   False      False                 False            True              False\n",
       "4                       -0.498539       4       152              -0.1            0.241667                0.741667              False         4.1         5.342334              0  2017      8        3     1                    False            False                 False                     False              False      False                   False       True                 False           False              False\n",
       "5                        0.242406       5       123               0.8            0.250000                0.812500              False         4.2         5.796058              2  2019      7        2     3                    False            False                 False                     False              False      False                    True      False                 False           False              False\n",
       "6                        1.246798       1        64              -2.7           -1.000000                0.900000              False         3.7         6.577861              1  2019      6        4     6                    False            False                 False                      True              False      False                   False      False                 False           False              False\n",
       "7                        0.341970       5        27               0.3            1.000000                0.300000              False         4.7         6.023448              0  2019      1        0     4                    False            False                 False                     False              False      False                   False       True                 False           False              False\n",
       "8                        0.381516       1       137              -3.5            0.300000                0.300000              False         4.5         4.934474              0  2019      5        6    20                    False            False                 False                     False              False      False                   False       True                 False           False              False\n",
       "9                        0.163762       5       432               0.3            0.137500                0.617361              False         4.7         6.306275              2  2017      3        0     4                    False            False                 False                     False              False      False                   False       True                 False           False              False"
      ]
     },
     "metadata": {},
     "output_type": "display_data"
    },
    {
     "data": {
      "text/plain": [
       "'\\nNumber of potential anomalies (z-score > 2.0): 498'"
      ]
     },
     "metadata": {},
     "output_type": "display_data"
    },
    {
     "name": "stdout",
     "output_type": "stream",
     "text": [
      "\n",
      "Displaying the top 20 anomalies with all their features (sorted by anomaly score):\n",
      "                     user_id   name_review_user           time  rating                                                                                                                                                   text                                gmap_id   latitude   longitude                                                                                                                                               category  avg_rating  num_of_reviews price                    state         category_main  cat_American restaurant  cat_Coffee shop  cat_Department store  cat_Fast food restaurant  cat_Grocery store  cat_Hotel  cat_Mexican restaurant  cat_Other  cat_Pizza restaurant  cat_Restaurant  cat_Shopping mall  price_encoded  year  month  weekday  hour  text_len  log_num_reviews  rating_deviation  sentiment_polarity  sentiment_subjectivity  excessive_exclaim  ae_reconstruction_error_zscore\n",
      "3759   102964839989128877163       Judi Spencer  1541191747752       5                                                                                                                                     LOVE-LOVE-LOVE!!!!  0x89b8b7781700b4ad:0xc1590fbbc2a858fa  38.748036  -75.165062                                                     [Pizza restaurant, Family restaurant, Delivery Restaurant, Pizza delivery, Restaurant, Sports bar]         4.3            1154    $$      Closed ⋅ Opens 11AM      Pizza restaurant                    False            False                 False                     False              False      False                   False      False                  True           False              False              2  2018     11        4    20        18         7.051856               0.7            0.000000                0.000000               True                       30.143195\n",
      "11086  114181923394613035694        Justin Hill  1587598711841       5  Best pizza around hands down!!!!!!!!\\nI love this pizza so much. They put alot of toppings on them and cook the top to perfection. I have never ha...  0x877ccdc00cc9e99b:0x8ad840cb7d897f77  43.428795 -103.473784                                                                                                                         [Pizza restaurant, Restaurant]         4.5             438    $$       Temporarily closed      Pizza restaurant                    False            False                 False                     False              False      False                   False      False                  True           False              False              2  2020      4        2    23       211         6.084499               0.5            0.277419                0.361728               True                       20.333864\n",
      "19706  111532410796864313594      Ashley Nazare  1507621753230       1           THIS IS THE WORST RESTAURANT I HAVE EVER BEEN TOO! DO NOT EAT HERE! THEY HAVE BUGS AND RATS! THEY ALSO HAVE TERRIBLE AWFUL CUSTOMER SERVICE!   0x89e445abd55e0adb:0x1d824ab206b5e51  41.837568  -71.432985                                                                                            [Pizza restaurant, Italian restaurant, Delivery Restaurant]         3.2             308    $$        Open ⋅ Closes 4AM      Pizza restaurant                    False            False                 False                     False              False      False                   False      False                  True           False              False              2  2017     10        1     7       140         5.733341              -2.2           -1.000000                1.000000               True                       16.180886\n",
      "8419   109844320843051178216       Cindy Hanson  1557840913321       5                                                                                                          That 1 star was a mistake ! It is 5 stars !!!  0x534f2a01123b9827:0x2f1134f9fa105bce  45.181795 -109.249907                                                                                                                                           [Restaurant]         4.8             254    $$        Open ⋅ Closes 2PM            Restaurant                    False            False                 False                     False              False      False                   False      False                 False            True              False              2  2019      5        1    13        45         5.541264               0.2            0.000000                0.000000               True                       14.193341\n",
      "26116  107100402765489177493         Rae Savage  1580187495794       5                                                                                        I can't get enough!!! I'm there every week I'm so addicted!!!!!  0x884a680c26d0d8df:0x544ee3f2a067a29b  39.263401  -80.285758  [Department store, Clothing store, Craft store, Discount store, Electronics store, Grocery store, Home goods store, Sporting goods store, Supermar...         3.8            2160     $                     None      Department store                    False            False                  True                     False              False      False                   False      False                 False           False              False              1  2020      1        1     4        63         7.678326               1.2           -0.500000                0.550000               True                       13.833136\n",
      "10663  108982651320205472256        Stace Ewing  1566177923785       4  Cowboy Caviar Fries are AWESOME!! Next time I order I will add some chicken bites!! Tried the mild buffalo wings and the pineapple/jalapeno, wings...  0x5345456ec8d0da0f:0xf5921044fd312c99  45.678686 -111.064683                                                                                                                                           [Restaurant]         4.5             158  None      Closed ⋅ Opens 12PM            Restaurant                    False            False                 False                     False              False      False                   False      False                 False            True              False              0  2019      8        0     1       383         5.068904              -0.5            0.210069                0.687500               True                       13.807769\n",
      "21018  112831284301325257602   DARLENE MARCOTTE  1552674430230       5                                                                                                   Just ordered here..for first time. Excellent!!! Ty!!  0x89e46a5d14541629:0x63eaad90f0a6afa8  41.991643  -71.514733                                                              [Pizza restaurant, Italian restaurant, Takeout Restaurant, Pizza delivery, Sandwich shop]         4.1             368    $$      Closed ⋅ Opens 11AM      Pizza restaurant                    False            False                 False                     False              False      False                   False      False                  True           False              False              2  2019      3        4    18        52         5.910797               0.9            0.625000                0.666667               True                       13.690942\n",
      "2310   103460731318970844630  Laurita Cottonham  1480504388628       5  Great atmosphere! The waitress and chef were had pleasant personalities! The chef came out and made a suggestion on a special dish and it was the ...  0x56b6468d138df603:0xccf367d32bdaa670  61.128779 -146.357882                                                                                                                                   [Mexican restaurant]         4.1              33    $$       Permanently closed    Mexican restaurant                    False            False                 False                     False              False      False                    True      False                 False           False              False              2  2016     11        2    11       215         3.526361               0.9            0.818452                0.647024               True                       13.537055\n",
      "12988  115925543908969554676       LeShea Avery  1527041083883       5            Pizza is the best! Chewy crust, fresh toppings, real cheese! Service was excellent!! I wish we lived closer. It would be a regular outing!!  0x878fa197c391dee9:0x8e7392ebcb06d257  42.876716  -97.407084                                                                                                                                     [Pizza restaurant]         4.6             507    $$       Closed ⋅ Opens 4PM      Pizza restaurant                    False            False                 False                     False              False      False                   False      False                  True           False              False              2  2018      5        2     2       139         6.230481               0.4            0.510000                0.435385               True                       13.523091\n",
      "19718  113546357971653173230         Deb Pinky1  1539130868121       5  I have not eaten in the restaurant yet. I have wanted to try it. Today at work they got pizza from here!!! I am very picky when it comes to pizza....  0x89e44b87219bf32f:0xda2534f637849d3c  41.703416  -71.494667                                                                                          [Pizza restaurant, Pizza delivery, Pizza Takeout, Restaurant]         4.3             738    $$                     None      Pizza restaurant                    False            False                 False                     False              False      False                   False      False                  True           False              False              2  2018     10        2     0       350         6.605298               0.7           -0.007242                0.689980               True                       13.443815\n",
      "8068   114956122016243346186                mae  1612738977453       5  Such a beautiful cafe with lots of indoor and outdoor seating options. We had brunch here, and it was absolutely delicious! I thought the menu was...  0x89b7b7f060aa01c3:0x3afbedc2d7a18648  38.904809  -77.047586                                                                                                                                           [Restaurant]         4.6             128  None       Closed ⋅ Opens 8AM            Restaurant                    False            False                 False                     False              False      False                   False      False                 False            True              False              0  2021      2        6    23       437         4.859812               0.4            0.428090                0.696389               True                       13.411153\n",
      "25626  115471433214399599755   Stephanie Redden  1568780335400       5  A huge group of us, probably around 20, came in at the same time.  Everyone was so friendly and polite.  The food was absolutely amazing!!  If you...  0x884c0b25655f32d1:0xa4a372863bd19aac  38.223741  -80.535214                                                                                                                                           [Restaurant]         4.6              78  None  Closed ⋅ Opens 11AM Fri            Restaurant                    False            False                 False                     False              False      False                   False      False                 False            True              False              0  2019      9        2     4       214         4.369448               0.4            0.302083                0.554167               True                       13.324292\n",
      "26458  107550465564222759449       Brian Gunnoe  1598311864702       3                                                                                                     Its just ehhhh!!! Not the best not the the worst!!  0x884ef25908d5ccf5:0x3ebf35ae7248e785  37.791036  -81.211196                                                                             [Restaurant, American restaurant, Breakfast restaurant, Family restaurant]         3.8            1373     $                     None            Restaurant                    False            False                 False                     False              False      False                   False      False                 False            True              False              1  2020      8        0    23        50         7.225481              -0.8            0.000000                0.650000               True                       13.292123\n",
      "3220   117436125207307684476       ma of Autism  1533138889049       1  Salad bar had nothing to it. Our waitress acted as if she did NOT want to be there!!! Who charges an up-charge for cottage cheese??!! Very disappo...  0x89c7079bfd966113:0x9db192acecdc255f  39.618601  -75.696359                                                                                         [American restaurant, Diner, Hamburger restaurant, Restaurant]         4.2             893     $       Open ⋅ Closes 10PM   American restaurant                     True            False                 False                     False              False      False                   False      False                 False           False              False              1  2018      8        2    15       153         6.795706              -3.2           -1.000000                0.975000               True                       13.258647\n",
      "20906  109373720054156434529     Lisa Giarrusso  1617630633622       5            We had great service our server Luke  is awesome!! Will definitely return! Fried pickles are delish along with everything else they serve!!  0x89e44f190da11483:0x8b3f49d8aa7cf178  41.783820  -71.473325                                                                                                                                           [Restaurant]         4.2              78  None                     None            Restaurant                    False            False                 False                     False              False      False                   False      False                 False            True              False              0  2021      4        0    13       139         4.369448               0.8            0.600000                0.750000               True                       13.185289\n",
      "26349  106830487326000315106     Brandon Renner  1547819536460       1  It wasn't  busy at all and still took me all of 35 - 40 minutes to get a cpl mcdoubles. I guess anyone can be a manager or assistant manager here!...  0x89ca02f6151f3a6d:0xe534415c4f292953  39.478644  -77.957981                                             [Fast food restaurant, Breakfast restaurant, Coffee shop, Hamburger restaurant, Restaurant, Sandwich shop]         3.2            1072     $                     None  Fast food restaurant                    False            False                 False                      True              False      False                   False      False                 False           False              False              1  2019      1        4    13       150         6.978214              -2.2            0.305176                0.300000               True                       13.168202\n",
      "14019  114569851069396648816    Ralph Derouchie  1601419440535       3                                     They took our order and we waited for 20 mins and we didn't get nothing we ordered right at all!!\\nNever again !!!  0x4cca77b0933f3c5f:0x33e977495604f837  44.511880  -73.064926                                 [Pizza restaurant, American restaurant, Chicken wings restaurant, Fast food restaurant, Pizza delivery, Pizza Takeout]         4.3             138     $      Closed ⋅ Opens 11AM      Pizza restaurant                    False            False                 False                     False              False      False                   False      False                  True           False              False              1  2020      9        1    22       113         4.934474              -1.3            0.871931                0.535714               True                       13.152906\n",
      "11169  117372401453940546353      Kelly Hornsby  1583755566748       3  I still don't get why you have to wait 15-20 minutes for their so called \"hot 'n ready\" $5 pizzas!!  It was the boyfriend who wanted to stop. Pers...  0x878eb5ae064b6e81:0x2dbfa70bd71c0760  43.546800  -96.712364                                [Pizza restaurant, American restaurant, Chicken wings restaurant, Fast food restaurant, Pizza delivery, Pizza takeaway]         4.1             403     ₩   Closed ⋅ Opens 10:30AM      Pizza restaurant                    False            False                 False                     False              False      False                   False      False                  True           False              False              0  2020      3        0    12       393         6.001415              -1.1            0.201786                0.614286               True                       13.070885\n",
      "19074  118194004861704918483      Ahmad Qaryoti  1575857753698       1  Very very RUDE , we waited for over 20 min ‘while the resturant is empty’ and the guy was like you have to wait more cause I have other tables to ...  0x89e445a828d94e53:0x8ca259c862045081  41.829962  -71.426087                                                                             [Restaurant, American restaurant, Breakfast restaurant, Family restaurant]         3.9            2076     $                     None            Restaurant                    False            False                 False                     False              False      False                   False      False                 False            True              False              1  2019     12        0     2       247         7.638680              -2.9           -0.092867                0.538750               True                       13.048518\n",
      "15943  103426215502237844212           Miss Mae  1562767254304       5  Chicken noodle pho🍜 = 🔥🙌💥!!\\nI also got the pork dumplings & the hot sauce that came with them was FIRE 🔥🔥👍👍 10/10\\nVery friendly & welcoming serv...  0x4cca6ff861cc6bdb:0xd9861f59ef15603c  44.511407  -73.251359                                                                                                                                           [Restaurant]         4.3             127     $        Opens soon ⋅ 12PM            Restaurant                    False            False                 False                     False              False      False                   False      False                 False            True              False              1  2019      7        2    14       150         4.852030               0.7            0.024740                0.816667               True                       13.005195\n"
     ]
    }
   ],
   "source": [
    "# Calculate Reconstruction Error (PyTorch) \n",
    "model.eval() \n",
    "all_reconstructions = []\n",
    "with torch.no_grad():\n",
    "\tfor i in range(0, len(scaled_data_tensor), batch_size):\n",
    "\t\tbatch = scaled_data_tensor[i:i + batch_size].to(device)\n",
    "\t\treconstructed_batch = model(batch)\n",
    "\t\tall_reconstructions.append(reconstructed_batch.cpu().numpy())\n",
    "\n",
    "reconstructions_np = np.vstack(all_reconstructions)\n",
    "\n",
    "# Calculate Mean Squared Error (MSE) between original and reconstructed data\n",
    "reconstruction_errors = np.mean(np.square(scaled_data_np - reconstructions_np), axis=1)\n",
    "\n",
    "# Z-scoring the Reconstruction Error\n",
    "z_scored_reconstruction_errors = zscore(reconstruction_errors)\n",
    "\n",
    "# Add the z-scored errors to the original dataframe\n",
    "df['ae_reconstruction_error_zscore'] = z_scored_reconstruction_errors\n",
    "\n",
    "display(\"\\nReconstruction errors calculated and z-scored.\")\n",
    "display(\"First 10 reviews with their z-scored autoencoder reconstruction error:\")\n",
    "display(df[['ae_reconstruction_error_zscore'] + features].head(10))\n",
    "\n",
    "# Identify potential anomalies\n",
    "threshold = 2.0\n",
    "\n",
    "# Add binary \"is_outlier\" column (1 if anomaly, 0 if normal)\n",
    "df['is_outlier'] = np.where(\n",
    "    df['ae_reconstruction_error_zscore'] > threshold,\n",
    "    -1,   # outlier\n",
    "    1     # normal\n",
    ")\n",
    "print(df['is_outlier'].value_counts())\n",
    "\n",
    "anomalies = df[df['ae_reconstruction_error_zscore'] > threshold]\n",
    "display(f\"\\nNumber of potential anomalies (z-score > {threshold}): {len(anomalies)}\")\n",
    "\n",
    "# Display more anomalies and all of their original features (For viewing purposes)\n",
    "if not anomalies.empty:\n",
    "\tprint(\"\\nDisplaying the top 20 anomalies with all their features (sorted by anomaly score):\")\n",
    "\n",
    "\tpd.set_option('display.max_rows', 50)       \n",
    "\tpd.set_option('display.max_columns', None)   \n",
    "\tpd.set_option('display.width', 1000)          \n",
    "\tpd.set_option('display.max_colwidth', 150)    \n",
    "\n",
    "\t# Sort by the anomaly score to see the most anomalous first and show the top 20\n",
    "\tprint(anomalies.sort_values(by='ae_reconstruction_error_zscore', ascending=False).head(20))\n",
    "\n",
    "else:\n",
    "\tprint(\"\\nNo anomalies detected above the specified threshold.\")"
   ]
  },
  {
   "cell_type": "markdown",
   "id": "149ddd35",
   "metadata": {},
   "source": [
    "## Investigating the Latent Space"
   ]
  },
  {
   "cell_type": "markdown",
   "id": "45ede0c3",
   "metadata": {},
   "source": [
    "To better understand what the autoencoder has learned, we can inspect the latent space. \n",
    "\n",
    "Extract the encoded representation for each data point and create a new dataframe.\n",
    "\n",
    "Then, calculate the correlation between these latent dimensions and the original features. This helped us interpret which original features are most strongly represented in the compressed dimensions of the latent space."
   ]
  },
  {
   "cell_type": "code",
   "execution_count": 17,
   "id": "73148b42",
   "metadata": {},
   "outputs": [
    {
     "name": "stdout",
     "output_type": "stream",
     "text": [
      "\n",
      "--- Investigating the Latent Space ---\n",
      "\n",
      "Correlation of Latent Dimensions with Original Features:\n",
      "                          latent_dim_1  latent_dim_2  latent_dim_3  latent_dim_4  latent_dim_5  latent_dim_6  latent_dim_7  latent_dim_8  latent_dim_9  latent_dim_10\n",
      "rating                       -0.374856      0.003880     -0.051809      0.264355      0.372527      0.231474      0.120132      0.085328      0.101295       0.145924\n",
      "text_len                      0.065590     -0.014201     -0.053463     -0.062461     -0.083969     -0.093611     -0.073897      0.012267      0.022774      -0.000820\n",
      "rating_deviation             -0.342686      0.010688      0.039263      0.235341      0.350311      0.281148      0.157484      0.130731      0.115944       0.028271\n",
      "sentiment_polarity           -0.178580      0.080542     -0.032236      0.260987      0.360033      0.281887      0.190974     -0.290620     -0.322829       0.116020\n",
      "sentiment_subjectivity        0.059121      0.137678      0.037369      0.208091      0.282381      0.329175      0.281764     -0.540854     -0.607833       0.071622\n",
      "excessive_exclaim             0.067338     -0.048301     -0.073100      0.076702      0.016716     -0.001422     -0.093351     -0.065769     -0.057889      -0.097230\n",
      "avg_rating                   -0.148321     -0.017585     -0.252437      0.121540      0.121283     -0.094597     -0.080076     -0.107409     -0.022419       0.339220\n",
      "log_num_reviews              -0.044981      0.175241      0.121453     -0.056319      0.110545      0.101076      0.179855     -0.021396     -0.101735      -0.176700\n",
      "price_encoded                 0.147291      0.141656     -0.240205      0.170068      0.252658     -0.034316     -0.153434     -0.380719     -0.480985      -0.161051\n",
      "year                         -0.005739     -0.030692      0.001662     -0.108180      0.015002      0.024710      0.009153     -0.046763     -0.037051      -0.005964\n",
      "month                        -0.072338      0.123118      0.116625      0.556605      0.092333      0.019794      0.053190     -0.045024     -0.044611       0.073176\n",
      "weekday                       0.007679      0.039484      0.038865      0.114456      0.223078     -0.528892      0.144379     -0.201424     -0.274466       0.002507\n",
      "hour                         -0.111482      0.124070      0.138153     -0.053531      0.346504      0.115924     -0.194212     -0.216823     -0.302666       0.049907\n",
      "cat_American restaurant      -0.114618      0.234065     -0.247154      0.058571      0.340553     -0.086547     -0.107468     -0.092297     -0.181304      -0.270562\n",
      "cat_Coffee shop               0.025516      0.044364     -0.047485      0.105363      0.114224      0.001081     -0.043161     -0.068016     -0.116856      -0.197204\n",
      "cat_Department store         -0.249783      0.347795      0.054509     -0.225140      0.214807     -0.041615      0.256368      0.239423      0.105806      -0.230668\n",
      "cat_Fast food restaurant      0.433358     -0.319293      0.668222      0.249698     -0.269298      0.534315      0.050295     -0.223077     -0.236737      -0.344737\n",
      "cat_Grocery store             0.128253     -0.198092      0.121989      0.215167     -0.104807      0.184160     -0.108539     -0.251652     -0.181589      -0.262425\n",
      "cat_Hotel                     0.010430      0.054845      0.387528     -0.158692     -0.116217      0.253540      0.414516      0.010927     -0.036770      -0.214302\n",
      "cat_Mexican restaurant        0.108664     -0.024937      0.072045     -0.022308     -0.071427      0.100008      0.110927     -0.120954     -0.162996      -0.226443\n",
      "cat_Other                     0.096857     -0.470817     -0.480072      0.239776     -0.309696     -0.360873     -0.582178     -0.058605      0.251769       0.978841\n",
      "cat_Pizza restaurant         -0.085158      0.184188      0.128215     -0.173982      0.067924      0.044256      0.291846      0.137686      0.047805      -0.241271\n",
      "cat_Restaurant               -0.405274      0.712149     -0.250565     -0.437912      0.595140     -0.226899      0.270019      0.348882      0.029436      -0.319079\n",
      "cat_Shopping mall            -0.189102      0.214457      0.355769     -0.317775     -0.017942      0.132272      0.514316      0.220974      0.159325      -0.200714\n",
      "\n",
      "Standard Deviation of each Latent Dimension:\n",
      "latent_dim_1     0.080610\n",
      "latent_dim_2     3.701419\n",
      "latent_dim_3     3.963268\n",
      "latent_dim_4     1.472752\n",
      "latent_dim_5     2.421218\n",
      "latent_dim_6     1.306176\n",
      "latent_dim_7     2.249330\n",
      "latent_dim_8     0.099840\n",
      "latent_dim_9     0.099669\n",
      "latent_dim_10    2.774436\n",
      "dtype: float32\n"
     ]
    }
   ],
   "source": [
    "# Investigating the Latent Space\n",
    "print(\"\\n--- Investigating the Latent Space ---\")\n",
    "\n",
    "model.eval()\n",
    "with torch.no_grad():\n",
    "\tencoded_data_tensor = model.encoder(scaled_data_tensor.to(device))\n",
    "\tencoded_data_np = encoded_data_tensor.cpu().numpy()\n",
    "\n",
    "# Create a DataFrame for the encoded dimensions\n",
    "encoded_df = pd.DataFrame(encoded_data_np, columns=[f'latent_dim_{i+1}' for i in range(encoding_dim)])\n",
    "\n",
    "# Combine with the original (unscaled) features to make interpretation easier\n",
    "combined_df = pd.concat([df[features].reset_index(drop=True), encoded_df], axis=1)\n",
    "\n",
    "# Calculate the correlation matrix\n",
    "correlation_matrix = combined_df.corr()\n",
    "\n",
    "# Get the correlation of each latent dimension with the original features\n",
    "latent_correlations = correlation_matrix[encoded_df.columns].loc[features]\n",
    "\n",
    "print(\"\\nCorrelation of Latent Dimensions with Original Features:\")\n",
    "print(latent_correlations)\n",
    "print(\"\\nStandard Deviation of each Latent Dimension:\")\n",
    "print(encoded_df.std())\n",
    "\n",
    "df.to_parquet('dataset_with_anomaly_scores.parquet')\n",
    "df.to_csv('dataset_with_anomaly_scores.csv', index=False)"
   ]
  }
 ],
 "metadata": {
  "kernelspec": {
   "display_name": "TikTok-Challenge-2025",
   "language": "python",
   "name": "python3"
  },
  "language_info": {
   "codemirror_mode": {
    "name": "ipython",
    "version": 3
   },
   "file_extension": ".py",
   "mimetype": "text/x-python",
   "name": "python",
   "nbconvert_exporter": "python",
   "pygments_lexer": "ipython3",
   "version": "3.13.5"
  }
 },
 "nbformat": 4,
 "nbformat_minor": 5
}
