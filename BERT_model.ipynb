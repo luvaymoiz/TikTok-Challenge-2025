{
 "cells": [
  {
   "cell_type": "markdown",
   "id": "2e074bd2",
   "metadata": {},
   "source": [
    "# BERT Model for Spam Review Classification\n",
    "\n",
    "In this notebook, we fine-tune a **BERT-based model** on our Google reviews dataset to detect spam reviews.  \n",
    "\n",
    "Unlike Isolation Forest and Autoencoder (which work on numeric/engineered features),  \n",
    "BERT operates directly on the **raw review text**.  \n",
    "\n",
    "- **Why BERT?**  \n",
    "  BERT (Bidirectional Encoder Representations from Transformers) captures the **contextual meaning of words** in a sentence by looking both left and right.  \n",
    "  This makes it highly effective for text classification tasks.  \n",
    "\n",
    "Here, we use **DistilBERT**, a lighter and faster version of BERT, fine-tuned with a classification head for binary classification:  \n",
    "- **0 = normal review**  \n",
    "- **1 = spam review**\n"
   ]
  },
  {
   "cell_type": "markdown",
   "id": "3fe470df",
   "metadata": {},
   "source": [
    "## Step 1: Importing Libraries\n",
    "\n",
    "We import the essential packages:  \n",
    "- **Transformers (Hugging Face):** for pretrained DistilBERT and tokenization  \n",
    "- **Torch (PyTorch):** for training and evaluation  \n",
    "- **Scikit-learn:** for metrics such as Accuracy, F1, ROC-AUC  \n",
    "- **Pandas & Numpy:** for dataset handling  \n",
    "\n",
    "These provide the core tools for NLP preprocessing, model building, and evaluation.\n"
   ]
  },
  {
   "cell_type": "code",
   "execution_count": null,
   "id": "d3f8cd8e",
   "metadata": {},
   "outputs": [],
   "source": [
    "import os\n",
    "import numpy as np\n",
    "import pandas as pd\n",
    "import torch\n",
    "from dataclasses import dataclass\n",
    "from typing import Dict, Any\n",
    "from inspect import signature\n",
    "\n",
    "from sklearn.model_selection import train_test_split\n",
    "from sklearn.metrics import (\n",
    "    classification_report, f1_score, roc_auc_score, average_precision_score, confusion_matrix\n",
    ")\n",
    "\n",
    "from transformers import (\n",
    "    AutoTokenizer, AutoModelForSequenceClassification,\n",
    "    Trainer, TrainingArguments, DataCollatorWithPadding\n",
    ")"
   ]
  },
  {
   "cell_type": "code",
   "execution_count": null,
   "id": "520457d1",
   "metadata": {},
   "outputs": [],
   "source": [
    "DATA_PATH   = \"final_dataset_with_fusion.parquet\"\n",
    "TEXT_COL    = \"text\"\n",
    "LABEL_COL   = \"is_anomaly\"\n",
    "MODEL_NAME  = \"distilbert-base-uncased\"    \n",
    "MAX_LEN     = 128\n",
    "SEED        = 42\n",
    "TEST_SIZE   = 0.20\n",
    "VAL_SIZE    = 0.10                     # of the remaining after test split\n",
    "BATCH_TRAIN = 8\n",
    "BATCH_EVAL  = 16\n",
    "LR          = 2e-5\n",
    "EPOCHS      = 3\n",
    "\n",
    "# If you're on Apple Silicon / MPS, avoid pin_memory warnings:\n",
    "os.environ.setdefault(\"PYTORCH_ENABLE_MPS_FALLBACK\", \"1\")\n",
    "\n",
    "np.random.seed(SEED)\n",
    "torch.manual_seed(SEED)"
   ]
  },
  {
   "cell_type": "markdown",
   "id": "6da37fca",
   "metadata": {},
   "source": [
    "## Step 2: Splitting the Dataset\n",
    "\n",
    "We split the dataset into **train, validation, and test sets**:  \n",
    "- **Training set:** used to fine-tune the model weights  \n",
    "- **Validation set:** monitors generalisation and prevents overfitting  \n",
    "- **Test set:** final unbiased evaluation of model performance  \n",
    "\n",
    "This ensures we fairly assess the model’s ability to generalise to unseen reviews.\n"
   ]
  },
  {
   "cell_type": "code",
   "execution_count": null,
   "id": "1b42580f",
   "metadata": {},
   "outputs": [],
   "source": [
    "df = pd.read_parquet(DATA_PATH)\n",
    "if not {TEXT_COL, LABEL_COL}.issubset(df.columns):\n",
    "    raise KeyError(f\"Input must contain columns: {TEXT_COL}, {LABEL_COL}\")\n",
    "\n",
    "df = df[[TEXT_COL, LABEL_COL]].dropna()\n",
    "df[LABEL_COL] = df[LABEL_COL].astype(int)\n",
    "\n",
    "train_df, test_df = train_test_split(\n",
    "    df, test_size=TEST_SIZE, stratify=df[LABEL_COL], random_state=SEED\n",
    ")\n",
    "train_df, val_df = train_test_split(\n",
    "    train_df, test_size=VAL_SIZE, stratify=train_df[LABEL_COL], random_state=SEED\n",
    ")\n",
    "\n",
    "print(f\"[sizes] train={len(train_df)}  val={len(val_df)}  test={len(test_df)}\")\n",
    "print(f\"[label balance] positives overall={df[LABEL_COL].mean():.3f}\")"
   ]
  },
  {
   "cell_type": "code",
   "execution_count": null,
   "id": "0f2740a5",
   "metadata": {},
   "outputs": [],
   "source": [
    "tokenizer = AutoTokenizer.from_pretrained(MODEL_NAME)\n",
    "\n",
    "class TextDataset(torch.utils.data.Dataset):\n",
    "    def __init__(self, texts, labels):\n",
    "        self.texts = list(texts)\n",
    "        self.labels = list(labels)\n",
    "    def __len__(self):\n",
    "        return len(self.texts)\n",
    "    def __getitem__(self, idx):\n",
    "        enc = tokenizer(\n",
    "            self.texts[idx],\n",
    "            truncation=True, padding=False, max_length=MAX_LEN\n",
    "        )\n",
    "        enc[\"labels\"] = int(self.labels[idx])\n",
    "        return {k: torch.tensor(v) for k, v in enc.items()}\n",
    "\n",
    "train_ds = TextDataset(train_df[TEXT_COL], train_df[LABEL_COL])\n",
    "val_ds   = TextDataset(val_df[TEXT_COL],   val_df[LABEL_COL])\n",
    "test_ds  = TextDataset(test_df[TEXT_COL],  test_df[LABEL_COL])\n",
    "\n",
    "data_collator = DataCollatorWithPadding(tokenizer=tokenizer)"
   ]
  },
  {
   "cell_type": "markdown",
   "id": "eaa74576",
   "metadata": {},
   "source": [
    "## Step 3: Loading and Configuring the Model\n",
    "\n",
    "We load a **pretrained DistilBERT** model from Hugging Face.  \n",
    "\n",
    "- The model comes with pretrained language representations (trained on billions of words).  \n",
    "- We add a **classification head** on top with 2 outputs:  \n",
    "  - **0 = normal review**  \n",
    "  - **1 = spam review**  \n",
    "\n",
    "Fine-tuning allows the model to adapt its language understanding to our spam detection task.\n"
   ]
  },
  {
   "cell_type": "code",
   "execution_count": null,
   "id": "3ee30d8e",
   "metadata": {},
   "outputs": [],
   "source": [
    "num_labels = 2\n",
    "model = AutoModelForSequenceClassification.from_pretrained(\n",
    "    MODEL_NAME, num_labels=num_labels\n",
    ")"
   ]
  },
  {
   "cell_type": "code",
   "execution_count": null,
   "id": "097cb7cc",
   "metadata": {},
   "outputs": [],
   "source": [
    "def compute_metrics(p) -> Dict[str, Any]:\n",
    "    preds = p.predictions[0] if isinstance(p.predictions, tuple) else p.predictions\n",
    "    probs = torch.softmax(torch.tensor(preds), dim=1).numpy()\n",
    "    y_pred = probs.argmax(axis=1)\n",
    "    y_true = p.label_ids\n",
    "\n",
    "    try:\n",
    "        roc = roc_auc_score(y_true, probs[:, 1])\n",
    "    except ValueError:\n",
    "        roc = float(\"nan\")\n",
    "    try:\n",
    "        ap = average_precision_score(y_true, probs[:, 1])\n",
    "    except ValueError:\n",
    "        ap = float(\"nan\")\n",
    "\n",
    "    return {\n",
    "        \"accuracy\": float((y_pred == y_true).mean()),\n",
    "        \"f1\": f1_score(y_true, y_pred, average=\"binary\"),\n",
    "        \"roc_auc\": roc,\n",
    "        \"pr_auc\": ap,\n",
    "    }"
   ]
  },
  {
   "cell_type": "code",
   "execution_count": null,
   "id": "4e320e75",
   "metadata": {},
   "outputs": [],
   "source": [
    "def build_training_args(**prefs):\n",
    "    sig = signature(TrainingArguments.__init__).parameters\n",
    "    if \"evaluation_strategy\" in prefs and \"evaluation_strategy\" not in sig and \"eval_strategy\" in sig:\n",
    "        prefs[\"eval_strategy\"] = prefs.pop(\"evaluation_strategy\")\n",
    "    allowed = set(sig.keys())\n",
    "    used = {k: v for k, v in prefs.items() if k in allowed}\n",
    "    dropped = sorted(set(prefs) - set(used))\n",
    "    if dropped:\n",
    "        print(\"[warn] Dropped unsupported TrainingArguments keys:\", dropped)\n",
    "    return TrainingArguments(**used)"
   ]
  },
  {
   "cell_type": "markdown",
   "id": "a5632b14",
   "metadata": {},
   "source": [
    "## Step 4: Defining Evaluation Metrics\n",
    "\n",
    "We define a function to compute standard classification metrics:  \n",
    "\n",
    "- **Accuracy:** overall proportion of correct predictions  \n",
    "- **F1 Score:** balances precision and recall, important for imbalanced data  \n",
    "- **ROC-AUC:** measures ability to separate normal vs spam across thresholds  \n",
    "- **PR-AUC:** precision-recall tradeoff, useful when spam reviews are rare  \n",
    "\n",
    "The function also handles edge cases where certain metrics are undefined (e.g., if a batch only contains one class).\n"
   ]
  },
  {
   "cell_type": "code",
   "execution_count": null,
   "id": "0c1eb8dc",
   "metadata": {},
   "outputs": [],
   "source": [
    "args = build_training_args(\n",
    "    output_dir=\"./bert_text_model\",\n",
    "    evaluation_strategy=\"epoch\",        # will auto-map to eval_strategy in 4.56\n",
    "    save_strategy=\"epoch\",\n",
    "    load_best_model_at_end=True,\n",
    "    metric_for_best_model=\"f1\",\n",
    "    greater_is_better=True,\n",
    "\n",
    "    per_device_train_batch_size=BATCH_TRAIN,\n",
    "    per_device_eval_batch_size=BATCH_EVAL,\n",
    "    learning_rate=LR,\n",
    "    num_train_epochs=EPOCHS,\n",
    "    weight_decay=0.01,\n",
    "    logging_steps=50,\n",
    "    report_to=\"none\",\n",
    "    seed=SEED,\n",
    "    dataloader_pin_memory=False,\n",
    "    dataloader_num_workers=0,           # safer across OSes/Jupyter\n",
    ")\n",
    "\n",
    "trainer = Trainer(\n",
    "    model=model,\n",
    "    args=args,\n",
    "    train_dataset=train_ds,\n",
    "    eval_dataset=val_ds,\n",
    "    tokenizer=tokenizer,\n",
    "    data_collator=data_collator,\n",
    "    compute_metrics=compute_metrics,\n",
    ")\n",
    "trainer.train()"
   ]
  },
  {
   "cell_type": "code",
   "execution_count": null,
   "id": "bf9c17df",
   "metadata": {},
   "outputs": [],
   "source": [
    "print(\"\\n[eval] validation metrics:\")\n",
    "val_metrics = trainer.evaluate(val_ds)\n",
    "print(val_metrics)"
   ]
  },
  {
   "cell_type": "markdown",
   "id": "c425eae7",
   "metadata": {},
   "source": [
    "## Step 5: Model Evaluation\n",
    "\n",
    "After training, we evaluate the fine-tuned model on the **test dataset**.  \n",
    "\n",
    "- Predictions are compared with ground-truth labels  \n",
    "- Metrics (Accuracy, F1, ROC-AUC, PR-AUC) are reported  \n",
    "- Confusion matrices and probability distributions can also be visualised  \n",
    "\n",
    "This step confirms how well BERT performs compared to Isolation Forest, Autoencoder, and Fusion approaches.\n"
   ]
  },
  {
   "cell_type": "code",
   "execution_count": null,
   "id": "5e3990f6",
   "metadata": {},
   "outputs": [],
   "source": [
    "\n",
    "\n",
    "print(\"\\n[eval] test metrics & reports:\")\n",
    "raw_preds = trainer.predict(test_ds)\n",
    "test_probs = torch.softmax(torch.tensor(raw_preds.predictions), dim=1).numpy()\n",
    "test_pred  = test_probs.argmax(axis=1)\n",
    "y_true     = raw_preds.label_ids\n",
    "\n",
    "print(classification_report(y_true, test_pred, digits=4))\n",
    "try:\n",
    "    print(\"ROC AUC:\", roc_auc_score(y_true, test_probs[:, 1]))\n",
    "    print(\"PR  AUC:\", average_precision_score(y_true, test_probs[:, 1]))\n",
    "except ValueError:\n",
    "    print(\"ROC/PR AUC: not defined (single class present)\")\n",
    "\n",
    "print(\"Confusion matrix:\\n\", confusion_matrix(y_true, test_pred))"
   ]
  },
  {
   "cell_type": "code",
   "execution_count": null,
   "id": "a53388ba",
   "metadata": {},
   "outputs": [
    {
     "name": "stderr",
     "output_type": "stream",
     "text": [
      "/Users/minruilee/Desktop/tiktok hackathon/myenv/lib/python3.13/site-packages/tqdm/auto.py:21: TqdmWarning: IProgress not found. Please update jupyter and ipywidgets. See https://ipywidgets.readthedocs.io/en/stable/user_install.html\n",
      "  from .autonotebook import tqdm as notebook_tqdm\n"
     ]
    },
    {
     "name": "stdout",
     "output_type": "stream",
     "text": [
      "[sizes] train=19167  val=2130  test=5325\n",
      "[label balance] positives overall=0.050\n"
     ]
    },
    {
     "name": "stderr",
     "output_type": "stream",
     "text": [
      "Some weights of DistilBertForSequenceClassification were not initialized from the model checkpoint at distilbert-base-uncased and are newly initialized: ['classifier.bias', 'classifier.weight', 'pre_classifier.bias', 'pre_classifier.weight']\n",
      "You should probably TRAIN this model on a down-stream task to be able to use it for predictions and inference.\n",
      "/var/folders/tv/zkyj084138d4l2c6vf250tgm0000gn/T/ipykernel_33329/408742767.py:158: FutureWarning: `tokenizer` is deprecated and will be removed in version 5.0.0 for `Trainer.__init__`. Use `processing_class` instead.\n",
      "  trainer = Trainer(\n"
     ]
    },
    {
     "data": {
      "text/html": [
       "\n",
       "    <div>\n",
       "      \n",
       "      <progress value='7188' max='7188' style='width:300px; height:20px; vertical-align: middle;'></progress>\n",
       "      [7188/7188 22:49, Epoch 3/3]\n",
       "    </div>\n",
       "    <table border=\"1\" class=\"dataframe\">\n",
       "  <thead>\n",
       " <tr style=\"text-align: left;\">\n",
       "      <th>Epoch</th>\n",
       "      <th>Training Loss</th>\n",
       "      <th>Validation Loss</th>\n",
       "      <th>Accuracy</th>\n",
       "      <th>F1</th>\n",
       "      <th>Roc Auc</th>\n",
       "      <th>Pr Auc</th>\n",
       "    </tr>\n",
       "  </thead>\n",
       "  <tbody>\n",
       "    <tr>\n",
       "      <td>1</td>\n",
       "      <td>0.245700</td>\n",
       "      <td>0.212520</td>\n",
       "      <td>0.949765</td>\n",
       "      <td>0.000000</td>\n",
       "      <td>0.665081</td>\n",
       "      <td>0.122183</td>\n",
       "    </tr>\n",
       "    <tr>\n",
       "      <td>2</td>\n",
       "      <td>0.235500</td>\n",
       "      <td>0.208407</td>\n",
       "      <td>0.949765</td>\n",
       "      <td>0.000000</td>\n",
       "      <td>0.723248</td>\n",
       "      <td>0.123348</td>\n",
       "    </tr>\n",
       "    <tr>\n",
       "      <td>3</td>\n",
       "      <td>0.232000</td>\n",
       "      <td>0.253487</td>\n",
       "      <td>0.948357</td>\n",
       "      <td>0.083333</td>\n",
       "      <td>0.703208</td>\n",
       "      <td>0.123079</td>\n",
       "    </tr>\n",
       "  </tbody>\n",
       "</table><p>"
      ],
      "text/plain": [
       "<IPython.core.display.HTML object>"
      ]
     },
     "metadata": {},
     "output_type": "display_data"
    },
    {
     "name": "stdout",
     "output_type": "stream",
     "text": [
      "\n",
      "[eval] validation metrics:\n"
     ]
    },
    {
     "data": {
      "text/html": [],
      "text/plain": [
       "<IPython.core.display.HTML object>"
      ]
     },
     "metadata": {},
     "output_type": "display_data"
    },
    {
     "name": "stdout",
     "output_type": "stream",
     "text": [
      "{'eval_loss': 0.25272297859191895, 'eval_accuracy': 0.9483568075117371, 'eval_f1': 0.08333333333333333, 'eval_roc_auc': 0.7042377148770449, 'eval_pr_auc': 0.13133164346734363, 'eval_runtime': 17.1799, 'eval_samples_per_second': 123.982, 'eval_steps_per_second': 7.8, 'epoch': 3.0}\n",
      "\n",
      "[eval] test metrics & reports:\n",
      "              precision    recall  f1-score   support\n",
      "\n",
      "           0     0.9508    0.9972    0.9735      5059\n",
      "           1     0.2632    0.0188    0.0351       266\n",
      "\n",
      "    accuracy                         0.9484      5325\n",
      "   macro avg     0.6070    0.5080    0.5043      5325\n",
      "weighted avg     0.9165    0.9484    0.9266      5325\n",
      "\n",
      "ROC AUC: 0.663471784818837\n",
      "PR  AUC: 0.08983621532057373\n",
      "Confusion matrix:\n",
      " [[5045   14]\n",
      " [ 261    5]]\n",
      "\n",
      "Saved predictions to ./bert_text_model/test_predictions.csv\n"
     ]
    }
   ],
   "source": [
    "os.makedirs(\"./bert_text_model\", exist_ok=True)\n",
    "pd.DataFrame({\n",
    "    \"y_true\": y_true,\n",
    "    \"y_pred\": test_pred,\n",
    "    \"p_pos\": test_probs[:, 1]\n",
    "}).to_csv(\"./bert_text_model/test_predictions.csv\", index=False)\n",
    "print(\"\\nSaved predictions to ./bert_text_model/test_predictions.csv\")\n"
   ]
  }
 ],
 "metadata": {
  "kernelspec": {
   "display_name": "myenv",
   "language": "python",
   "name": "python3"
  },
  "language_info": {
   "codemirror_mode": {
    "name": "ipython",
    "version": 3
   },
   "file_extension": ".py",
   "mimetype": "text/x-python",
   "name": "python",
   "nbconvert_exporter": "python",
   "pygments_lexer": "ipython3",
   "version": "3.13.2"
  }
 },
 "nbformat": 4,
 "nbformat_minor": 5
}
