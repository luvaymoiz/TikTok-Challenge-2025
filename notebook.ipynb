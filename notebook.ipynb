{
 "cells": [
  {
   "cell_type": "code",
   "execution_count": 7,
   "id": "e854eef1",
   "metadata": {},
   "outputs": [
    {
     "data": {
      "text/plain": [
       "\"Successfully loaded 'final_dataset.parquet'. Shape: (26622, 36)\""
      ]
     },
     "metadata": {},
     "output_type": "display_data"
    },
    {
     "name": "stdout",
     "output_type": "stream",
     "text": [
      "Number of rows (lines): 26622\n"
     ]
    },
    {
     "data": {
      "text/plain": [
       "'First 5 rows of the dataset:'"
      ]
     },
     "metadata": {},
     "output_type": "display_data"
    },
    {
     "data": {
      "text/html": [
       "<div>\n",
       "<style scoped>\n",
       "    .dataframe tbody tr th:only-of-type {\n",
       "        vertical-align: middle;\n",
       "    }\n",
       "\n",
       "    .dataframe tbody tr th {\n",
       "        vertical-align: top;\n",
       "    }\n",
       "\n",
       "    .dataframe thead th {\n",
       "        text-align: right;\n",
       "    }\n",
       "</style>\n",
       "<table border=\"1\" class=\"dataframe\">\n",
       "  <thead>\n",
       "    <tr style=\"text-align: right;\">\n",
       "      <th></th>\n",
       "      <th>user_id</th>\n",
       "      <th>name_review_user</th>\n",
       "      <th>time</th>\n",
       "      <th>rating</th>\n",
       "      <th>text</th>\n",
       "      <th>gmap_id</th>\n",
       "      <th>latitude</th>\n",
       "      <th>longitude</th>\n",
       "      <th>category</th>\n",
       "      <th>avg_rating</th>\n",
       "      <th>num_of_reviews</th>\n",
       "      <th>price</th>\n",
       "      <th>state</th>\n",
       "      <th>category_main</th>\n",
       "      <th>cat_American restaurant</th>\n",
       "      <th>cat_Coffee shop</th>\n",
       "      <th>cat_Department store</th>\n",
       "      <th>cat_Fast food restaurant</th>\n",
       "      <th>cat_Grocery store</th>\n",
       "      <th>cat_Hotel</th>\n",
       "      <th>cat_Mexican restaurant</th>\n",
       "      <th>cat_Other</th>\n",
       "      <th>cat_Pizza restaurant</th>\n",
       "      <th>cat_Restaurant</th>\n",
       "      <th>cat_Shopping mall</th>\n",
       "      <th>price_encoded</th>\n",
       "      <th>year</th>\n",
       "      <th>month</th>\n",
       "      <th>weekday</th>\n",
       "      <th>hour</th>\n",
       "      <th>text_len</th>\n",
       "      <th>log_num_reviews</th>\n",
       "      <th>rating_deviation</th>\n",
       "      <th>sentiment_polarity</th>\n",
       "      <th>sentiment_subjectivity</th>\n",
       "      <th>excessive_exclaim</th>\n",
       "    </tr>\n",
       "  </thead>\n",
       "  <tbody>\n",
       "    <tr>\n",
       "      <th>0</th>\n",
       "      <td>107813727678662505612</td>\n",
       "      <td>Felicia Wall</td>\n",
       "      <td>1575939675467</td>\n",
       "      <td>5</td>\n",
       "      <td>Coffee is great and so is the service</td>\n",
       "      <td>0x56c67c7da439c267:0x72f12aacd98f7f2e</td>\n",
       "      <td>60.561418</td>\n",
       "      <td>-151.285291</td>\n",
       "      <td>[Cafe]</td>\n",
       "      <td>4.6</td>\n",
       "      <td>72</td>\n",
       "      <td>None</td>\n",
       "      <td>Open ⋅ Closes 3PM</td>\n",
       "      <td>Cafe</td>\n",
       "      <td>False</td>\n",
       "      <td>False</td>\n",
       "      <td>False</td>\n",
       "      <td>False</td>\n",
       "      <td>False</td>\n",
       "      <td>False</td>\n",
       "      <td>False</td>\n",
       "      <td>True</td>\n",
       "      <td>False</td>\n",
       "      <td>False</td>\n",
       "      <td>False</td>\n",
       "      <td>0</td>\n",
       "      <td>2019</td>\n",
       "      <td>12</td>\n",
       "      <td>1</td>\n",
       "      <td>1</td>\n",
       "      <td>37</td>\n",
       "      <td>4.290459</td>\n",
       "      <td>0.4</td>\n",
       "      <td>0.800000</td>\n",
       "      <td>0.750000</td>\n",
       "      <td>False</td>\n",
       "    </tr>\n",
       "    <tr>\n",
       "      <th>1</th>\n",
       "      <td>103473424444871906765</td>\n",
       "      <td>Garry Hanley</td>\n",
       "      <td>1602702499311</td>\n",
       "      <td>5</td>\n",
       "      <td>Easy in and out experience.  Reasonable pricing for the convenience.  We use them for most all our DMV needs.</td>\n",
       "      <td>0x56c899de8ee5d2a5:0xb15f3c48a1dc94f0</td>\n",
       "      <td>61.137792</td>\n",
       "      <td>-149.836917</td>\n",
       "      <td>[Department of motor vehicles, Auto tag agency, State government office]</td>\n",
       "      <td>4.2</td>\n",
       "      <td>114</td>\n",
       "      <td>None</td>\n",
       "      <td>Closed ⋅ Opens 9AM</td>\n",
       "      <td>Department of motor vehicles</td>\n",
       "      <td>False</td>\n",
       "      <td>False</td>\n",
       "      <td>False</td>\n",
       "      <td>False</td>\n",
       "      <td>False</td>\n",
       "      <td>False</td>\n",
       "      <td>False</td>\n",
       "      <td>True</td>\n",
       "      <td>False</td>\n",
       "      <td>False</td>\n",
       "      <td>False</td>\n",
       "      <td>0</td>\n",
       "      <td>2020</td>\n",
       "      <td>10</td>\n",
       "      <td>2</td>\n",
       "      <td>19</td>\n",
       "      <td>109</td>\n",
       "      <td>4.744932</td>\n",
       "      <td>0.8</td>\n",
       "      <td>0.377778</td>\n",
       "      <td>0.644444</td>\n",
       "      <td>False</td>\n",
       "    </tr>\n",
       "    <tr>\n",
       "      <th>2</th>\n",
       "      <td>104393976961042472712</td>\n",
       "      <td>Nathan Harrison</td>\n",
       "      <td>1559438084515</td>\n",
       "      <td>4</td>\n",
       "      <td>Great lunch, service could be better as there wasn't many people there.</td>\n",
       "      <td>0x56c894263c293e31:0x39aa7cb841273597</td>\n",
       "      <td>61.228926</td>\n",
       "      <td>-149.741000</td>\n",
       "      <td>[Restaurant, Brewpub, Pizza restaurant, Sports bar]</td>\n",
       "      <td>3.9</td>\n",
       "      <td>648</td>\n",
       "      <td>$$</td>\n",
       "      <td>None</td>\n",
       "      <td>Restaurant</td>\n",
       "      <td>False</td>\n",
       "      <td>False</td>\n",
       "      <td>False</td>\n",
       "      <td>False</td>\n",
       "      <td>False</td>\n",
       "      <td>False</td>\n",
       "      <td>False</td>\n",
       "      <td>False</td>\n",
       "      <td>False</td>\n",
       "      <td>True</td>\n",
       "      <td>False</td>\n",
       "      <td>2</td>\n",
       "      <td>2019</td>\n",
       "      <td>6</td>\n",
       "      <td>6</td>\n",
       "      <td>1</td>\n",
       "      <td>71</td>\n",
       "      <td>6.475433</td>\n",
       "      <td>0.1</td>\n",
       "      <td>0.600000</td>\n",
       "      <td>0.583333</td>\n",
       "      <td>False</td>\n",
       "    </tr>\n",
       "    <tr>\n",
       "      <th>3</th>\n",
       "      <td>110829207026204377440</td>\n",
       "      <td>Terry Oakes</td>\n",
       "      <td>1578766259352</td>\n",
       "      <td>3</td>\n",
       "      <td>Small portions and do not give you what the menu lists.</td>\n",
       "      <td>0x51325b0542590ed1:0xaba794ec633521ef</td>\n",
       "      <td>64.821774</td>\n",
       "      <td>-147.713617</td>\n",
       "      <td>[Restaurant]</td>\n",
       "      <td>4.2</td>\n",
       "      <td>125</td>\n",
       "      <td>None</td>\n",
       "      <td>Closed ⋅ Opens 11AM Sun</td>\n",
       "      <td>Restaurant</td>\n",
       "      <td>False</td>\n",
       "      <td>False</td>\n",
       "      <td>False</td>\n",
       "      <td>False</td>\n",
       "      <td>False</td>\n",
       "      <td>False</td>\n",
       "      <td>False</td>\n",
       "      <td>False</td>\n",
       "      <td>False</td>\n",
       "      <td>True</td>\n",
       "      <td>False</td>\n",
       "      <td>0</td>\n",
       "      <td>2020</td>\n",
       "      <td>1</td>\n",
       "      <td>5</td>\n",
       "      <td>18</td>\n",
       "      <td>55</td>\n",
       "      <td>4.836282</td>\n",
       "      <td>-1.2</td>\n",
       "      <td>-0.250000</td>\n",
       "      <td>0.400000</td>\n",
       "      <td>False</td>\n",
       "    </tr>\n",
       "    <tr>\n",
       "      <th>4</th>\n",
       "      <td>108158723955787868825</td>\n",
       "      <td>Lee Petersen</td>\n",
       "      <td>1501725448031</td>\n",
       "      <td>4</td>\n",
       "      <td>Nice gym, what I expect from a Planet Fitness. Bathrooms and locker rooms are clean. Good variety of machines. Sometimes a bit crowded, but not to...</td>\n",
       "      <td>0x51325acaa661fa4d:0xa0cf5a8e5d34cbde</td>\n",
       "      <td>64.835650</td>\n",
       "      <td>-147.742050</td>\n",
       "      <td>[Gym, Fitness center, Personal trainer, Spa and health club, Tanning salon]</td>\n",
       "      <td>4.1</td>\n",
       "      <td>208</td>\n",
       "      <td>None</td>\n",
       "      <td>Open 24 hours</td>\n",
       "      <td>Gym</td>\n",
       "      <td>False</td>\n",
       "      <td>False</td>\n",
       "      <td>False</td>\n",
       "      <td>False</td>\n",
       "      <td>False</td>\n",
       "      <td>False</td>\n",
       "      <td>False</td>\n",
       "      <td>True</td>\n",
       "      <td>False</td>\n",
       "      <td>False</td>\n",
       "      <td>False</td>\n",
       "      <td>0</td>\n",
       "      <td>2017</td>\n",
       "      <td>8</td>\n",
       "      <td>3</td>\n",
       "      <td>1</td>\n",
       "      <td>152</td>\n",
       "      <td>5.342334</td>\n",
       "      <td>-0.1</td>\n",
       "      <td>0.241667</td>\n",
       "      <td>0.741667</td>\n",
       "      <td>False</td>\n",
       "    </tr>\n",
       "  </tbody>\n",
       "</table>\n",
       "</div>"
      ],
      "text/plain": [
       "                 user_id name_review_user           time  rating                                                                                                                                                   text                                gmap_id   latitude   longitude                                                                     category  avg_rating  num_of_reviews price                    state                 category_main  cat_American restaurant  cat_Coffee shop  cat_Department store  cat_Fast food restaurant  cat_Grocery store  cat_Hotel  cat_Mexican restaurant  cat_Other  cat_Pizza restaurant  cat_Restaurant  cat_Shopping mall  price_encoded  year  month  weekday  hour  text_len  log_num_reviews  rating_deviation  sentiment_polarity  sentiment_subjectivity  excessive_exclaim\n",
       "0  107813727678662505612     Felicia Wall  1575939675467       5                                                                                                                  Coffee is great and so is the service  0x56c67c7da439c267:0x72f12aacd98f7f2e  60.561418 -151.285291                                                                       [Cafe]         4.6              72  None        Open ⋅ Closes 3PM                          Cafe                    False            False                 False                     False              False      False                   False       True                 False           False              False              0  2019     12        1     1        37         4.290459               0.4            0.800000                0.750000              False\n",
       "1  103473424444871906765     Garry Hanley  1602702499311       5                                          Easy in and out experience.  Reasonable pricing for the convenience.  We use them for most all our DMV needs.  0x56c899de8ee5d2a5:0xb15f3c48a1dc94f0  61.137792 -149.836917     [Department of motor vehicles, Auto tag agency, State government office]         4.2             114  None       Closed ⋅ Opens 9AM  Department of motor vehicles                    False            False                 False                     False              False      False                   False       True                 False           False              False              0  2020     10        2    19       109         4.744932               0.8            0.377778                0.644444              False\n",
       "2  104393976961042472712  Nathan Harrison  1559438084515       4                                                                                Great lunch, service could be better as there wasn't many people there.  0x56c894263c293e31:0x39aa7cb841273597  61.228926 -149.741000                          [Restaurant, Brewpub, Pizza restaurant, Sports bar]         3.9             648    $$                     None                    Restaurant                    False            False                 False                     False              False      False                   False      False                 False            True              False              2  2019      6        6     1        71         6.475433               0.1            0.600000                0.583333              False\n",
       "3  110829207026204377440      Terry Oakes  1578766259352       3                                                                                                Small portions and do not give you what the menu lists.  0x51325b0542590ed1:0xaba794ec633521ef  64.821774 -147.713617                                                                 [Restaurant]         4.2             125  None  Closed ⋅ Opens 11AM Sun                    Restaurant                    False            False                 False                     False              False      False                   False      False                 False            True              False              0  2020      1        5    18        55         4.836282              -1.2           -0.250000                0.400000              False\n",
       "4  108158723955787868825     Lee Petersen  1501725448031       4  Nice gym, what I expect from a Planet Fitness. Bathrooms and locker rooms are clean. Good variety of machines. Sometimes a bit crowded, but not to...  0x51325acaa661fa4d:0xa0cf5a8e5d34cbde  64.835650 -147.742050  [Gym, Fitness center, Personal trainer, Spa and health club, Tanning salon]         4.1             208  None            Open 24 hours                           Gym                    False            False                 False                     False              False      False                   False       True                 False           False              False              0  2017      8        3     1       152         5.342334              -0.1            0.241667                0.741667              False"
      ]
     },
     "metadata": {},
     "output_type": "display_data"
    },
    {
     "data": {
      "text/plain": [
       "'\\nAutoencoder Model Summary (PyTorch):'"
      ]
     },
     "metadata": {},
     "output_type": "display_data"
    },
    {
     "data": {
      "text/plain": [
       "Autoencoder(\n",
       "  (encoder): Sequential(\n",
       "    (0): Linear(in_features=25, out_features=20, bias=True)\n",
       "    (1): LeakyReLU(negative_slope=0.01)\n",
       "    (2): Linear(in_features=20, out_features=10, bias=True)\n",
       "    (3): LeakyReLU(negative_slope=0.01)\n",
       "  )\n",
       "  (decoder): Sequential(\n",
       "    (0): Linear(in_features=10, out_features=20, bias=True)\n",
       "    (1): LeakyReLU(negative_slope=0.01)\n",
       "    (2): Linear(in_features=20, out_features=25, bias=True)\n",
       "    (3): Sigmoid()\n",
       "  )\n",
       ")"
      ]
     },
     "metadata": {},
     "output_type": "display_data"
    },
    {
     "data": {
      "text/plain": [
       "'\\nTraining Autoencoder for 50 epochs...'"
      ]
     },
     "metadata": {},
     "output_type": "display_data"
    },
    {
     "data": {
      "text/plain": [
       "'Using device: cpu'"
      ]
     },
     "metadata": {},
     "output_type": "display_data"
    },
    {
     "data": {
      "text/plain": [
       "'Epoch 1/50, Train Loss: 0.0581, Val Loss: 0.0364'"
      ]
     },
     "metadata": {},
     "output_type": "display_data"
    },
    {
     "data": {
      "text/plain": [
       "'Epoch 2/50, Train Loss: 0.0308, Val Loss: 0.0265'"
      ]
     },
     "metadata": {},
     "output_type": "display_data"
    },
    {
     "data": {
      "text/plain": [
       "'Epoch 3/50, Train Loss: 0.0238, Val Loss: 0.0201'"
      ]
     },
     "metadata": {},
     "output_type": "display_data"
    },
    {
     "data": {
      "text/plain": [
       "'Epoch 4/50, Train Loss: 0.0190, Val Loss: 0.0170'"
      ]
     },
     "metadata": {},
     "output_type": "display_data"
    },
    {
     "data": {
      "text/plain": [
       "'Epoch 5/50, Train Loss: 0.0162, Val Loss: 0.0145'"
      ]
     },
     "metadata": {},
     "output_type": "display_data"
    },
    {
     "data": {
      "text/plain": [
       "'Epoch 6/50, Train Loss: 0.0134, Val Loss: 0.0114'"
      ]
     },
     "metadata": {},
     "output_type": "display_data"
    },
    {
     "data": {
      "text/plain": [
       "'Epoch 7/50, Train Loss: 0.0107, Val Loss: 0.0093'"
      ]
     },
     "metadata": {},
     "output_type": "display_data"
    },
    {
     "data": {
      "text/plain": [
       "'Epoch 8/50, Train Loss: 0.0092, Val Loss: 0.0082'"
      ]
     },
     "metadata": {},
     "output_type": "display_data"
    },
    {
     "data": {
      "text/plain": [
       "'Epoch 9/50, Train Loss: 0.0082, Val Loss: 0.0074'"
      ]
     },
     "metadata": {},
     "output_type": "display_data"
    },
    {
     "data": {
      "text/plain": [
       "'Epoch 10/50, Train Loss: 0.0072, Val Loss: 0.0065'"
      ]
     },
     "metadata": {},
     "output_type": "display_data"
    },
    {
     "data": {
      "text/plain": [
       "'Epoch 11/50, Train Loss: 0.0064, Val Loss: 0.0058'"
      ]
     },
     "metadata": {},
     "output_type": "display_data"
    },
    {
     "data": {
      "text/plain": [
       "'Epoch 12/50, Train Loss: 0.0058, Val Loss: 0.0054'"
      ]
     },
     "metadata": {},
     "output_type": "display_data"
    },
    {
     "data": {
      "text/plain": [
       "'Epoch 13/50, Train Loss: 0.0054, Val Loss: 0.0050'"
      ]
     },
     "metadata": {},
     "output_type": "display_data"
    },
    {
     "data": {
      "text/plain": [
       "'Epoch 14/50, Train Loss: 0.0050, Val Loss: 0.0047'"
      ]
     },
     "metadata": {},
     "output_type": "display_data"
    },
    {
     "data": {
      "text/plain": [
       "'Epoch 15/50, Train Loss: 0.0048, Val Loss: 0.0045'"
      ]
     },
     "metadata": {},
     "output_type": "display_data"
    },
    {
     "data": {
      "text/plain": [
       "'Epoch 16/50, Train Loss: 0.0046, Val Loss: 0.0043'"
      ]
     },
     "metadata": {},
     "output_type": "display_data"
    },
    {
     "data": {
      "text/plain": [
       "'Epoch 17/50, Train Loss: 0.0044, Val Loss: 0.0042'"
      ]
     },
     "metadata": {},
     "output_type": "display_data"
    },
    {
     "data": {
      "text/plain": [
       "'Epoch 18/50, Train Loss: 0.0043, Val Loss: 0.0041'"
      ]
     },
     "metadata": {},
     "output_type": "display_data"
    },
    {
     "data": {
      "text/plain": [
       "'Epoch 19/50, Train Loss: 0.0042, Val Loss: 0.0040'"
      ]
     },
     "metadata": {},
     "output_type": "display_data"
    },
    {
     "data": {
      "text/plain": [
       "'Epoch 20/50, Train Loss: 0.0041, Val Loss: 0.0040'"
      ]
     },
     "metadata": {},
     "output_type": "display_data"
    },
    {
     "data": {
      "text/plain": [
       "'Epoch 21/50, Train Loss: 0.0040, Val Loss: 0.0039'"
      ]
     },
     "metadata": {},
     "output_type": "display_data"
    },
    {
     "data": {
      "text/plain": [
       "'Epoch 22/50, Train Loss: 0.0039, Val Loss: 0.0037'"
      ]
     },
     "metadata": {},
     "output_type": "display_data"
    },
    {
     "data": {
      "text/plain": [
       "'Epoch 23/50, Train Loss: 0.0038, Val Loss: 0.0037'"
      ]
     },
     "metadata": {},
     "output_type": "display_data"
    },
    {
     "data": {
      "text/plain": [
       "'Epoch 24/50, Train Loss: 0.0037, Val Loss: 0.0036'"
      ]
     },
     "metadata": {},
     "output_type": "display_data"
    },
    {
     "data": {
      "text/plain": [
       "'Epoch 25/50, Train Loss: 0.0037, Val Loss: 0.0035'"
      ]
     },
     "metadata": {},
     "output_type": "display_data"
    },
    {
     "data": {
      "text/plain": [
       "'Epoch 26/50, Train Loss: 0.0036, Val Loss: 0.0034'"
      ]
     },
     "metadata": {},
     "output_type": "display_data"
    },
    {
     "data": {
      "text/plain": [
       "'Epoch 27/50, Train Loss: 0.0035, Val Loss: 0.0034'"
      ]
     },
     "metadata": {},
     "output_type": "display_data"
    },
    {
     "data": {
      "text/plain": [
       "'Epoch 28/50, Train Loss: 0.0034, Val Loss: 0.0033'"
      ]
     },
     "metadata": {},
     "output_type": "display_data"
    },
    {
     "data": {
      "text/plain": [
       "'Epoch 29/50, Train Loss: 0.0034, Val Loss: 0.0033'"
      ]
     },
     "metadata": {},
     "output_type": "display_data"
    },
    {
     "data": {
      "text/plain": [
       "'Epoch 30/50, Train Loss: 0.0033, Val Loss: 0.0032'"
      ]
     },
     "metadata": {},
     "output_type": "display_data"
    },
    {
     "data": {
      "text/plain": [
       "'Epoch 31/50, Train Loss: 0.0033, Val Loss: 0.0030'"
      ]
     },
     "metadata": {},
     "output_type": "display_data"
    },
    {
     "data": {
      "text/plain": [
       "'Epoch 32/50, Train Loss: 0.0032, Val Loss: 0.0031'"
      ]
     },
     "metadata": {},
     "output_type": "display_data"
    },
    {
     "data": {
      "text/plain": [
       "'Epoch 33/50, Train Loss: 0.0032, Val Loss: 0.0030'"
      ]
     },
     "metadata": {},
     "output_type": "display_data"
    },
    {
     "data": {
      "text/plain": [
       "'Epoch 34/50, Train Loss: 0.0031, Val Loss: 0.0030'"
      ]
     },
     "metadata": {},
     "output_type": "display_data"
    },
    {
     "data": {
      "text/plain": [
       "'Epoch 35/50, Train Loss: 0.0031, Val Loss: 0.0029'"
      ]
     },
     "metadata": {},
     "output_type": "display_data"
    },
    {
     "data": {
      "text/plain": [
       "'Epoch 36/50, Train Loss: 0.0030, Val Loss: 0.0029'"
      ]
     },
     "metadata": {},
     "output_type": "display_data"
    },
    {
     "data": {
      "text/plain": [
       "'Epoch 37/50, Train Loss: 0.0030, Val Loss: 0.0029'"
      ]
     },
     "metadata": {},
     "output_type": "display_data"
    },
    {
     "data": {
      "text/plain": [
       "'Epoch 38/50, Train Loss: 0.0030, Val Loss: 0.0029'"
      ]
     },
     "metadata": {},
     "output_type": "display_data"
    },
    {
     "data": {
      "text/plain": [
       "'Epoch 39/50, Train Loss: 0.0030, Val Loss: 0.0028'"
      ]
     },
     "metadata": {},
     "output_type": "display_data"
    },
    {
     "data": {
      "text/plain": [
       "'Epoch 40/50, Train Loss: 0.0030, Val Loss: 0.0029'"
      ]
     },
     "metadata": {},
     "output_type": "display_data"
    },
    {
     "data": {
      "text/plain": [
       "'Epoch 41/50, Train Loss: 0.0029, Val Loss: 0.0028'"
      ]
     },
     "metadata": {},
     "output_type": "display_data"
    },
    {
     "data": {
      "text/plain": [
       "'Epoch 42/50, Train Loss: 0.0029, Val Loss: 0.0028'"
      ]
     },
     "metadata": {},
     "output_type": "display_data"
    },
    {
     "data": {
      "text/plain": [
       "'Epoch 43/50, Train Loss: 0.0029, Val Loss: 0.0028'"
      ]
     },
     "metadata": {},
     "output_type": "display_data"
    },
    {
     "data": {
      "text/plain": [
       "'Epoch 44/50, Train Loss: 0.0029, Val Loss: 0.0028'"
      ]
     },
     "metadata": {},
     "output_type": "display_data"
    },
    {
     "data": {
      "text/plain": [
       "'Epoch 45/50, Train Loss: 0.0029, Val Loss: 0.0028'"
      ]
     },
     "metadata": {},
     "output_type": "display_data"
    },
    {
     "data": {
      "text/plain": [
       "'Epoch 46/50, Train Loss: 0.0029, Val Loss: 0.0027'"
      ]
     },
     "metadata": {},
     "output_type": "display_data"
    },
    {
     "data": {
      "text/plain": [
       "'Epoch 47/50, Train Loss: 0.0029, Val Loss: 0.0028'"
      ]
     },
     "metadata": {},
     "output_type": "display_data"
    },
    {
     "data": {
      "text/plain": [
       "'Epoch 48/50, Train Loss: 0.0029, Val Loss: 0.0027'"
      ]
     },
     "metadata": {},
     "output_type": "display_data"
    },
    {
     "data": {
      "text/plain": [
       "'Epoch 49/50, Train Loss: 0.0028, Val Loss: 0.0027'"
      ]
     },
     "metadata": {},
     "output_type": "display_data"
    },
    {
     "data": {
      "text/plain": [
       "'Epoch 50/50, Train Loss: 0.0028, Val Loss: 0.0028'"
      ]
     },
     "metadata": {},
     "output_type": "display_data"
    },
    {
     "data": {
      "text/plain": [
       "'\\nTraining complete.'"
      ]
     },
     "metadata": {},
     "output_type": "display_data"
    },
    {
     "data": {
      "text/plain": [
       "'\\nReconstruction errors calculated and z-scored.'"
      ]
     },
     "metadata": {},
     "output_type": "display_data"
    },
    {
     "data": {
      "text/plain": [
       "'First 10 reviews with their z-scored autoencoder reconstruction error:'"
      ]
     },
     "metadata": {},
     "output_type": "display_data"
    },
    {
     "data": {
      "text/html": [
       "<div>\n",
       "<style scoped>\n",
       "    .dataframe tbody tr th:only-of-type {\n",
       "        vertical-align: middle;\n",
       "    }\n",
       "\n",
       "    .dataframe tbody tr th {\n",
       "        vertical-align: top;\n",
       "    }\n",
       "\n",
       "    .dataframe thead th {\n",
       "        text-align: right;\n",
       "    }\n",
       "</style>\n",
       "<table border=\"1\" class=\"dataframe\">\n",
       "  <thead>\n",
       "    <tr style=\"text-align: right;\">\n",
       "      <th></th>\n",
       "      <th>ae_reconstruction_error_zscore</th>\n",
       "      <th>rating</th>\n",
       "      <th>text_len</th>\n",
       "      <th>rating_deviation</th>\n",
       "      <th>sentiment_polarity</th>\n",
       "      <th>sentiment_subjectivity</th>\n",
       "      <th>excessive_exclaim</th>\n",
       "      <th>avg_rating</th>\n",
       "      <th>num_of_reviews</th>\n",
       "      <th>log_num_reviews</th>\n",
       "      <th>price_encoded</th>\n",
       "      <th>year</th>\n",
       "      <th>month</th>\n",
       "      <th>weekday</th>\n",
       "      <th>hour</th>\n",
       "      <th>cat_American restaurant</th>\n",
       "      <th>cat_Coffee shop</th>\n",
       "      <th>cat_Department store</th>\n",
       "      <th>cat_Fast food restaurant</th>\n",
       "      <th>cat_Grocery store</th>\n",
       "      <th>cat_Hotel</th>\n",
       "      <th>cat_Mexican restaurant</th>\n",
       "      <th>cat_Other</th>\n",
       "      <th>cat_Pizza restaurant</th>\n",
       "      <th>cat_Restaurant</th>\n",
       "      <th>cat_Shopping mall</th>\n",
       "    </tr>\n",
       "  </thead>\n",
       "  <tbody>\n",
       "    <tr>\n",
       "      <th>0</th>\n",
       "      <td>-0.319569</td>\n",
       "      <td>5</td>\n",
       "      <td>37</td>\n",
       "      <td>0.4</td>\n",
       "      <td>0.800000</td>\n",
       "      <td>0.750000</td>\n",
       "      <td>False</td>\n",
       "      <td>4.6</td>\n",
       "      <td>72</td>\n",
       "      <td>4.290459</td>\n",
       "      <td>0</td>\n",
       "      <td>2019</td>\n",
       "      <td>12</td>\n",
       "      <td>1</td>\n",
       "      <td>1</td>\n",
       "      <td>False</td>\n",
       "      <td>False</td>\n",
       "      <td>False</td>\n",
       "      <td>False</td>\n",
       "      <td>False</td>\n",
       "      <td>False</td>\n",
       "      <td>False</td>\n",
       "      <td>True</td>\n",
       "      <td>False</td>\n",
       "      <td>False</td>\n",
       "      <td>False</td>\n",
       "    </tr>\n",
       "    <tr>\n",
       "      <th>1</th>\n",
       "      <td>-0.198078</td>\n",
       "      <td>5</td>\n",
       "      <td>109</td>\n",
       "      <td>0.8</td>\n",
       "      <td>0.377778</td>\n",
       "      <td>0.644444</td>\n",
       "      <td>False</td>\n",
       "      <td>4.2</td>\n",
       "      <td>114</td>\n",
       "      <td>4.744932</td>\n",
       "      <td>0</td>\n",
       "      <td>2020</td>\n",
       "      <td>10</td>\n",
       "      <td>2</td>\n",
       "      <td>19</td>\n",
       "      <td>False</td>\n",
       "      <td>False</td>\n",
       "      <td>False</td>\n",
       "      <td>False</td>\n",
       "      <td>False</td>\n",
       "      <td>False</td>\n",
       "      <td>False</td>\n",
       "      <td>True</td>\n",
       "      <td>False</td>\n",
       "      <td>False</td>\n",
       "      <td>False</td>\n",
       "    </tr>\n",
       "    <tr>\n",
       "      <th>2</th>\n",
       "      <td>-0.193262</td>\n",
       "      <td>4</td>\n",
       "      <td>71</td>\n",
       "      <td>0.1</td>\n",
       "      <td>0.600000</td>\n",
       "      <td>0.583333</td>\n",
       "      <td>False</td>\n",
       "      <td>3.9</td>\n",
       "      <td>648</td>\n",
       "      <td>6.475433</td>\n",
       "      <td>2</td>\n",
       "      <td>2019</td>\n",
       "      <td>6</td>\n",
       "      <td>6</td>\n",
       "      <td>1</td>\n",
       "      <td>False</td>\n",
       "      <td>False</td>\n",
       "      <td>False</td>\n",
       "      <td>False</td>\n",
       "      <td>False</td>\n",
       "      <td>False</td>\n",
       "      <td>False</td>\n",
       "      <td>False</td>\n",
       "      <td>False</td>\n",
       "      <td>True</td>\n",
       "      <td>False</td>\n",
       "    </tr>\n",
       "    <tr>\n",
       "      <th>3</th>\n",
       "      <td>-0.012411</td>\n",
       "      <td>3</td>\n",
       "      <td>55</td>\n",
       "      <td>-1.2</td>\n",
       "      <td>-0.250000</td>\n",
       "      <td>0.400000</td>\n",
       "      <td>False</td>\n",
       "      <td>4.2</td>\n",
       "      <td>125</td>\n",
       "      <td>4.836282</td>\n",
       "      <td>0</td>\n",
       "      <td>2020</td>\n",
       "      <td>1</td>\n",
       "      <td>5</td>\n",
       "      <td>18</td>\n",
       "      <td>False</td>\n",
       "      <td>False</td>\n",
       "      <td>False</td>\n",
       "      <td>False</td>\n",
       "      <td>False</td>\n",
       "      <td>False</td>\n",
       "      <td>False</td>\n",
       "      <td>False</td>\n",
       "      <td>False</td>\n",
       "      <td>True</td>\n",
       "      <td>False</td>\n",
       "    </tr>\n",
       "    <tr>\n",
       "      <th>4</th>\n",
       "      <td>-0.274464</td>\n",
       "      <td>4</td>\n",
       "      <td>152</td>\n",
       "      <td>-0.1</td>\n",
       "      <td>0.241667</td>\n",
       "      <td>0.741667</td>\n",
       "      <td>False</td>\n",
       "      <td>4.1</td>\n",
       "      <td>208</td>\n",
       "      <td>5.342334</td>\n",
       "      <td>0</td>\n",
       "      <td>2017</td>\n",
       "      <td>8</td>\n",
       "      <td>3</td>\n",
       "      <td>1</td>\n",
       "      <td>False</td>\n",
       "      <td>False</td>\n",
       "      <td>False</td>\n",
       "      <td>False</td>\n",
       "      <td>False</td>\n",
       "      <td>False</td>\n",
       "      <td>False</td>\n",
       "      <td>True</td>\n",
       "      <td>False</td>\n",
       "      <td>False</td>\n",
       "      <td>False</td>\n",
       "    </tr>\n",
       "    <tr>\n",
       "      <th>5</th>\n",
       "      <td>-0.123624</td>\n",
       "      <td>5</td>\n",
       "      <td>123</td>\n",
       "      <td>0.8</td>\n",
       "      <td>0.250000</td>\n",
       "      <td>0.812500</td>\n",
       "      <td>False</td>\n",
       "      <td>4.2</td>\n",
       "      <td>328</td>\n",
       "      <td>5.796058</td>\n",
       "      <td>2</td>\n",
       "      <td>2019</td>\n",
       "      <td>7</td>\n",
       "      <td>2</td>\n",
       "      <td>3</td>\n",
       "      <td>False</td>\n",
       "      <td>False</td>\n",
       "      <td>False</td>\n",
       "      <td>False</td>\n",
       "      <td>False</td>\n",
       "      <td>False</td>\n",
       "      <td>True</td>\n",
       "      <td>False</td>\n",
       "      <td>False</td>\n",
       "      <td>False</td>\n",
       "      <td>False</td>\n",
       "    </tr>\n",
       "    <tr>\n",
       "      <th>6</th>\n",
       "      <td>0.727963</td>\n",
       "      <td>1</td>\n",
       "      <td>64</td>\n",
       "      <td>-2.7</td>\n",
       "      <td>-1.000000</td>\n",
       "      <td>0.900000</td>\n",
       "      <td>False</td>\n",
       "      <td>3.7</td>\n",
       "      <td>718</td>\n",
       "      <td>6.577861</td>\n",
       "      <td>1</td>\n",
       "      <td>2019</td>\n",
       "      <td>6</td>\n",
       "      <td>4</td>\n",
       "      <td>6</td>\n",
       "      <td>False</td>\n",
       "      <td>False</td>\n",
       "      <td>False</td>\n",
       "      <td>True</td>\n",
       "      <td>False</td>\n",
       "      <td>False</td>\n",
       "      <td>False</td>\n",
       "      <td>False</td>\n",
       "      <td>False</td>\n",
       "      <td>False</td>\n",
       "      <td>False</td>\n",
       "    </tr>\n",
       "    <tr>\n",
       "      <th>7</th>\n",
       "      <td>0.153349</td>\n",
       "      <td>5</td>\n",
       "      <td>27</td>\n",
       "      <td>0.3</td>\n",
       "      <td>1.000000</td>\n",
       "      <td>0.300000</td>\n",
       "      <td>False</td>\n",
       "      <td>4.7</td>\n",
       "      <td>412</td>\n",
       "      <td>6.023448</td>\n",
       "      <td>0</td>\n",
       "      <td>2019</td>\n",
       "      <td>1</td>\n",
       "      <td>0</td>\n",
       "      <td>4</td>\n",
       "      <td>False</td>\n",
       "      <td>False</td>\n",
       "      <td>False</td>\n",
       "      <td>False</td>\n",
       "      <td>False</td>\n",
       "      <td>False</td>\n",
       "      <td>False</td>\n",
       "      <td>True</td>\n",
       "      <td>False</td>\n",
       "      <td>False</td>\n",
       "      <td>False</td>\n",
       "    </tr>\n",
       "    <tr>\n",
       "      <th>8</th>\n",
       "      <td>0.096131</td>\n",
       "      <td>1</td>\n",
       "      <td>137</td>\n",
       "      <td>-3.5</td>\n",
       "      <td>0.300000</td>\n",
       "      <td>0.300000</td>\n",
       "      <td>False</td>\n",
       "      <td>4.5</td>\n",
       "      <td>138</td>\n",
       "      <td>4.934474</td>\n",
       "      <td>0</td>\n",
       "      <td>2019</td>\n",
       "      <td>5</td>\n",
       "      <td>6</td>\n",
       "      <td>20</td>\n",
       "      <td>False</td>\n",
       "      <td>False</td>\n",
       "      <td>False</td>\n",
       "      <td>False</td>\n",
       "      <td>False</td>\n",
       "      <td>False</td>\n",
       "      <td>False</td>\n",
       "      <td>True</td>\n",
       "      <td>False</td>\n",
       "      <td>False</td>\n",
       "      <td>False</td>\n",
       "    </tr>\n",
       "    <tr>\n",
       "      <th>9</th>\n",
       "      <td>0.112083</td>\n",
       "      <td>5</td>\n",
       "      <td>432</td>\n",
       "      <td>0.3</td>\n",
       "      <td>0.137500</td>\n",
       "      <td>0.617361</td>\n",
       "      <td>False</td>\n",
       "      <td>4.7</td>\n",
       "      <td>547</td>\n",
       "      <td>6.306275</td>\n",
       "      <td>2</td>\n",
       "      <td>2017</td>\n",
       "      <td>3</td>\n",
       "      <td>0</td>\n",
       "      <td>4</td>\n",
       "      <td>False</td>\n",
       "      <td>False</td>\n",
       "      <td>False</td>\n",
       "      <td>False</td>\n",
       "      <td>False</td>\n",
       "      <td>False</td>\n",
       "      <td>False</td>\n",
       "      <td>True</td>\n",
       "      <td>False</td>\n",
       "      <td>False</td>\n",
       "      <td>False</td>\n",
       "    </tr>\n",
       "  </tbody>\n",
       "</table>\n",
       "</div>"
      ],
      "text/plain": [
       "   ae_reconstruction_error_zscore  rating  text_len  rating_deviation  sentiment_polarity  sentiment_subjectivity  excessive_exclaim  avg_rating  num_of_reviews  log_num_reviews  price_encoded  year  month  weekday  hour  cat_American restaurant  cat_Coffee shop  cat_Department store  cat_Fast food restaurant  cat_Grocery store  cat_Hotel  cat_Mexican restaurant  cat_Other  cat_Pizza restaurant  cat_Restaurant  cat_Shopping mall\n",
       "0                       -0.319569       5        37               0.4            0.800000                0.750000              False         4.6              72         4.290459              0  2019     12        1     1                    False            False                 False                     False              False      False                   False       True                 False           False              False\n",
       "1                       -0.198078       5       109               0.8            0.377778                0.644444              False         4.2             114         4.744932              0  2020     10        2    19                    False            False                 False                     False              False      False                   False       True                 False           False              False\n",
       "2                       -0.193262       4        71               0.1            0.600000                0.583333              False         3.9             648         6.475433              2  2019      6        6     1                    False            False                 False                     False              False      False                   False      False                 False            True              False\n",
       "3                       -0.012411       3        55              -1.2           -0.250000                0.400000              False         4.2             125         4.836282              0  2020      1        5    18                    False            False                 False                     False              False      False                   False      False                 False            True              False\n",
       "4                       -0.274464       4       152              -0.1            0.241667                0.741667              False         4.1             208         5.342334              0  2017      8        3     1                    False            False                 False                     False              False      False                   False       True                 False           False              False\n",
       "5                       -0.123624       5       123               0.8            0.250000                0.812500              False         4.2             328         5.796058              2  2019      7        2     3                    False            False                 False                     False              False      False                    True      False                 False           False              False\n",
       "6                        0.727963       1        64              -2.7           -1.000000                0.900000              False         3.7             718         6.577861              1  2019      6        4     6                    False            False                 False                      True              False      False                   False      False                 False           False              False\n",
       "7                        0.153349       5        27               0.3            1.000000                0.300000              False         4.7             412         6.023448              0  2019      1        0     4                    False            False                 False                     False              False      False                   False       True                 False           False              False\n",
       "8                        0.096131       1       137              -3.5            0.300000                0.300000              False         4.5             138         4.934474              0  2019      5        6    20                    False            False                 False                     False              False      False                   False       True                 False           False              False\n",
       "9                        0.112083       5       432               0.3            0.137500                0.617361              False         4.7             547         6.306275              2  2017      3        0     4                    False            False                 False                     False              False      False                   False       True                 False           False              False"
      ]
     },
     "metadata": {},
     "output_type": "display_data"
    },
    {
     "data": {
      "text/plain": [
       "'\\nNumber of potential anomalies (z-score > 2.0): 699'"
      ]
     },
     "metadata": {},
     "output_type": "display_data"
    },
    {
     "name": "stdout",
     "output_type": "stream",
     "text": [
      "\n",
      "Displaying the top 20 anomalies with all their features (sorted by anomaly score):\n",
      "                     user_id    name_review_user           time  rating                                                                                                                                                   text                                gmap_id   latitude   longitude                                                                                                                                               category  avg_rating  num_of_reviews price                                  state            category_main  cat_American restaurant  cat_Coffee shop  cat_Department store  cat_Fast food restaurant  cat_Grocery store  cat_Hotel  cat_Mexican restaurant  cat_Other  cat_Pizza restaurant  cat_Restaurant  cat_Shopping mall  price_encoded  year  month  weekday  hour  text_len  log_num_reviews  rating_deviation  sentiment_polarity  sentiment_subjectivity  excessive_exclaim  ae_reconstruction_error_zscore\n",
      "20034  108416236401602147989       TheKing Jayce  1553188814070       5          I was having the worst week until I got my #2 and now I could die right now and be ok with the world. Love me some friskie fries!!! Go now !!  0x89e44513b069c031:0x2ff1cdaf63f4b07c  41.823134  -71.414479                                                                                                            [American restaurant, Fast food restaurant]         4.5             478  None                    Closed ⋅ Opens 12PM      American restaurant                     True            False                 False                     False              False      False                   False      False                 False           False              False              0  2019      3        3    17       141         6.171701               0.5            0.196429                0.658929               True                       12.235585\n",
      "783    111457712265234071422            Bob Mill  1478648201291       5                                                                                                                                        Chicken! Yum!!!  0x56c8963ac42857b7:0xbd06ac316a12f454  61.217857 -149.863398                                                                                                 [Chicken restaurant, Hamburger restaurant, Restaurant]         4.5            1353    $$                                   None       Chicken restaurant                    False            False                 False                     False              False      False                   False       True                 False           False              False              2  2016     11        1    23        15         7.210818               0.5           -1.000000                0.950000               True                       11.699906\n",
      "5275   103011634905452709786       Derrick Davis  1580274107806       4                                                                                  CHICKEN WINGS !! CHICKEN WINGS!!! CHICKEN WINGS!!! GARLIC AND PARM!!!  0x89c6e2d1d88537c1:0x60622f3f88486bfe  39.753409  -75.520036                                                                                                                                                  [Bar]         4.2             164     $                      Open ⋅ Closes 1AM                      Bar                    False            False                 False                     False              False      False                   False       True                 False           False              False              1  2020      1        2     5        69         5.105945              -0.2           -0.979167                0.950000               True                       10.026599\n",
      "637    102656145998835130709       Jennie Louwes  1532240437771       5  Out of all of the grocery stores in Juneau, I choose to shop at Safeway. It's my favorite. From the angled, easy parking for your vehicle outside,...   0x54011e1cd5d96e33:0x7305e5f3711fae3  58.370952 -134.595727                                                                                                              [Grocery store, Grocery delivery service]         4.0             516    $$                     Open ⋅ Closes 12AM            Grocery store                    False            False                 False                     False               True      False                   False      False                 False           False              False              2  2018      7        6     6      2755         6.248043               1.0            0.194948                0.462037               True                        9.920596\n",
      "19706  111532410796864313594       Ashley Nazare  1507621753230       1           THIS IS THE WORST RESTAURANT I HAVE EVER BEEN TOO! DO NOT EAT HERE! THEY HAVE BUGS AND RATS! THEY ALSO HAVE TERRIBLE AWFUL CUSTOMER SERVICE!   0x89e445abd55e0adb:0x1d824ab206b5e51  41.837568  -71.432985                                                                                            [Pizza restaurant, Italian restaurant, Delivery Restaurant]         3.2             308    $$                      Open ⋅ Closes 4AM         Pizza restaurant                    False            False                 False                     False              False      False                   False      False                  True           False              False              2  2017     10        1     7       140         5.733341              -2.2           -1.000000                1.000000               True                        9.645043\n",
      "7432   103012846675996671521          True Story  1615811888668       5                                                                                 Take em down Rhode Island Avenue Parking Lot....... Do em Dirty!!!!!!!  0x89b7b80bd283ca23:0xc9d3225c02b8999d  38.919442  -76.992261                                                                                                                                        [Grocery store]         4.1            1484    $$                                   None            Grocery store                    False            False                 False                     False               True      False                   False      False                 False           False              False              2  2021      3        0    12        70         7.303170               0.9           -0.577778                0.544444               True                        9.299773\n",
      "3220   117436125207307684476        ma of Autism  1533138889049       1  Salad bar had nothing to it. Our waitress acted as if she did NOT want to be there!!! Who charges an up-charge for cottage cheese??!! Very disappo...  0x89c7079bfd966113:0x9db192acecdc255f  39.618601  -75.696359                                                                                         [American restaurant, Diner, Hamburger restaurant, Restaurant]         4.2             893     $                     Open ⋅ Closes 10PM      American restaurant                     True            False                 False                     False              False      False                   False      False                 False           False              False              1  2018      8        2    15       153         6.795706              -3.2           -1.000000                0.975000               True                        9.267433\n",
      "23658  111475691692152226331       brody stevens  1532645671138       5                                                                                                Thanks for the Italian grinder pizza!! It was awesome!!  0x52d7822570e70e2d:0x7f28a502a465cdb8  46.855043 -100.771173                                                                                                                                  [American restaurant]         4.3             998    ₩₩                Closed ⋅ Opens 11AM Tue      American restaurant                     True            False                 False                     False              False      False                   False      False                 False           False              False              0  2018      7        3    22        55         6.906755               0.7            0.400000                0.400000               True                        9.014063\n",
      "26116  107100402765489177493          Rae Savage  1580187495794       5                                                                                        I can't get enough!!! I'm there every week I'm so addicted!!!!!  0x884a680c26d0d8df:0x544ee3f2a067a29b  39.263401  -80.285758  [Department store, Clothing store, Craft store, Discount store, Electronics store, Grocery store, Home goods store, Sporting goods store, Supermar...         3.8            2160     $                                   None         Department store                    False            False                  True                     False              False      False                   False      False                 False           False              False              1  2020      1        1     4        63         7.678326               1.2           -0.500000                0.550000               True                        8.712930\n",
      "17233  101265386365523434376        ibanez222jls  1527968654259       3  Okay, first of all if you see my other ratings I've rated Motel 6 is all over this country as I am a professional and travel.. This Motel 6  has b...  0x876f3aa5d04d0a97:0xd191f3a779e887a4  41.125808 -104.838850                                                                                                                                         [Motel, Hotel]         3.2            1338  None                                   None                    Motel                    False            False                 False                     False              False      False                   False       True                 False           False              False              0  2018      6        5    19      1723         7.199678              -0.2            0.123671                0.529227               True                        8.588221\n",
      "19681  107579561854747511737         Kim Higgins  1528068567470       1                                                                                         75% of the washers and dryers are out of order!!! Pathetic!!!!  0x89e44de5868ccb6b:0xd3575355f3a37b5e  41.711788  -71.397950                                                                                                             [Laundromat, Dry cleaner, Laundry service]         3.8             134  None                          Open 24 hours               Laundromat                    False            False                 False                     False              False      False                   False       True                 False           False              False              0  2018      6        6    23        62         4.905275              -2.8           -1.000000                1.000000               True                        8.504915\n",
      "22361  101428816932692358111          Kim Burton  1602006143088       1                                                                                                                               VERY SLOW SERVICE !!!!!!  0x52c8cb8be55b8047:0x65ca43269826320a  46.859326  -96.819023                                                                                                                                    [Indian restaurant]         4.5             377    $$  Open ⋅ Closes 2:30PM ⋅ Reopens 4:30PM        Indian restaurant                    False            False                 False                     False              False      False                   False       True                 False           False              False              2  2020     10        1    17        24         5.934894              -3.5           -1.000000                0.520000               True                        8.302320\n",
      "429    112947284102685925333        Martin Flora  1589784659005       1  Where to even start!.  6 months ago this would have been a 5 star review!\\nWe live in Fairbanks and purchased a 2014 A6.  Since then it has had to...  0x56c89631c4a5f513:0x232dc97bf098e793  61.165853 -149.866326                                                                                                                         [Audi dealer, Used car dealer]         4.6             318  None                      Open ⋅ Closes 8PM              Audi dealer                    False            False                 False                     False              False      False                   False       True                 False           False              False              0  2020      5        0     6      1888         5.765191              -3.6            0.008089                0.440598               True                        8.258451\n",
      "14852  114481145470183245513  Kimberly Carminati  1557771766344       2                   The told me I needed 3000 down!!! They  were not MIDSTATE DODGE!!!! My DAD use to buy his  vans and pick ups there!!! But  not me!!!  0x4cb507f992f11a1b:0x879fe4646ee75e9b  44.247140  -72.550270  [Ford dealer, Car accessories store, Car dealer, Car finance and loan company, Car leasing service, Car manufacturer, Truck dealer, Used car deale...         4.4             168  None                       Opens soon ⋅ 9AM              Ford dealer                    False            False                 False                     False              False      False                   False       True                 False           False              False              0  2019      5        0    18       132         5.129899              -2.4           -1.000000                0.288889               True                        7.933127\n",
      "21642  117156586492689648088    Scott McCampbell  1512236702742       5  First, I had heard so many bad things about Goldmark, I intentionally avoided renting an apartment managed by them. Two weeks after moving in, I r...  0x52c8cc71fc92af6d:0x25c03c368ee3ae7c  46.846651  -96.815874                                                                                                          [Apartment rental agency, Real estate agency]         2.9             208  None                     Closed ⋅ Opens 8AM  Apartment rental agency                    False            False                 False                     False              False      False                   False       True                 False           False              False              0  2017     12        5    17       516         5.342334               2.1            0.053993                0.289236               True                        7.874961\n",
      "5580   110533876550992308076      Theodore Chang  1568774603117       5  I finally got a chance to check this place out!  Well I was in the area one morning and I decided, why not take a walk to Call Your Mother and che...  0x89b7c9e9aeacee37:0x2ddfd0ff2e145182  38.931347  -77.023319                                                                                                                 [Bagel shop, Bakery, Deli, Restaurant]         4.6             574    $$                                   None               Bagel shop                    False            False                 False                     False              False      False                   False       True                 False           False              False              2  2019      9        2     2      1884         6.354370               0.4            0.318544                0.636111               True                        7.847292\n",
      "26004  108433346599961329565        Margy Nelson  1547482894685       5  Very good food. My daughter got a salad it was huge!!!! We had a booth that had chairs also which I like. The one bad thing it was a very cold nig...  0x884a65d23ff0c6f3:0x7a6c82572e486f26  39.330877  -80.235175                                                                                     [Restaurant, American restaurant, Bar & grill, Takeout Restaurant]         3.9             875    $$                     Open ⋅ Closes 10PM               Restaurant                    False            False                 False                     False              False      False                   False      False                 False            True              False              2  2019      1        0    16       203         6.775366               1.1           -0.074687                0.869333               True                        7.763833\n",
      "7057   117418897399381105104         Tony Thomas  1570573323680       1  Terrible pizza! I got two large pizzas from there recently and I actually had to label them the worst pizza I've ever had in my life and I'm 45 ye...  0x89b7b9cc0e9ba06f:0x12dcba37ea0afc57  38.876676  -76.993346                                                             [Pizza delivery, Delivery Restaurant, Takeout Restaurant, Pizza restaurant, Pizza Takeout]         2.8             508     $                                   None           Pizza delivery                    False            False                 False                     False              False      False                   False       True                 False           False              False              1  2019     10        1    22       359         6.232448              -1.8           -0.221696                0.597857               True                        7.738617\n",
      "10422  117260752529886246709         Mike Walter  1581096081239       5                                                                                                                              The best food in town!!!!  0x535dcd84939e656d:0xd9732a29f4f6d1a6  46.834639 -114.016268                                                                                              [Fast food restaurant, Takeout restaurant, Sandwich shop]         4.2             434  None                    Closed ⋅ Opens 11AM     Fast food restaurant                    False            False                 False                      True              False      False                   False      False                 False           False              False              0  2020      2        4    17        25         6.075346               0.8            1.000000                0.300000               True                        7.623973\n",
      "5961   115408792767157993980         Vida Haynes  1542368486552       2  The service was terrible. I went at 12 on a weekday afternoon. We had reservations since we knew the downtown lunch rush can be hectic. Didnt matt...  0x89b7b7916cba6095:0xb0ad91a02bd45281  38.898784  -77.025771      [Restaurant, Beer garden, Cocktail bar, Ramen restaurant, Seafood donburi restaurant, Sushi restaurant, Tonkatsu restaurant, Yakitori restaurant]         4.0             703    $$                                   None               Restaurant                    False            False                 False                     False              False      False                   False      False                 False            True              False              2  2018     11        4    11      1501         6.556778              -2.0            0.011705                0.657222               True                        7.590719\n",
      "\n",
      "--- Investigating the Latent Space ---\n",
      "\n",
      "Correlation of Latent Dimensions with Original Features:\n",
      "                          latent_dim_1  latent_dim_2  latent_dim_3  latent_dim_4  latent_dim_5  latent_dim_6  latent_dim_7  latent_dim_8  latent_dim_9  latent_dim_10\n",
      "rating                        0.089740      0.029541      0.492496      0.088419      0.088331     -0.003990      0.194801     -0.546399      0.486396       0.326144\n",
      "text_len                     -0.067843     -0.052164     -0.121697      0.022444      0.027822     -0.043926     -0.074772      0.075080     -0.064328      -0.043185\n",
      "rating_deviation              0.174284      0.096770      0.455418      0.126407      0.088868      0.085713      0.240133     -0.474491      0.391090       0.212912\n",
      "sentiment_polarity            0.093277      0.038334      0.388136     -0.043889     -0.025651      0.052213     -0.117910     -0.325368      0.382806       0.225853\n",
      "sentiment_subjectivity        0.123897      0.041436      0.228714     -0.101902     -0.064691      0.052451     -0.398241     -0.089750      0.212956       0.132317\n",
      "excessive_exclaim            -0.013704     -0.022977     -0.024574      0.114151      0.077515      0.000763     -0.032211     -0.044049      0.004895      -0.032354\n",
      "avg_rating                   -0.211475     -0.175103      0.180978     -0.087044      0.013215     -0.240837     -0.089059     -0.283176      0.335871       0.357280\n",
      "num_of_reviews                0.052174      0.231476      0.169991     -0.759190     -0.723075      0.129271      0.204867      0.266843      0.026815       0.044857\n",
      "log_num_reviews               0.095770      0.353987      0.172093     -0.808844     -0.822161      0.319440      0.270284      0.404845     -0.076800      -0.148508\n",
      "price_encoded                -0.106681      0.145426      0.156281     -0.500204     -0.563460      0.420353     -0.020905      0.235032      0.089425      -0.271308\n",
      "year                          0.025504     -0.059600      0.125993      0.048439      0.034414     -0.002696      0.012091      0.038646     -0.049816      -0.056153\n",
      "month                         0.105112      0.278384     -0.326779     -0.055088      0.011805      0.089194      0.062488     -0.333677      0.264117       0.296745\n",
      "weekday                       0.036678     -0.276842      0.057072     -0.065721     -0.020074      0.136128      0.092886     -0.111985     -0.018167       0.169065\n",
      "hour                          0.026541      0.286769      0.683444      0.113767      0.123723      0.088533     -0.010300     -0.276431     -0.028096       0.218771\n",
      "cat_American restaurant      -0.015014      0.266805      0.016430     -0.171480     -0.202753      0.280222     -0.012154      0.182630     -0.047045      -0.233701\n",
      "cat_Coffee shop               0.450968      0.033028      0.056410      0.055548     -0.017611     -0.041518      0.180098      0.072457     -0.292544       0.054021\n",
      "cat_Department store          0.102301      0.259983     -0.071700     -0.157042     -0.193227      0.226319      0.067776      0.235638     -0.139600      -0.224396\n",
      "cat_Fast food restaurant      0.719018      0.301743     -0.016749      0.048522     -0.093595      0.415166      0.289084      0.290746     -0.416913      -0.386311\n",
      "cat_Grocery store            -0.187525      0.132567      0.253176     -0.013620     -0.091453     -0.053504      0.689142      0.220098     -0.495895      -0.117373\n",
      "cat_Hotel                     0.032081     -0.048127     -0.127606      0.222007      0.161759     -0.154074     -0.029590     -0.088407     -0.045686       0.069484\n",
      "cat_Mexican restaurant       -0.055111      0.190799      0.004492     -0.124731     -0.141258      0.149622     -0.006038      0.123635     -0.038002      -0.122518\n",
      "cat_Other                    -0.525684     -0.772709     -0.027772      0.202368      0.392750     -0.715252     -0.528220     -0.629971      0.679223       0.713135\n",
      "cat_Pizza restaurant         -0.099324      0.144111      0.027415     -0.098237     -0.144170      0.109007     -0.035165      0.055158      0.005897      -0.071005\n",
      "cat_Restaurant                0.183003      0.400472     -0.038328     -0.182093     -0.172534      0.634202      0.059126      0.321236     -0.094138      -0.557471\n",
      "cat_Shopping mall             0.088153      0.211551     -0.046352     -0.068437     -0.075611      0.012315      0.104410      0.099289     -0.144012      -0.012816\n",
      "\n",
      "Standard Deviation of each Latent Dimension:\n",
      "latent_dim_1     3.405846\n",
      "latent_dim_2     1.682248\n",
      "latent_dim_3     1.371162\n",
      "latent_dim_4     0.076218\n",
      "latent_dim_5     0.094543\n",
      "latent_dim_6     4.330012\n",
      "latent_dim_7     1.588154\n",
      "latent_dim_8     0.077749\n",
      "latent_dim_9     3.382785\n",
      "latent_dim_10    4.550000\n",
      "dtype: float32\n"
     ]
    }
   ],
   "source": [
    "import pandas as pd\n",
    "import numpy as np\n",
    "from sklearn.preprocessing import MinMaxScaler\n",
    "from sklearn.model_selection import train_test_split\n",
    "from scipy.stats import zscore\n",
    "import os\n",
    "\n",
    "import torch\n",
    "import torch.nn as nn\n",
    "import torch.optim as optim\n",
    "from torch.utils.data import TensorDataset, DataLoader\n",
    "\n",
    "# --- 1. Load Data ---\n",
    "file_path = 'final_dataset.parquet'\n",
    "\n",
    "if not os.path.exists(file_path):\n",
    "\tdisplay(f\"Error: The file '{file_path}' was not found. Please ensure it's in the correct directory.\")\n",
    "\texit() # Exit if file not found\n",
    "else:\n",
    "\ttry:\n",
    "\t\tdf = pd.read_parquet(file_path)\n",
    "\t\tdisplay(f\"Successfully loaded '{file_path}'. Shape: {df.shape}\")\n",
    "\t\tprint(f\"Number of rows (lines): {df.shape[0]}\")\n",
    "\t\tdisplay(\"First 5 rows of the dataset:\")\n",
    "\t\tdisplay(df.head())\n",
    "\texcept Exception as e:\n",
    "\t\tdisplay(f\"Error loading Parquet file: {e}\")\n",
    "\t\texit() # Exit if loading fails\n",
    "\n",
    "# --- 2. Feature Selection ---\n",
    "features = [\n",
    "\t'rating',\n",
    "\t'text_len',\n",
    "\t'rating_deviation',\n",
    "\t'sentiment_polarity',\n",
    "\t'sentiment_subjectivity',\n",
    "\t'excessive_exclaim',\n",
    "\t'avg_rating',\n",
    "\t'num_of_reviews',\n",
    "\t'log_num_reviews',\n",
    "\t# 'latitude',\n",
    "\t# 'longitude',\n",
    "\t'price_encoded',\n",
    "\t'year',\n",
    "\t'month',\n",
    "\t'weekday',\n",
    "\t'hour',\n",
    "\t'cat_American restaurant',\n",
    "\t'cat_Coffee shop',\n",
    "\t'cat_Department store',\n",
    "\t'cat_Fast food restaurant',\n",
    "\t'cat_Grocery store',\n",
    "\t'cat_Hotel',\n",
    "\t'cat_Mexican restaurant',\n",
    "\t'cat_Other',\n",
    "\t'cat_Pizza restaurant',\n",
    "\t'cat_Restaurant',\n",
    "\t'cat_Shopping mall'\n",
    "]\n",
    "\n",
    "# Check if all required features exist in the DataFrame\n",
    "missing_features = [f for f in features if f not in df.columns]\n",
    "if missing_features:\n",
    "\tdisplay(f\"Error: Missing required features in the dataset: {missing_features}\")\n",
    "\tdisplay(\"Please ensure your 'final_dataset.parquet' contains these columns.\")\n",
    "\tfeatures = [f for f in features if f in df.columns] # Proceed with available\n",
    "\tif not features:\n",
    "\t\tdisplay(\"No valid features remaining. Exiting.\")\n",
    "\t\texit()\n",
    "\telse:\n",
    "\t\tdisplay(f\"Proceeding with available features: {features}\")\n",
    "\n",
    "data = df[features].copy()\n",
    "\n",
    "# Handle potential NaNs in features (e.g., fill with mean or median)\n",
    "for col in features:\n",
    "\tif data[col].isnull().any():\n",
    "\t\tdata[col] = data[col].fillna(data[col].mean())\n",
    "\t\tdisplay(f\"Filled NaN values in '{col}' with its mean.\")\n",
    "\n",
    "# --- 3. Data Preprocessing (Scaling) ---\n",
    "scaler = MinMaxScaler()\n",
    "scaled_data_np = scaler.fit_transform(data) # Keep as numpy for now\n",
    "\n",
    "# Convert to PyTorch tensors\n",
    "scaled_data_tensor = torch.tensor(scaled_data_np, dtype=torch.float32)\n",
    "\n",
    "# Split data into training and validation sets\n",
    "X_train_tensor, X_val_tensor = train_test_split(scaled_data_tensor, test_size=0.2, random_state=42)\n",
    "\n",
    "# Create DataLoader for batching\n",
    "batch_size = 32\n",
    "train_dataset = TensorDataset(X_train_tensor, X_train_tensor) # Input and target are the same for AE\n",
    "train_loader = DataLoader(train_dataset, batch_size=batch_size, shuffle=True)\n",
    "\n",
    "val_dataset = TensorDataset(X_val_tensor, X_val_tensor)\n",
    "val_loader = DataLoader(val_dataset, batch_size=batch_size, shuffle=False)\n",
    "\n",
    "# --- 4. Autoencoder Model Definition (PyTorch) ---\n",
    "class Autoencoder(nn.Module):\n",
    "\tdef __init__(self, input_dim, encoding_dim):\n",
    "\t\tsuper(Autoencoder, self).__init__()\n",
    "\t\t# Encoder\n",
    "\t\tself.encoder = nn.Sequential(\n",
    "\t\t\tnn.Linear(input_dim, encoding_dim * 2),\n",
    "\t\t\tnn.LeakyReLU(0.01),  # <--- Change to LeakyReLU\n",
    "\t\t\tnn.Linear(encoding_dim * 2, encoding_dim),\n",
    "\t\t\tnn.LeakyReLU(0.01)   # <--- Change to LeakyReLU\n",
    "\t\t)\n",
    "\t\t# Decoder (it's good practice to change it here too)\n",
    "\t\tself.decoder = nn.Sequential(\n",
    "\t\t\tnn.Linear(encoding_dim, encoding_dim * 2),\n",
    "\t\t\tnn.LeakyReLU(0.01),  # <--- Change to LeakyReLU\n",
    "\t\t\tnn.Linear(encoding_dim * 2, input_dim),\n",
    "\t\t\tnn.Sigmoid()\n",
    "\t\t)\n",
    "\t\t\n",
    "\tdef forward(self, x):\n",
    "\t\tencoded = self.encoder(x)\n",
    "\t\tdecoded = self.decoder(encoded)\n",
    "\t\treturn decoded\n",
    "\n",
    "input_dim = X_train_tensor.shape[1]\n",
    "encoding_dim = 10 # Dimensionality of the latent space (can be tuned)\n",
    "\n",
    "model = Autoencoder(input_dim, encoding_dim)\n",
    "display(\"\\nAutoencoder Model Summary (PyTorch):\")\n",
    "display(model) # PyTorch displays module structure directly\n",
    "\n",
    "# Define Loss function and Optimizer\n",
    "criterion = nn.MSELoss()\n",
    "optimizer = optim.Adam(model.parameters(), lr=0.001)\n",
    "\n",
    "# --- 5. Training the Autoencoder ---\n",
    "epochs = 50\n",
    "display(f\"\\nTraining Autoencoder for {epochs} epochs...\")\n",
    "\n",
    "# Check for GPU\n",
    "device = torch.device(\"cuda\" if torch.cuda.is_available() else \"cpu\")\n",
    "model.to(device)\n",
    "display(f\"Using device: {device}\")\n",
    "\n",
    "for epoch in range(epochs):\n",
    "\tmodel.train() # Set model to training mode\n",
    "\trunning_loss = 0.0\n",
    "\tfor data_batch, _ in train_loader: # _ for target, which is same as input\n",
    "\t\tdata_batch = data_batch.to(device)\n",
    "\n",
    "\t\toptimizer.zero_grad() # Clear gradients\n",
    "\t\toutputs = model(data_batch) # Forward pass\n",
    "\t\tloss = criterion(outputs, data_batch) # Calculate loss\n",
    "\t\tloss.backward() # Backward pass\n",
    "\t\toptimizer.step() # Update weights\n",
    "\n",
    "\t\trunning_loss += loss.item() * data_batch.size(0)\n",
    "\n",
    "\ttrain_loss = running_loss / len(train_dataset)\n",
    "\n",
    "\t# Validation phase\n",
    "\tmodel.eval() # Set model to evaluation mode\n",
    "\tval_loss = 0.0\n",
    "\twith torch.no_grad(): # No gradient calculation needed\n",
    "\t\tfor data_batch_val, _ in val_loader:\n",
    "\t\t\tdata_batch_val = data_batch_val.to(device)\n",
    "\t\t\toutputs_val = model(data_batch_val)\n",
    "\t\t\tloss_val = criterion(outputs_val, data_batch_val)\n",
    "\t\t\tval_loss += loss_val.item() * data_batch_val.size(0)\n",
    "\tval_loss = val_loss / len(val_dataset)\n",
    "\n",
    "\tdisplay(f'Epoch {epoch+1}/{epochs}, Train Loss: {train_loss:.4f}, Val Loss: {val_loss:.4f}')\n",
    "\n",
    "display(\"\\nTraining complete.\")\n",
    "\n",
    "# --- 6. Calculate Reconstruction Error (PyTorch) ---\n",
    "model.eval() # Set model to evaluation mode\n",
    "all_reconstructions = []\n",
    "with torch.no_grad():\n",
    "\tfor i in range(0, len(scaled_data_tensor), batch_size):\n",
    "\t\tbatch = scaled_data_tensor[i:i + batch_size].to(device)\n",
    "\t\treconstructed_batch = model(batch)\n",
    "\t\tall_reconstructions.append(reconstructed_batch.cpu().numpy())\n",
    "\n",
    "reconstructions_np = np.vstack(all_reconstructions)\n",
    "\n",
    "# Calculate Mean Squared Error (MSE) between original and reconstructed data\n",
    "reconstruction_errors = np.mean(np.square(scaled_data_np - reconstructions_np), axis=1)\n",
    "\n",
    "# --- 7. Z-scoring the Reconstruction Error ---\n",
    "z_scored_reconstruction_errors = zscore(reconstruction_errors)\n",
    "\n",
    "# Add the z-scored errors to your original DataFrame\n",
    "df['ae_reconstruction_error_zscore'] = z_scored_reconstruction_errors\n",
    "\n",
    "display(\"\\nReconstruction errors calculated and z-scored.\")\n",
    "display(\"First 10 reviews with their z-scored autoencoder reconstruction error:\")\n",
    "display(df[['ae_reconstruction_error_zscore'] + features].head(10))\n",
    "\n",
    "# Identify potential anomalies\n",
    "threshold = 2.0\n",
    "anomalies = df[df['ae_reconstruction_error_zscore'] > threshold]\n",
    "display(f\"\\nNumber of potential anomalies (z-score > {threshold}): {len(anomalies)}\")\n",
    "# --- MODIFIED PART ---\n",
    "# Display more anomalies and all of their original features\n",
    "if not anomalies.empty:\n",
    "\tprint(\"\\nDisplaying the top 20 anomalies with all their features (sorted by anomaly score):\")\n",
    "\n",
    "\t# Set pandas display options to see all data without truncation\n",
    "\tpd.set_option('display.max_rows', 50)         # Show up to 50 rows\n",
    "\tpd.set_option('display.max_columns', None)    # Show all columns\n",
    "\tpd.set_option('display.width', 1000)          # Widen the output area\n",
    "\tpd.set_option('display.max_colwidth', 150)    # Show more text in the 'text' column\n",
    "\n",
    "\t# Sort by the anomaly score to see the most anomalous first and show the top 20\n",
    "\tprint(anomalies.sort_values(by='ae_reconstruction_error_zscore', ascending=False).head(20))\n",
    "\n",
    "else:\n",
    "\tprint(\"\\nNo anomalies detected above the specified threshold.\")\n",
    "\n",
    "\t# --- 8. Investigating the Latent Space (Optional) ---\n",
    "print(\"\\n--- Investigating the Latent Space ---\")\n",
    "\n",
    "# First, get the encoded representation of the entire dataset\n",
    "model.eval()\n",
    "with torch.no_grad():\n",
    "\t# We only need the encoder part for this\n",
    "\tencoded_data_tensor = model.encoder(scaled_data_tensor.to(device))\n",
    "\tencoded_data_np = encoded_data_tensor.cpu().numpy()\n",
    "\n",
    "# Create a DataFrame for the encoded dimensions\n",
    "encoded_df = pd.DataFrame(encoded_data_np, columns=[f'latent_dim_{i+1}' for i in range(encoding_dim)])\n",
    "\n",
    "# Combine with the original (unscaled) features to make interpretation easier\n",
    "combined_df = pd.concat([df[features].reset_index(drop=True), encoded_df], axis=1)\n",
    "\n",
    "# Calculate the correlation matrix\n",
    "correlation_matrix = combined_df.corr()\n",
    "\n",
    "# Get the correlation of each latent dimension with the original features\n",
    "latent_correlations = correlation_matrix[encoded_df.columns].loc[features]\n",
    "\n",
    "print(\"\\nCorrelation of Latent Dimensions with Original Features:\")\n",
    "# Display with a heatmap-style background for easier reading\n",
    "print(latent_correlations)\n",
    "print(\"\\nStandard Deviation of each Latent Dimension:\")\n",
    "print(encoded_df.std())"
   ]
  },
  {
   "cell_type": "code",
   "execution_count": null,
   "id": "109f385d",
   "metadata": {},
   "outputs": [],
   "source": []
  }
 ],
 "metadata": {
  "kernelspec": {
   "display_name": "TikTok-Challenge-2025",
   "language": "python",
   "name": "python3"
  },
  "language_info": {
   "codemirror_mode": {
    "name": "ipython",
    "version": 3
   },
   "file_extension": ".py",
   "mimetype": "text/x-python",
   "name": "python",
   "nbconvert_exporter": "python",
   "pygments_lexer": "ipython3",
   "version": "3.13.5"
  }
 },
 "nbformat": 4,
 "nbformat_minor": 5
}
