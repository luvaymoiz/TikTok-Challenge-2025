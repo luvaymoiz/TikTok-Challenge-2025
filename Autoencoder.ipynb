{
 "cells": [
  {
   "cell_type": "markdown",
   "id": "b14ab675",
   "metadata": {},
   "source": [
    "## Step 1: Install and Import Packages\n",
    "\n",
    "We begin by installing and importing the essential libraries:  \n",
    "- **PyTorch:** for building and training the Autoencoder model  \n",
    "- **Scikit-learn:** for preprocessing (scaling features)  \n",
    "- **Pandas & Numpy:** for dataset handling  \n",
    "- **Matplotlib/Seaborn:** for visualisation  \n",
    "\n",
    "These tools provide the foundation for constructing and evaluating our anomaly detection pipeline.\n"
   ]
  },
  {
   "cell_type": "code",
   "execution_count": 1,
   "id": "35c4c4fd",
   "metadata": {},
   "outputs": [],
   "source": [
    "# pip install pandas \n",
    "# pip install \n",
    "# pip install numpy \n",
    "# pip install scikit-learn \n",
    "# pip install scipy \n",
    "# pip install torch"
   ]
  },
  {
   "cell_type": "code",
   "execution_count": 2,
   "id": "57fef30f",
   "metadata": {},
   "outputs": [],
   "source": [
    "import pandas as pd\n",
    "import numpy as np\n",
    "from sklearn.preprocessing import MinMaxScaler\n",
    "from sklearn.model_selection import train_test_split\n",
    "from scipy.stats import zscore\n",
    "import os\n",
    "\n",
    "import torch\n",
    "import torch.nn as nn\n",
    "import torch.optim as optim\n",
    "from torch.utils.data import TensorDataset, DataLoader"
   ]
  },
  {
   "cell_type": "markdown",
   "id": "1a2fabc6",
   "metadata": {},
   "source": [
    "## Step 2: Loading the Dataset\n",
    "\n",
    "Next, we load the **pre-processed review dataset** (`final_dataset.parquet`).  \n",
    "This dataset contains engineered features derived from the raw Google reviews, such as:  \n",
    "- Text embeddings (capturing semantic meaning)  \n",
    "- Reviewer metadata (e.g., review frequency, business overlap)  \n",
    "\n",
    "These features serve as input to the Autoencoder model for anomaly detection.\n"
   ]
  },
  {
   "cell_type": "code",
   "execution_count": 3,
   "id": "5afb8112",
   "metadata": {},
   "outputs": [
    {
     "data": {
      "text/plain": [
       "\"Successfully loaded 'final_dataset.parquet'. Shape: (26622, 36)\""
      ]
     },
     "metadata": {},
     "output_type": "display_data"
    },
    {
     "name": "stdout",
     "output_type": "stream",
     "text": [
      "Number of rows (lines): 26622\n"
     ]
    },
    {
     "data": {
      "text/plain": [
       "'First 5 rows of the dataset:'"
      ]
     },
     "metadata": {},
     "output_type": "display_data"
    },
    {
     "data": {
      "text/html": [
       "<div>\n",
       "<style scoped>\n",
       "    .dataframe tbody tr th:only-of-type {\n",
       "        vertical-align: middle;\n",
       "    }\n",
       "\n",
       "    .dataframe tbody tr th {\n",
       "        vertical-align: top;\n",
       "    }\n",
       "\n",
       "    .dataframe thead th {\n",
       "        text-align: right;\n",
       "    }\n",
       "</style>\n",
       "<table border=\"1\" class=\"dataframe\">\n",
       "  <thead>\n",
       "    <tr style=\"text-align: right;\">\n",
       "      <th></th>\n",
       "      <th>user_id</th>\n",
       "      <th>name_review_user</th>\n",
       "      <th>time</th>\n",
       "      <th>rating</th>\n",
       "      <th>text</th>\n",
       "      <th>gmap_id</th>\n",
       "      <th>latitude</th>\n",
       "      <th>longitude</th>\n",
       "      <th>category</th>\n",
       "      <th>avg_rating</th>\n",
       "      <th>...</th>\n",
       "      <th>year</th>\n",
       "      <th>month</th>\n",
       "      <th>weekday</th>\n",
       "      <th>hour</th>\n",
       "      <th>text_len</th>\n",
       "      <th>log_num_reviews</th>\n",
       "      <th>rating_deviation</th>\n",
       "      <th>sentiment_polarity</th>\n",
       "      <th>sentiment_subjectivity</th>\n",
       "      <th>excessive_exclaim</th>\n",
       "    </tr>\n",
       "  </thead>\n",
       "  <tbody>\n",
       "    <tr>\n",
       "      <th>0</th>\n",
       "      <td>107813727678662505612</td>\n",
       "      <td>Felicia Wall</td>\n",
       "      <td>1575939675467</td>\n",
       "      <td>5</td>\n",
       "      <td>Coffee is great and so is the service</td>\n",
       "      <td>0x56c67c7da439c267:0x72f12aacd98f7f2e</td>\n",
       "      <td>60.561418</td>\n",
       "      <td>-151.285291</td>\n",
       "      <td>[Cafe]</td>\n",
       "      <td>4.6</td>\n",
       "      <td>...</td>\n",
       "      <td>2019</td>\n",
       "      <td>12</td>\n",
       "      <td>1</td>\n",
       "      <td>1</td>\n",
       "      <td>37</td>\n",
       "      <td>4.290459</td>\n",
       "      <td>0.4</td>\n",
       "      <td>0.800000</td>\n",
       "      <td>0.750000</td>\n",
       "      <td>False</td>\n",
       "    </tr>\n",
       "    <tr>\n",
       "      <th>1</th>\n",
       "      <td>103473424444871906765</td>\n",
       "      <td>Garry Hanley</td>\n",
       "      <td>1602702499311</td>\n",
       "      <td>5</td>\n",
       "      <td>Easy in and out experience.  Reasonable pricin...</td>\n",
       "      <td>0x56c899de8ee5d2a5:0xb15f3c48a1dc94f0</td>\n",
       "      <td>61.137792</td>\n",
       "      <td>-149.836917</td>\n",
       "      <td>[Department of motor vehicles, Auto tag agency...</td>\n",
       "      <td>4.2</td>\n",
       "      <td>...</td>\n",
       "      <td>2020</td>\n",
       "      <td>10</td>\n",
       "      <td>2</td>\n",
       "      <td>19</td>\n",
       "      <td>109</td>\n",
       "      <td>4.744932</td>\n",
       "      <td>0.8</td>\n",
       "      <td>0.377778</td>\n",
       "      <td>0.644444</td>\n",
       "      <td>False</td>\n",
       "    </tr>\n",
       "    <tr>\n",
       "      <th>2</th>\n",
       "      <td>104393976961042472712</td>\n",
       "      <td>Nathan Harrison</td>\n",
       "      <td>1559438084515</td>\n",
       "      <td>4</td>\n",
       "      <td>Great lunch, service could be better as there ...</td>\n",
       "      <td>0x56c894263c293e31:0x39aa7cb841273597</td>\n",
       "      <td>61.228926</td>\n",
       "      <td>-149.741000</td>\n",
       "      <td>[Restaurant, Brewpub, Pizza restaurant, Sports...</td>\n",
       "      <td>3.9</td>\n",
       "      <td>...</td>\n",
       "      <td>2019</td>\n",
       "      <td>6</td>\n",
       "      <td>6</td>\n",
       "      <td>1</td>\n",
       "      <td>71</td>\n",
       "      <td>6.475433</td>\n",
       "      <td>0.1</td>\n",
       "      <td>0.600000</td>\n",
       "      <td>0.583333</td>\n",
       "      <td>False</td>\n",
       "    </tr>\n",
       "    <tr>\n",
       "      <th>3</th>\n",
       "      <td>110829207026204377440</td>\n",
       "      <td>Terry Oakes</td>\n",
       "      <td>1578766259352</td>\n",
       "      <td>3</td>\n",
       "      <td>Small portions and do not give you what the me...</td>\n",
       "      <td>0x51325b0542590ed1:0xaba794ec633521ef</td>\n",
       "      <td>64.821774</td>\n",
       "      <td>-147.713617</td>\n",
       "      <td>[Restaurant]</td>\n",
       "      <td>4.2</td>\n",
       "      <td>...</td>\n",
       "      <td>2020</td>\n",
       "      <td>1</td>\n",
       "      <td>5</td>\n",
       "      <td>18</td>\n",
       "      <td>55</td>\n",
       "      <td>4.836282</td>\n",
       "      <td>-1.2</td>\n",
       "      <td>-0.250000</td>\n",
       "      <td>0.400000</td>\n",
       "      <td>False</td>\n",
       "    </tr>\n",
       "    <tr>\n",
       "      <th>4</th>\n",
       "      <td>108158723955787868825</td>\n",
       "      <td>Lee Petersen</td>\n",
       "      <td>1501725448031</td>\n",
       "      <td>4</td>\n",
       "      <td>Nice gym, what I expect from a Planet Fitness....</td>\n",
       "      <td>0x51325acaa661fa4d:0xa0cf5a8e5d34cbde</td>\n",
       "      <td>64.835650</td>\n",
       "      <td>-147.742050</td>\n",
       "      <td>[Gym, Fitness center, Personal trainer, Spa an...</td>\n",
       "      <td>4.1</td>\n",
       "      <td>...</td>\n",
       "      <td>2017</td>\n",
       "      <td>8</td>\n",
       "      <td>3</td>\n",
       "      <td>1</td>\n",
       "      <td>152</td>\n",
       "      <td>5.342334</td>\n",
       "      <td>-0.1</td>\n",
       "      <td>0.241667</td>\n",
       "      <td>0.741667</td>\n",
       "      <td>False</td>\n",
       "    </tr>\n",
       "  </tbody>\n",
       "</table>\n",
       "<p>5 rows × 36 columns</p>\n",
       "</div>"
      ],
      "text/plain": [
       "                 user_id name_review_user           time  rating  \\\n",
       "0  107813727678662505612     Felicia Wall  1575939675467       5   \n",
       "1  103473424444871906765     Garry Hanley  1602702499311       5   \n",
       "2  104393976961042472712  Nathan Harrison  1559438084515       4   \n",
       "3  110829207026204377440      Terry Oakes  1578766259352       3   \n",
       "4  108158723955787868825     Lee Petersen  1501725448031       4   \n",
       "\n",
       "                                                text  \\\n",
       "0              Coffee is great and so is the service   \n",
       "1  Easy in and out experience.  Reasonable pricin...   \n",
       "2  Great lunch, service could be better as there ...   \n",
       "3  Small portions and do not give you what the me...   \n",
       "4  Nice gym, what I expect from a Planet Fitness....   \n",
       "\n",
       "                                 gmap_id   latitude   longitude  \\\n",
       "0  0x56c67c7da439c267:0x72f12aacd98f7f2e  60.561418 -151.285291   \n",
       "1  0x56c899de8ee5d2a5:0xb15f3c48a1dc94f0  61.137792 -149.836917   \n",
       "2  0x56c894263c293e31:0x39aa7cb841273597  61.228926 -149.741000   \n",
       "3  0x51325b0542590ed1:0xaba794ec633521ef  64.821774 -147.713617   \n",
       "4  0x51325acaa661fa4d:0xa0cf5a8e5d34cbde  64.835650 -147.742050   \n",
       "\n",
       "                                            category  avg_rating  ...  year  \\\n",
       "0                                             [Cafe]         4.6  ...  2019   \n",
       "1  [Department of motor vehicles, Auto tag agency...         4.2  ...  2020   \n",
       "2  [Restaurant, Brewpub, Pizza restaurant, Sports...         3.9  ...  2019   \n",
       "3                                       [Restaurant]         4.2  ...  2020   \n",
       "4  [Gym, Fitness center, Personal trainer, Spa an...         4.1  ...  2017   \n",
       "\n",
       "  month weekday hour  text_len  log_num_reviews  rating_deviation  \\\n",
       "0    12       1    1        37         4.290459               0.4   \n",
       "1    10       2   19       109         4.744932               0.8   \n",
       "2     6       6    1        71         6.475433               0.1   \n",
       "3     1       5   18        55         4.836282              -1.2   \n",
       "4     8       3    1       152         5.342334              -0.1   \n",
       "\n",
       "   sentiment_polarity  sentiment_subjectivity  excessive_exclaim  \n",
       "0            0.800000                0.750000              False  \n",
       "1            0.377778                0.644444              False  \n",
       "2            0.600000                0.583333              False  \n",
       "3           -0.250000                0.400000              False  \n",
       "4            0.241667                0.741667              False  \n",
       "\n",
       "[5 rows x 36 columns]"
      ]
     },
     "metadata": {},
     "output_type": "display_data"
    }
   ],
   "source": [
    "file_path = 'final_dataset.parquet'\n",
    "\n",
    "if not os.path.exists(file_path):\n",
    "\tdisplay(f\"Error: The file '{file_path}' was not found. Please ensure it's in the correct directory.\")\n",
    "\texit() \n",
    "else:\n",
    "\ttry:\n",
    "\t\tdf = pd.read_parquet(file_path)\n",
    "\t\tdisplay(f\"Successfully loaded '{file_path}'. Shape: {df.shape}\")\n",
    "\t\tprint(f\"Number of rows (lines): {df.shape[0]}\")\n",
    "\t\tdisplay(\"First 5 rows of the dataset:\")\n",
    "\t\tdisplay(df.head())\n",
    "\texcept Exception as e:\n",
    "\t\tdisplay(f\"Error loading Parquet file: {e}\")\n",
    "\t\texit() "
   ]
  },
  {
   "cell_type": "markdown",
   "id": "a4fbb616",
   "metadata": {},
   "source": [
    "## Step 3: Data Preprocessing\n",
    "\n",
    "Before feeding the data into the model, we perform preprocessing:  \n",
    "\n",
    "1. **Feature Selection:** Extract the relevant feature columns.  \n",
    "2. **Scaling:** Apply `MinMaxScaler` to normalise values into the **[0,1] range**.  \n",
    "   - Ensures fair contribution of each feature.  \n",
    "3. **Conversion to PyTorch Tensors:** Required format for PyTorch models.  \n",
    "4. **DataLoader Creation:** Allows efficient **mini-batch training**, shuffling, and GPU compatibility.  \n",
    "\n",
    "This step ensures our Autoencoder can efficiently learn meaningful representations from the dataset.\n"
   ]
  },
  {
   "cell_type": "code",
   "execution_count": 4,
   "id": "d90365e0",
   "metadata": {},
   "outputs": [],
   "source": [
    "# Feature Selection \n",
    "features = [\n",
    "\t'rating',\n",
    "\t'text_len',\n",
    "\t'rating_deviation',\n",
    "\t'sentiment_polarity',\n",
    "\t'sentiment_subjectivity',\n",
    "\t'excessive_exclaim',\n",
    "\t'avg_rating',\n",
    "\t#'num_of_reviews',\n",
    "\t'log_num_reviews',\n",
    "\t# 'latitude',\n",
    "\t# 'longitude',\n",
    "\t'price_encoded',\n",
    "\t'year',\n",
    "\t'month',\n",
    "\t'weekday',\n",
    "\t'hour',\n",
    "\t'cat_American restaurant',\n",
    "\t'cat_Coffee shop',\n",
    "\t'cat_Department store',\n",
    "\t'cat_Fast food restaurant',\n",
    "\t'cat_Grocery store',\n",
    "\t'cat_Hotel',\n",
    "\t'cat_Mexican restaurant',\n",
    "\t'cat_Other',\n",
    "\t'cat_Pizza restaurant',\n",
    "\t'cat_Restaurant',\n",
    "\t'cat_Shopping mall'\n",
    "]\n",
    "\n",
    "# Check if all required features exist in the DataFrame\n",
    "missing_features = [f for f in features if f not in df.columns]\n",
    "if missing_features:\n",
    "\tdisplay(f\"Error: Missing required features in the dataset: {missing_features}\")\n",
    "\tdisplay(\"Please ensure your 'final_dataset.parquet' contains these columns.\")\n",
    "\tfeatures = [f for f in features if f in df.columns] \n",
    "\tif not features:\n",
    "\t\tdisplay(\"No valid features remaining. Exiting.\")\n",
    "\t\texit()\n",
    "\telse:\n",
    "\t\tdisplay(f\"Proceeding with available features: {features}\")\n",
    "\n",
    "data = df[features].copy()\n",
    "\n",
    "\n",
    "# Data Preprocessing (Scaling)\n",
    "scaler = MinMaxScaler()\n",
    "scaled_data_np = scaler.fit_transform(data) \n",
    "\n",
    "# Convert to PyTorch tensors\n",
    "scaled_data_tensor = torch.tensor(scaled_data_np, dtype=torch.float32)\n",
    "\n",
    "# Split data into training and validation sets\n",
    "X_train_tensor, X_val_tensor = train_test_split(scaled_data_tensor, test_size=0.2, random_state=42)\n",
    "\n",
    "# Create DataLoader for batching\n",
    "batch_size = 32\n",
    "train_dataset = TensorDataset(X_train_tensor, X_train_tensor) \n",
    "train_loader = DataLoader(train_dataset, batch_size=batch_size, shuffle=True)\n",
    "\n",
    "val_dataset = TensorDataset(X_val_tensor, X_val_tensor)\n",
    "val_loader = DataLoader(val_dataset, batch_size=batch_size, shuffle=False)\n"
   ]
  },
  {
   "cell_type": "markdown",
   "id": "fb7040da",
   "metadata": {},
   "source": [
    "## Step 4: Autoencoder Model Architecture (PyTorch)\n",
    "\n",
    "We define the **Autoencoder** using PyTorch’s `nn.Module`.  \n",
    "\n",
    "**Key Concepts:**  \n",
    "- The Autoencoder learns to **reconstruct its input**.  \n",
    "- Normal data → low reconstruction error.  \n",
    "- Anomalies → high reconstruction error (poorly reconstructed).  \n",
    "\n",
    "**Architecture Details:**  \n",
    "- **Input layer:** 24 features from the dataset.  \n",
    "- **Encoder:** Compresses input into a **10-dimensional latent space**.  \n",
    "- **Decoder:** Reconstructs the original 24 features from the latent vector.  \n",
    "\n",
    "By compressing and reconstructing, the model captures underlying patterns in the data.  \n",
    "Large reconstruction errors suggest unusual (potentially spam) reviews.\n"
   ]
  },
  {
   "cell_type": "code",
   "execution_count": 5,
   "id": "6f5fb75c",
   "metadata": {},
   "outputs": [
    {
     "data": {
      "text/plain": [
       "'\\nAutoencoder Model Summary (PyTorch):'"
      ]
     },
     "metadata": {},
     "output_type": "display_data"
    },
    {
     "data": {
      "text/plain": [
       "Autoencoder(\n",
       "  (encoder): Sequential(\n",
       "    (0): Linear(in_features=24, out_features=20, bias=True)\n",
       "    (1): LeakyReLU(negative_slope=0.01)\n",
       "    (2): Linear(in_features=20, out_features=10, bias=True)\n",
       "    (3): LeakyReLU(negative_slope=0.01)\n",
       "  )\n",
       "  (decoder): Sequential(\n",
       "    (0): Linear(in_features=10, out_features=20, bias=True)\n",
       "    (1): LeakyReLU(negative_slope=0.01)\n",
       "    (2): Linear(in_features=20, out_features=24, bias=True)\n",
       "    (3): Sigmoid()\n",
       "  )\n",
       ")"
      ]
     },
     "metadata": {},
     "output_type": "display_data"
    }
   ],
   "source": [
    "# Autoencoder Model Definition (PyTorch)\n",
    "class Autoencoder(nn.Module):\n",
    "\tdef __init__(self, input_dim, encoding_dim):\n",
    "\t\tsuper(Autoencoder, self).__init__()\n",
    "\t\tself.encoder = nn.Sequential(\n",
    "\t\t\tnn.Linear(input_dim, encoding_dim * 2),\n",
    "\t\t\tnn.LeakyReLU(0.01),  \n",
    "\t\t\tnn.Linear(encoding_dim * 2, encoding_dim),\n",
    "\t\t\tnn.LeakyReLU(0.01)   \n",
    "\t\t)\n",
    "\t\tself.decoder = nn.Sequential(\n",
    "\t\t\tnn.Linear(encoding_dim, encoding_dim * 2),\n",
    "\t\t\tnn.LeakyReLU(0.01),  \n",
    "\t\t\tnn.Linear(encoding_dim * 2, input_dim),\n",
    "\t\t\tnn.Sigmoid()\n",
    "\t\t)\n",
    "\t\t\n",
    "\tdef forward(self, x):\n",
    "\t\tencoded = self.encoder(x)\n",
    "\t\tdecoded = self.decoder(encoded)\n",
    "\t\treturn decoded\n",
    "\n",
    "input_dim = X_train_tensor.shape[1]\n",
    "# Dimensionality of the latent space\n",
    "encoding_dim = 10 \n",
    "\n",
    "model = Autoencoder(input_dim, encoding_dim)\n",
    "display(\"\\nAutoencoder Model Summary (PyTorch):\")\n",
    "display(model) \n",
    "\n",
    "# Define Loss function and Optimiser\n",
    "criterion = nn.MSELoss()\n",
    "optimizer = optim.Adam(model.parameters(), lr=0.001)"
   ]
  },
  {
   "cell_type": "markdown",
   "id": "c45ca392",
   "metadata": {},
   "source": [
    "## Step 5: Training the Autoencoder\n",
    "\n",
    "We train the model using an **unsupervised learning approach**:  \n",
    "\n",
    "1. **Forward Pass:** Input data → latent space → reconstructed output.  \n",
    "2. **Loss Function:** Mean Squared Error (MSE) between input and output.  \n",
    "3. **Backpropagation:** Update weights to minimise reconstruction error.  \n",
    "4. **Validation Monitoring:** Use a held-out validation set to detect overfitting.  \n",
    "\n",
    "Training continues for multiple **epochs** until the model stabilises, learning to reconstruct normal reviews effectively.\n",
    "\n"
   ]
  },
  {
   "cell_type": "code",
   "execution_count": 6,
   "id": "73a0475c",
   "metadata": {},
   "outputs": [
    {
     "data": {
      "text/plain": [
       "'\\nTraining Autoencoder for 50 epochs...'"
      ]
     },
     "metadata": {},
     "output_type": "display_data"
    },
    {
     "data": {
      "text/plain": [
       "'Using device: cpu'"
      ]
     },
     "metadata": {},
     "output_type": "display_data"
    },
    {
     "data": {
      "text/plain": [
       "'Epoch 1/50, Train Loss: 0.0541, Val Loss: 0.0360'"
      ]
     },
     "metadata": {},
     "output_type": "display_data"
    },
    {
     "data": {
      "text/plain": [
       "'Epoch 2/50, Train Loss: 0.0283, Val Loss: 0.0233'"
      ]
     },
     "metadata": {},
     "output_type": "display_data"
    },
    {
     "data": {
      "text/plain": [
       "'Epoch 3/50, Train Loss: 0.0222, Val Loss: 0.0199'"
      ]
     },
     "metadata": {},
     "output_type": "display_data"
    },
    {
     "data": {
      "text/plain": [
       "'Epoch 4/50, Train Loss: 0.0177, Val Loss: 0.0151'"
      ]
     },
     "metadata": {},
     "output_type": "display_data"
    },
    {
     "data": {
      "text/plain": [
       "'Epoch 5/50, Train Loss: 0.0128, Val Loss: 0.0099'"
      ]
     },
     "metadata": {},
     "output_type": "display_data"
    },
    {
     "data": {
      "text/plain": [
       "'Epoch 6/50, Train Loss: 0.0095, Val Loss: 0.0080'"
      ]
     },
     "metadata": {},
     "output_type": "display_data"
    },
    {
     "data": {
      "text/plain": [
       "'Epoch 7/50, Train Loss: 0.0078, Val Loss: 0.0068'"
      ]
     },
     "metadata": {},
     "output_type": "display_data"
    },
    {
     "data": {
      "text/plain": [
       "'Epoch 8/50, Train Loss: 0.0068, Val Loss: 0.0060'"
      ]
     },
     "metadata": {},
     "output_type": "display_data"
    },
    {
     "data": {
      "text/plain": [
       "'Epoch 9/50, Train Loss: 0.0061, Val Loss: 0.0055'"
      ]
     },
     "metadata": {},
     "output_type": "display_data"
    },
    {
     "data": {
      "text/plain": [
       "'Epoch 10/50, Train Loss: 0.0056, Val Loss: 0.0051'"
      ]
     },
     "metadata": {},
     "output_type": "display_data"
    },
    {
     "data": {
      "text/plain": [
       "'Epoch 11/50, Train Loss: 0.0050, Val Loss: 0.0044'"
      ]
     },
     "metadata": {},
     "output_type": "display_data"
    },
    {
     "data": {
      "text/plain": [
       "'Epoch 12/50, Train Loss: 0.0044, Val Loss: 0.0038'"
      ]
     },
     "metadata": {},
     "output_type": "display_data"
    },
    {
     "data": {
      "text/plain": [
       "'Epoch 13/50, Train Loss: 0.0039, Val Loss: 0.0036'"
      ]
     },
     "metadata": {},
     "output_type": "display_data"
    },
    {
     "data": {
      "text/plain": [
       "'Epoch 14/50, Train Loss: 0.0037, Val Loss: 0.0034'"
      ]
     },
     "metadata": {},
     "output_type": "display_data"
    },
    {
     "data": {
      "text/plain": [
       "'Epoch 15/50, Train Loss: 0.0036, Val Loss: 0.0034'"
      ]
     },
     "metadata": {},
     "output_type": "display_data"
    },
    {
     "data": {
      "text/plain": [
       "'Epoch 16/50, Train Loss: 0.0035, Val Loss: 0.0032'"
      ]
     },
     "metadata": {},
     "output_type": "display_data"
    },
    {
     "data": {
      "text/plain": [
       "'Epoch 17/50, Train Loss: 0.0034, Val Loss: 0.0033'"
      ]
     },
     "metadata": {},
     "output_type": "display_data"
    },
    {
     "data": {
      "text/plain": [
       "'Epoch 18/50, Train Loss: 0.0034, Val Loss: 0.0031'"
      ]
     },
     "metadata": {},
     "output_type": "display_data"
    },
    {
     "data": {
      "text/plain": [
       "'Epoch 19/50, Train Loss: 0.0034, Val Loss: 0.0031'"
      ]
     },
     "metadata": {},
     "output_type": "display_data"
    },
    {
     "data": {
      "text/plain": [
       "'Epoch 20/50, Train Loss: 0.0033, Val Loss: 0.0031'"
      ]
     },
     "metadata": {},
     "output_type": "display_data"
    },
    {
     "data": {
      "text/plain": [
       "'Epoch 21/50, Train Loss: 0.0033, Val Loss: 0.0032'"
      ]
     },
     "metadata": {},
     "output_type": "display_data"
    },
    {
     "data": {
      "text/plain": [
       "'Epoch 22/50, Train Loss: 0.0033, Val Loss: 0.0031'"
      ]
     },
     "metadata": {},
     "output_type": "display_data"
    },
    {
     "data": {
      "text/plain": [
       "'Epoch 23/50, Train Loss: 0.0032, Val Loss: 0.0032'"
      ]
     },
     "metadata": {},
     "output_type": "display_data"
    },
    {
     "data": {
      "text/plain": [
       "'Epoch 24/50, Train Loss: 0.0031, Val Loss: 0.0028'"
      ]
     },
     "metadata": {},
     "output_type": "display_data"
    },
    {
     "data": {
      "text/plain": [
       "'Epoch 25/50, Train Loss: 0.0029, Val Loss: 0.0028'"
      ]
     },
     "metadata": {},
     "output_type": "display_data"
    },
    {
     "data": {
      "text/plain": [
       "'Epoch 26/50, Train Loss: 0.0028, Val Loss: 0.0026'"
      ]
     },
     "metadata": {},
     "output_type": "display_data"
    },
    {
     "data": {
      "text/plain": [
       "'Epoch 27/50, Train Loss: 0.0027, Val Loss: 0.0026'"
      ]
     },
     "metadata": {},
     "output_type": "display_data"
    },
    {
     "data": {
      "text/plain": [
       "'Epoch 28/50, Train Loss: 0.0027, Val Loss: 0.0026'"
      ]
     },
     "metadata": {},
     "output_type": "display_data"
    },
    {
     "data": {
      "text/plain": [
       "'Epoch 29/50, Train Loss: 0.0027, Val Loss: 0.0025'"
      ]
     },
     "metadata": {},
     "output_type": "display_data"
    },
    {
     "data": {
      "text/plain": [
       "'Epoch 30/50, Train Loss: 0.0026, Val Loss: 0.0025'"
      ]
     },
     "metadata": {},
     "output_type": "display_data"
    },
    {
     "data": {
      "text/plain": [
       "'Epoch 31/50, Train Loss: 0.0025, Val Loss: 0.0024'"
      ]
     },
     "metadata": {},
     "output_type": "display_data"
    },
    {
     "data": {
      "text/plain": [
       "'Epoch 32/50, Train Loss: 0.0025, Val Loss: 0.0024'"
      ]
     },
     "metadata": {},
     "output_type": "display_data"
    },
    {
     "data": {
      "text/plain": [
       "'Epoch 33/50, Train Loss: 0.0024, Val Loss: 0.0024'"
      ]
     },
     "metadata": {},
     "output_type": "display_data"
    },
    {
     "data": {
      "text/plain": [
       "'Epoch 34/50, Train Loss: 0.0024, Val Loss: 0.0023'"
      ]
     },
     "metadata": {},
     "output_type": "display_data"
    },
    {
     "data": {
      "text/plain": [
       "'Epoch 35/50, Train Loss: 0.0024, Val Loss: 0.0023'"
      ]
     },
     "metadata": {},
     "output_type": "display_data"
    },
    {
     "data": {
      "text/plain": [
       "'Epoch 36/50, Train Loss: 0.0023, Val Loss: 0.0022'"
      ]
     },
     "metadata": {},
     "output_type": "display_data"
    },
    {
     "data": {
      "text/plain": [
       "'Epoch 37/50, Train Loss: 0.0022, Val Loss: 0.0021'"
      ]
     },
     "metadata": {},
     "output_type": "display_data"
    },
    {
     "data": {
      "text/plain": [
       "'Epoch 38/50, Train Loss: 0.0022, Val Loss: 0.0021'"
      ]
     },
     "metadata": {},
     "output_type": "display_data"
    },
    {
     "data": {
      "text/plain": [
       "'Epoch 39/50, Train Loss: 0.0021, Val Loss: 0.0020'"
      ]
     },
     "metadata": {},
     "output_type": "display_data"
    },
    {
     "data": {
      "text/plain": [
       "'Epoch 40/50, Train Loss: 0.0021, Val Loss: 0.0020'"
      ]
     },
     "metadata": {},
     "output_type": "display_data"
    },
    {
     "data": {
      "text/plain": [
       "'Epoch 41/50, Train Loss: 0.0021, Val Loss: 0.0020'"
      ]
     },
     "metadata": {},
     "output_type": "display_data"
    },
    {
     "data": {
      "text/plain": [
       "'Epoch 42/50, Train Loss: 0.0020, Val Loss: 0.0020'"
      ]
     },
     "metadata": {},
     "output_type": "display_data"
    },
    {
     "data": {
      "text/plain": [
       "'Epoch 43/50, Train Loss: 0.0020, Val Loss: 0.0020'"
      ]
     },
     "metadata": {},
     "output_type": "display_data"
    },
    {
     "data": {
      "text/plain": [
       "'Epoch 44/50, Train Loss: 0.0020, Val Loss: 0.0019'"
      ]
     },
     "metadata": {},
     "output_type": "display_data"
    },
    {
     "data": {
      "text/plain": [
       "'Epoch 45/50, Train Loss: 0.0020, Val Loss: 0.0019'"
      ]
     },
     "metadata": {},
     "output_type": "display_data"
    },
    {
     "data": {
      "text/plain": [
       "'Epoch 46/50, Train Loss: 0.0020, Val Loss: 0.0020'"
      ]
     },
     "metadata": {},
     "output_type": "display_data"
    },
    {
     "data": {
      "text/plain": [
       "'Epoch 47/50, Train Loss: 0.0020, Val Loss: 0.0019'"
      ]
     },
     "metadata": {},
     "output_type": "display_data"
    },
    {
     "data": {
      "text/plain": [
       "'Epoch 48/50, Train Loss: 0.0019, Val Loss: 0.0018'"
      ]
     },
     "metadata": {},
     "output_type": "display_data"
    },
    {
     "data": {
      "text/plain": [
       "'Epoch 49/50, Train Loss: 0.0019, Val Loss: 0.0019'"
      ]
     },
     "metadata": {},
     "output_type": "display_data"
    },
    {
     "data": {
      "text/plain": [
       "'Epoch 50/50, Train Loss: 0.0019, Val Loss: 0.0019'"
      ]
     },
     "metadata": {},
     "output_type": "display_data"
    },
    {
     "data": {
      "text/plain": [
       "'\\nTraining complete.'"
      ]
     },
     "metadata": {},
     "output_type": "display_data"
    }
   ],
   "source": [
    "# Training the Autoencoder\n",
    "epochs = 50\n",
    "display(f\"\\nTraining Autoencoder for {epochs} epochs...\")\n",
    "\n",
    "# Check for GPU\n",
    "device = torch.device(\"cuda\" if torch.cuda.is_available() else \"cpu\")\n",
    "model.to(device)\n",
    "display(f\"Using device: {device}\")\n",
    "\n",
    "for epoch in range(epochs):\n",
    "\tmodel.train() \n",
    "\trunning_loss = 0.0\n",
    "\tfor data_batch, _ in train_loader:\n",
    "\t\tdata_batch = data_batch.to(device)\n",
    "\n",
    "\t\toptimizer.zero_grad() \n",
    "\t\toutputs = model(data_batch) \n",
    "\t\tloss = criterion(outputs, data_batch) \n",
    "\t\tloss.backward() \n",
    "\t\toptimizer.step() \n",
    "\n",
    "\t\trunning_loss += loss.item() * data_batch.size(0)\n",
    "\n",
    "\ttrain_loss = running_loss / len(train_dataset)\n",
    "\n",
    "\t# Validation phase\n",
    "\tmodel.eval() \n",
    "\tval_loss = 0.0\n",
    "\twith torch.no_grad(): \n",
    "\t\tfor data_batch_val, _ in val_loader:\n",
    "\t\t\tdata_batch_val = data_batch_val.to(device)\n",
    "\t\t\toutputs_val = model(data_batch_val)\n",
    "\t\t\tloss_val = criterion(outputs_val, data_batch_val)\n",
    "\t\t\tval_loss += loss_val.item() * data_batch_val.size(0)\n",
    "\tval_loss = val_loss / len(val_dataset)\n",
    "\n",
    "\tdisplay(f'Epoch {epoch+1}/{epochs}, Train Loss: {train_loss:.4f}, Val Loss: {val_loss:.4f}')\n",
    "\n",
    "display(\"\\nTraining complete.\")"
   ]
  },
  {
   "cell_type": "markdown",
   "id": "b2e9b239",
   "metadata": {},
   "source": [
    "## Step 6: Anomaly Detection via Reconstruction Error\n",
    "\n",
    "After training, we use the Autoencoder to detect anomalies:  \n",
    "\n",
    "- For each review, compute **Reconstruction Error = ||x - x'||²**.  \n",
    "- Reviews with **high errors** are flagged as anomalies.  \n",
    "\n",
    "This works because:  \n",
    "- Normal reviews → follow learned patterns → low error.  \n",
    "- Spam reviews → deviate from patterns → high error.  \n",
    "\n",
    "We then export these anomaly scores for further fusion with the Isolation Forest results.\n"
   ]
  },
  {
   "cell_type": "code",
   "execution_count": 7,
   "id": "65bafc64",
   "metadata": {},
   "outputs": [
    {
     "data": {
      "text/plain": [
       "'\\nReconstruction errors calculated and z-scored.'"
      ]
     },
     "metadata": {},
     "output_type": "display_data"
    },
    {
     "data": {
      "text/plain": [
       "'First 10 reviews with their z-scored autoencoder reconstruction error:'"
      ]
     },
     "metadata": {},
     "output_type": "display_data"
    },
    {
     "data": {
      "text/html": [
       "<div>\n",
       "<style scoped>\n",
       "    .dataframe tbody tr th:only-of-type {\n",
       "        vertical-align: middle;\n",
       "    }\n",
       "\n",
       "    .dataframe tbody tr th {\n",
       "        vertical-align: top;\n",
       "    }\n",
       "\n",
       "    .dataframe thead th {\n",
       "        text-align: right;\n",
       "    }\n",
       "</style>\n",
       "<table border=\"1\" class=\"dataframe\">\n",
       "  <thead>\n",
       "    <tr style=\"text-align: right;\">\n",
       "      <th></th>\n",
       "      <th>ae_reconstruction_error_zscore</th>\n",
       "      <th>rating</th>\n",
       "      <th>text_len</th>\n",
       "      <th>rating_deviation</th>\n",
       "      <th>sentiment_polarity</th>\n",
       "      <th>sentiment_subjectivity</th>\n",
       "      <th>excessive_exclaim</th>\n",
       "      <th>avg_rating</th>\n",
       "      <th>log_num_reviews</th>\n",
       "      <th>price_encoded</th>\n",
       "      <th>...</th>\n",
       "      <th>cat_Coffee shop</th>\n",
       "      <th>cat_Department store</th>\n",
       "      <th>cat_Fast food restaurant</th>\n",
       "      <th>cat_Grocery store</th>\n",
       "      <th>cat_Hotel</th>\n",
       "      <th>cat_Mexican restaurant</th>\n",
       "      <th>cat_Other</th>\n",
       "      <th>cat_Pizza restaurant</th>\n",
       "      <th>cat_Restaurant</th>\n",
       "      <th>cat_Shopping mall</th>\n",
       "    </tr>\n",
       "  </thead>\n",
       "  <tbody>\n",
       "    <tr>\n",
       "      <th>0</th>\n",
       "      <td>-0.645158</td>\n",
       "      <td>5</td>\n",
       "      <td>37</td>\n",
       "      <td>0.4</td>\n",
       "      <td>0.800000</td>\n",
       "      <td>0.750000</td>\n",
       "      <td>False</td>\n",
       "      <td>4.6</td>\n",
       "      <td>4.290459</td>\n",
       "      <td>0</td>\n",
       "      <td>...</td>\n",
       "      <td>False</td>\n",
       "      <td>False</td>\n",
       "      <td>False</td>\n",
       "      <td>False</td>\n",
       "      <td>False</td>\n",
       "      <td>False</td>\n",
       "      <td>True</td>\n",
       "      <td>False</td>\n",
       "      <td>False</td>\n",
       "      <td>False</td>\n",
       "    </tr>\n",
       "    <tr>\n",
       "      <th>1</th>\n",
       "      <td>-0.555159</td>\n",
       "      <td>5</td>\n",
       "      <td>109</td>\n",
       "      <td>0.8</td>\n",
       "      <td>0.377778</td>\n",
       "      <td>0.644444</td>\n",
       "      <td>False</td>\n",
       "      <td>4.2</td>\n",
       "      <td>4.744932</td>\n",
       "      <td>0</td>\n",
       "      <td>...</td>\n",
       "      <td>False</td>\n",
       "      <td>False</td>\n",
       "      <td>False</td>\n",
       "      <td>False</td>\n",
       "      <td>False</td>\n",
       "      <td>False</td>\n",
       "      <td>True</td>\n",
       "      <td>False</td>\n",
       "      <td>False</td>\n",
       "      <td>False</td>\n",
       "    </tr>\n",
       "    <tr>\n",
       "      <th>2</th>\n",
       "      <td>-0.546985</td>\n",
       "      <td>4</td>\n",
       "      <td>71</td>\n",
       "      <td>0.1</td>\n",
       "      <td>0.600000</td>\n",
       "      <td>0.583333</td>\n",
       "      <td>False</td>\n",
       "      <td>3.9</td>\n",
       "      <td>6.475433</td>\n",
       "      <td>2</td>\n",
       "      <td>...</td>\n",
       "      <td>False</td>\n",
       "      <td>False</td>\n",
       "      <td>False</td>\n",
       "      <td>False</td>\n",
       "      <td>False</td>\n",
       "      <td>False</td>\n",
       "      <td>False</td>\n",
       "      <td>False</td>\n",
       "      <td>True</td>\n",
       "      <td>False</td>\n",
       "    </tr>\n",
       "    <tr>\n",
       "      <th>3</th>\n",
       "      <td>1.402167</td>\n",
       "      <td>3</td>\n",
       "      <td>55</td>\n",
       "      <td>-1.2</td>\n",
       "      <td>-0.250000</td>\n",
       "      <td>0.400000</td>\n",
       "      <td>False</td>\n",
       "      <td>4.2</td>\n",
       "      <td>4.836282</td>\n",
       "      <td>0</td>\n",
       "      <td>...</td>\n",
       "      <td>False</td>\n",
       "      <td>False</td>\n",
       "      <td>False</td>\n",
       "      <td>False</td>\n",
       "      <td>False</td>\n",
       "      <td>False</td>\n",
       "      <td>False</td>\n",
       "      <td>False</td>\n",
       "      <td>True</td>\n",
       "      <td>False</td>\n",
       "    </tr>\n",
       "    <tr>\n",
       "      <th>4</th>\n",
       "      <td>-0.792028</td>\n",
       "      <td>4</td>\n",
       "      <td>152</td>\n",
       "      <td>-0.1</td>\n",
       "      <td>0.241667</td>\n",
       "      <td>0.741667</td>\n",
       "      <td>False</td>\n",
       "      <td>4.1</td>\n",
       "      <td>5.342334</td>\n",
       "      <td>0</td>\n",
       "      <td>...</td>\n",
       "      <td>False</td>\n",
       "      <td>False</td>\n",
       "      <td>False</td>\n",
       "      <td>False</td>\n",
       "      <td>False</td>\n",
       "      <td>False</td>\n",
       "      <td>True</td>\n",
       "      <td>False</td>\n",
       "      <td>False</td>\n",
       "      <td>False</td>\n",
       "    </tr>\n",
       "    <tr>\n",
       "      <th>5</th>\n",
       "      <td>0.320852</td>\n",
       "      <td>5</td>\n",
       "      <td>123</td>\n",
       "      <td>0.8</td>\n",
       "      <td>0.250000</td>\n",
       "      <td>0.812500</td>\n",
       "      <td>False</td>\n",
       "      <td>4.2</td>\n",
       "      <td>5.796058</td>\n",
       "      <td>2</td>\n",
       "      <td>...</td>\n",
       "      <td>False</td>\n",
       "      <td>False</td>\n",
       "      <td>False</td>\n",
       "      <td>False</td>\n",
       "      <td>False</td>\n",
       "      <td>True</td>\n",
       "      <td>False</td>\n",
       "      <td>False</td>\n",
       "      <td>False</td>\n",
       "      <td>False</td>\n",
       "    </tr>\n",
       "    <tr>\n",
       "      <th>6</th>\n",
       "      <td>1.439897</td>\n",
       "      <td>1</td>\n",
       "      <td>64</td>\n",
       "      <td>-2.7</td>\n",
       "      <td>-1.000000</td>\n",
       "      <td>0.900000</td>\n",
       "      <td>False</td>\n",
       "      <td>3.7</td>\n",
       "      <td>6.577861</td>\n",
       "      <td>1</td>\n",
       "      <td>...</td>\n",
       "      <td>False</td>\n",
       "      <td>False</td>\n",
       "      <td>True</td>\n",
       "      <td>False</td>\n",
       "      <td>False</td>\n",
       "      <td>False</td>\n",
       "      <td>False</td>\n",
       "      <td>False</td>\n",
       "      <td>False</td>\n",
       "      <td>False</td>\n",
       "    </tr>\n",
       "    <tr>\n",
       "      <th>7</th>\n",
       "      <td>0.580241</td>\n",
       "      <td>5</td>\n",
       "      <td>27</td>\n",
       "      <td>0.3</td>\n",
       "      <td>1.000000</td>\n",
       "      <td>0.300000</td>\n",
       "      <td>False</td>\n",
       "      <td>4.7</td>\n",
       "      <td>6.023448</td>\n",
       "      <td>0</td>\n",
       "      <td>...</td>\n",
       "      <td>False</td>\n",
       "      <td>False</td>\n",
       "      <td>False</td>\n",
       "      <td>False</td>\n",
       "      <td>False</td>\n",
       "      <td>False</td>\n",
       "      <td>True</td>\n",
       "      <td>False</td>\n",
       "      <td>False</td>\n",
       "      <td>False</td>\n",
       "    </tr>\n",
       "    <tr>\n",
       "      <th>8</th>\n",
       "      <td>-0.432168</td>\n",
       "      <td>1</td>\n",
       "      <td>137</td>\n",
       "      <td>-3.5</td>\n",
       "      <td>0.300000</td>\n",
       "      <td>0.300000</td>\n",
       "      <td>False</td>\n",
       "      <td>4.5</td>\n",
       "      <td>4.934474</td>\n",
       "      <td>0</td>\n",
       "      <td>...</td>\n",
       "      <td>False</td>\n",
       "      <td>False</td>\n",
       "      <td>False</td>\n",
       "      <td>False</td>\n",
       "      <td>False</td>\n",
       "      <td>False</td>\n",
       "      <td>True</td>\n",
       "      <td>False</td>\n",
       "      <td>False</td>\n",
       "      <td>False</td>\n",
       "    </tr>\n",
       "    <tr>\n",
       "      <th>9</th>\n",
       "      <td>0.802829</td>\n",
       "      <td>5</td>\n",
       "      <td>432</td>\n",
       "      <td>0.3</td>\n",
       "      <td>0.137500</td>\n",
       "      <td>0.617361</td>\n",
       "      <td>False</td>\n",
       "      <td>4.7</td>\n",
       "      <td>6.306275</td>\n",
       "      <td>2</td>\n",
       "      <td>...</td>\n",
       "      <td>False</td>\n",
       "      <td>False</td>\n",
       "      <td>False</td>\n",
       "      <td>False</td>\n",
       "      <td>False</td>\n",
       "      <td>False</td>\n",
       "      <td>True</td>\n",
       "      <td>False</td>\n",
       "      <td>False</td>\n",
       "      <td>False</td>\n",
       "    </tr>\n",
       "  </tbody>\n",
       "</table>\n",
       "<p>10 rows × 25 columns</p>\n",
       "</div>"
      ],
      "text/plain": [
       "   ae_reconstruction_error_zscore  rating  text_len  rating_deviation  \\\n",
       "0                       -0.645158       5        37               0.4   \n",
       "1                       -0.555159       5       109               0.8   \n",
       "2                       -0.546985       4        71               0.1   \n",
       "3                        1.402167       3        55              -1.2   \n",
       "4                       -0.792028       4       152              -0.1   \n",
       "5                        0.320852       5       123               0.8   \n",
       "6                        1.439897       1        64              -2.7   \n",
       "7                        0.580241       5        27               0.3   \n",
       "8                       -0.432168       1       137              -3.5   \n",
       "9                        0.802829       5       432               0.3   \n",
       "\n",
       "   sentiment_polarity  sentiment_subjectivity  excessive_exclaim  avg_rating  \\\n",
       "0            0.800000                0.750000              False         4.6   \n",
       "1            0.377778                0.644444              False         4.2   \n",
       "2            0.600000                0.583333              False         3.9   \n",
       "3           -0.250000                0.400000              False         4.2   \n",
       "4            0.241667                0.741667              False         4.1   \n",
       "5            0.250000                0.812500              False         4.2   \n",
       "6           -1.000000                0.900000              False         3.7   \n",
       "7            1.000000                0.300000              False         4.7   \n",
       "8            0.300000                0.300000              False         4.5   \n",
       "9            0.137500                0.617361              False         4.7   \n",
       "\n",
       "   log_num_reviews  price_encoded  ...  cat_Coffee shop  cat_Department store  \\\n",
       "0         4.290459              0  ...            False                 False   \n",
       "1         4.744932              0  ...            False                 False   \n",
       "2         6.475433              2  ...            False                 False   \n",
       "3         4.836282              0  ...            False                 False   \n",
       "4         5.342334              0  ...            False                 False   \n",
       "5         5.796058              2  ...            False                 False   \n",
       "6         6.577861              1  ...            False                 False   \n",
       "7         6.023448              0  ...            False                 False   \n",
       "8         4.934474              0  ...            False                 False   \n",
       "9         6.306275              2  ...            False                 False   \n",
       "\n",
       "   cat_Fast food restaurant  cat_Grocery store  cat_Hotel  \\\n",
       "0                     False              False      False   \n",
       "1                     False              False      False   \n",
       "2                     False              False      False   \n",
       "3                     False              False      False   \n",
       "4                     False              False      False   \n",
       "5                     False              False      False   \n",
       "6                      True              False      False   \n",
       "7                     False              False      False   \n",
       "8                     False              False      False   \n",
       "9                     False              False      False   \n",
       "\n",
       "   cat_Mexican restaurant  cat_Other  cat_Pizza restaurant  cat_Restaurant  \\\n",
       "0                   False       True                 False           False   \n",
       "1                   False       True                 False           False   \n",
       "2                   False      False                 False            True   \n",
       "3                   False      False                 False            True   \n",
       "4                   False       True                 False           False   \n",
       "5                    True      False                 False           False   \n",
       "6                   False      False                 False           False   \n",
       "7                   False       True                 False           False   \n",
       "8                   False       True                 False           False   \n",
       "9                   False       True                 False           False   \n",
       "\n",
       "   cat_Shopping mall  \n",
       "0              False  \n",
       "1              False  \n",
       "2              False  \n",
       "3              False  \n",
       "4              False  \n",
       "5              False  \n",
       "6              False  \n",
       "7              False  \n",
       "8              False  \n",
       "9              False  \n",
       "\n",
       "[10 rows x 25 columns]"
      ]
     },
     "metadata": {},
     "output_type": "display_data"
    },
    {
     "name": "stdout",
     "output_type": "stream",
     "text": [
      "is_outlier\n",
      " 1    25571\n",
      "-1     1051\n",
      "Name: count, dtype: int64\n"
     ]
    },
    {
     "data": {
      "text/plain": [
       "'\\nNumber of potential anomalies (z-score > 2.0): 1051'"
      ]
     },
     "metadata": {},
     "output_type": "display_data"
    },
    {
     "name": "stdout",
     "output_type": "stream",
     "text": [
      "\n",
      "Displaying the top 20 anomalies with all their features (sorted by anomaly score):\n",
      "                     user_id   name_review_user           time  rating                                                                                                                                                   text                                gmap_id   latitude   longitude                                                                                                                                               category  avg_rating  num_of_reviews price                       state                   category_main  cat_American restaurant  cat_Coffee shop  cat_Department store  cat_Fast food restaurant  cat_Grocery store  cat_Hotel  cat_Mexican restaurant  cat_Other  cat_Pizza restaurant  cat_Restaurant  cat_Shopping mall  price_encoded  year  month  weekday  hour  text_len  log_num_reviews  rating_deviation  sentiment_polarity  sentiment_subjectivity  excessive_exclaim  ae_reconstruction_error_zscore  is_outlier\n",
      "15796  112953574838647194210        Anas gaming  1499536357922       1  BEFORE WINTER I brought my boyfriend's car there to have it looked at we were losing power in the engine it was sluggish. They told me ok that sou...  0x4cca7baf24b846d9:0xcfbb2c8b1a2b419f  44.459030  -73.212837                                                                                                                                     [Auto repair shop]         4.7              45  None      Closed ⋅ Opens 7AM Mon                Auto repair shop                    False            False                 False                     False              False      False                   False       True                 False           False              False              0  2017      7        5    17      4051         3.828641              -3.7            0.122066                0.401809              False                       20.577162          -1\n",
      "7732   100650161851464334676         fellsteruk  1506463475674       5  A must for any air or space fan, less to see than I thought would be “looked bigger in movies” but well worth a trip don’t expect to spend too muc...  0x89b7b7837b262421:0xf8e7c937dd8ce81b  38.888160  -77.019868                                                                                                  [National museum, Science museum, Tourist attraction]         4.7            9998  None          Temporarily closed                 National museum                    False            False                 False                     False              False      False                   False       True                 False           False              False              0  2017      9        1    22       195         9.210240               0.3            0.155404                0.216667               True                       19.810617          -1\n",
      "4450   111410551195893575462  Mr. Squid Vicious  1570067065331       5  There we were, door handle deep in swamp water, praying that our friend David's 1998 Land Rover would make it. We had been driving for 67 minutes ...  0x89c764b0e8a354c7:0x25d302964b8a3582  39.168429  -75.518162                                                                                                                      [Car wash, Car detailing service]         4.0             266  None                        None                        Car wash                    False            False                 False                     False              False      False                   False       True                 False           False              False              0  2019     10        3     1      3680         5.587249               1.0            0.111284                0.499504              False                       16.478733          -1\n",
      "14240  105572310217259146169     Vicki Willette  1599820040518       1  I brought our 15 month old  kitty in to Bev's per the recommendation of our Vet for sever constipation. Our Vet had recommended a manual manipulat...  0x4cca790048146327:0xe1d53e75b51bde5e  44.450936  -73.135896                                                                    [Emergency veterinarian service, Animal hospital, Internist, Surgeon, Veterinarian]         3.3             135  None               Open 24 hours  Emergency veterinarian service                    False            False                 False                     False              False      False                   False       True                 False           False              False              0  2020      9        4    10      3318         4.912655              -2.3            0.082272                0.447497              False                       14.121981          -1\n",
      "637    102656145998835130709      Jennie Louwes  1532240437771       5  Out of all of the grocery stores in Juneau, I choose to shop at Safeway. It's my favorite. From the angled, easy parking for your vehicle outside,...   0x54011e1cd5d96e33:0x7305e5f3711fae3  58.370952 -134.595727                                                                                                              [Grocery store, Grocery delivery service]         4.0             516    $$          Open ⋅ Closes 12AM                   Grocery store                    False            False                 False                     False               True      False                   False      False                 False           False              False              2  2018      7        6     6      2755         6.248043               1.0            0.194948                0.462037               True                       13.451149          -1\n",
      "1211   112020337870734683602    Aaron Nicholson  1580016191610       5                                                                                                                    Go here, you won't be disappointed!  0x56c897dbdc7efa33:0x8ccaf4b10d744ba3  61.195957 -149.907039                                                 [Pizza restaurant, Bar, Burrito restaurant, Movie theater, Pizza Takeout, Restaurant, Taco restaurant]         4.6            2345    $$                        None                Pizza restaurant                    False            False                 False                     False              False      False                   False      False                  True           False              False              2  2020      1        6     5        35         7.760467               0.4           -0.937500                0.750000              False                       13.259337          -1\n",
      "783    111457712265234071422           Bob Mill  1478648201291       5                                                                                                                                        Chicken! Yum!!!  0x56c8963ac42857b7:0xbd06ac316a12f454  61.217857 -149.863398                                                                                                 [Chicken restaurant, Hamburger restaurant, Restaurant]         4.5            1353    $$                        None              Chicken restaurant                    False            False                 False                     False              False      False                   False       True                 False           False              False              2  2016     11        1    23        15         7.210818               0.5           -1.000000                0.950000               True                       13.027459          -1\n",
      "14144  104398868457699498553          Chip Hart  1571447993307       5                                                                                                                              Insane ice cream flavors.  0x4cca7a94d1c10075:0x50233a12c6efebfe  44.487825  -73.225317                                                                                                                                          [Coffee shop]         4.5             165    $$          Closed ⋅ Opens 8AM                     Coffee shop                    False             True                 False                     False              False      False                   False      False                 False           False              False              2  2019     10        5     1        25         5.111988               0.5           -1.000000                1.000000              False                       12.879009          -1\n",
      "7119   105353190454733623308        Ian Hickman  1616446674797       4  As you walk into the Block DC PogiBoy is directly in front of you, its open arms and all. And if the illuminated menu didn’t signal to you (SARAP!...  0x89b7b7338eef0563:0xa546d50e888c2c53  38.903981  -77.033169                                                                                                                                  [Filipino restaurant]         4.7              38  None      Closed ⋅ Opens 1PM Wed             Filipino restaurant                    False            False                 False                     False              False      False                   False       True                 False           False              False              0  2021      3        0    20      3176         3.663562              -0.7            0.072643                0.511381              False                       12.671334          -1\n",
      "3078   118019769271467631807      Chris Raymond  1194647414429       5          Best veal dinner I've had in Delaware, everything else is real good too. Friendly staff, good prices, fast service. Overall great experience.  0x89c701c4537798ed:0xaf4a61fedfa8cc7e  39.728507  -75.653616                                                                                                     [Italian restaurant, Pizza restaurant, Restaurant]         4.5             688    $$      Closed ⋅ Opens 10:30AM              Italian restaurant                    False            False                 False                     False              False      False                   False       True                 False           False              False              2  2007     11        4    22       141         6.535241               0.5            0.582143                0.521429              False                       11.924299          -1\n",
      "5275   103011634905452709786      Derrick Davis  1580274107806       4                                                                                  CHICKEN WINGS !! CHICKEN WINGS!!! CHICKEN WINGS!!! GARLIC AND PARM!!!  0x89c6e2d1d88537c1:0x60622f3f88486bfe  39.753409  -75.520036                                                                                                                                                  [Bar]         4.2             164     $           Open ⋅ Closes 1AM                             Bar                    False            False                 False                     False              False      False                   False       True                 False           False              False              1  2020      1        2     5        69         5.105945              -0.2           -0.979167                0.950000               True                       11.907567          -1\n",
      "19706  111532410796864313594      Ashley Nazare  1507621753230       1           THIS IS THE WORST RESTAURANT I HAVE EVER BEEN TOO! DO NOT EAT HERE! THEY HAVE BUGS AND RATS! THEY ALSO HAVE TERRIBLE AWFUL CUSTOMER SERVICE!   0x89e445abd55e0adb:0x1d824ab206b5e51  41.837568  -71.432985                                                                                            [Pizza restaurant, Italian restaurant, Delivery Restaurant]         3.2             308    $$           Open ⋅ Closes 4AM                Pizza restaurant                    False            False                 False                     False              False      False                   False      False                  True           False              False              2  2017     10        1     7       140         5.733341              -2.2           -1.000000                1.000000               True                       11.681369          -1\n",
      "15207  103425541503453131018       Zach Bossier  1574189884447       5                                                                                                                           Greatest burritos ever!!!!!!  0x4cb59f170d6ab6b5:0x124e56704a407b33  44.337463  -72.754653                                                                                                                                   [Mexican restaurant]         4.5              54  None  Closed ⋅ Opens 11:30AM Mon              Mexican restaurant                    False            False                 False                     False              False      False                    True      False                 False           False              False              0  2019     11        1    18        28         4.007333               0.5            1.000000                1.000000               True                       11.427859          -1\n",
      "16537  101057488576508631260        Matt Plante  1557202960978       5                                                                                                                        This place Has horrible service  0x876f3baa14d2ba51:0x2ae4fed94faec54f  41.159724 -104.794425                                     [Seafood restaurant, American restaurant, Angler fish restaurant, Bar, Crab house, Event venue, Family restaurant]         4.0            1044    $$      Closed ⋅ Opens 11:30AM              Seafood restaurant                    False            False                 False                     False              False      False                   False       True                 False           False              False              2  2019      5        1     4        31         6.951772               1.0           -1.000000                1.000000              False                       11.133864          -1\n",
      "14164  109313000459856805507       Shain Quartz  1557243529396       5                                                                                                                                The ribs are outrageous  0x4cca7a326ba0d6fd:0x692e16c09dbd8e18  44.464533  -73.179822                    [Steak house, American restaurant, Australian restaurant, Bar, Bar & grill, Gluten-free restaurant, Takeout Restaurant, Restaurant]         4.0             788    $$          Permanently closed                     Steak house                    False            False                 False                     False              False      False                   False       True                 False           False              False              2  2019      5        1    15        23         6.670766               1.0           -1.000000                1.000000              False                       10.847554          -1\n",
      "7610   104078896205481303832       Adrian Henry  1518961685694       2                                                                                                    Food options are limited need more vegan foods !!!!  0x89b7c7d1093102cb:0xb72575867849d00c  38.958029  -77.002412  [Department store, Clothing store, Craft store, Discount store, Electronics store, Grocery store, Home goods store, Sporting goods store, Supermar...         4.1            4902     $                        None                Department store                    False            False                  True                     False              False      False                   False      False                 False           False              False              1  2018      2        6    13        51         8.497603              -2.1            0.464286                0.321429               True                       10.651899          -1\n",
      "15301  109677044229903550315           Tracy F.  1234016081811       3  Cheese Traders has changed ownership. I miss the real deals on wine. Like bottles of Penguin for $1.99 each. Cheese prices are still low and the s...  0x4cca7a3031081881:0xe3cb207fc7a7bddf  44.468895  -73.176283                                                                                               [Cheese shop, Discount store, Grocery store, Wine store]         4.7             578  None     Closed ⋅ Opens 10AM Tue                     Cheese shop                    False            False                 False                     False              False      False                   False       True                 False           False              False              0  2009      2        5    14       446         6.361302              -1.7            0.212338                0.368506              False                       10.586613          -1\n",
      "7432   103012846675996671521         True Story  1615811888668       5                                                                                 Take em down Rhode Island Avenue Parking Lot....... Do em Dirty!!!!!!!  0x89b7b80bd283ca23:0xc9d3225c02b8999d  38.919442  -76.992261                                                                                                                                        [Grocery store]         4.1            1484    $$                        None                   Grocery store                    False            False                 False                     False               True      False                   False      False                 False           False              False              2  2021      3        0    12        70         7.303170               0.9           -0.577778                0.544444               True                       10.542306          -1\n",
      "2310   103460731318970844630  Laurita Cottonham  1480504388628       5  Great atmosphere! The waitress and chef were had pleasant personalities! The chef came out and made a suggestion on a special dish and it was the ...  0x56b6468d138df603:0xccf367d32bdaa670  61.128779 -146.357882                                                                                                                                   [Mexican restaurant]         4.1              33    $$          Permanently closed              Mexican restaurant                    False            False                 False                     False              False      False                    True      False                 False           False              False              2  2016     11        2    11       215         3.526361               0.9            0.818452                0.647024               True                       10.309774          -1\n",
      "17092  112229682178834968058  Travis Wroblewski  1508125885311       3                                                                                                            The lines at this place are always horrible  0x8768901fd0c25a8b:0x3e0441684a04e609  41.317009 -105.594907                                                                                                              [Grocery store, Grocery delivery service]         4.1             768    $$          Closed ⋅ Opens 6AM                   Grocery store                    False            False                 False                     False               True      False                   False      False                 False           False              False              2  2017     10        0     3        43         6.645091              -1.1           -1.000000                1.000000              False                       10.049415          -1\n"
     ]
    }
   ],
   "source": [
    "# Calculate Reconstruction Error (PyTorch) \n",
    "model.eval() \n",
    "all_reconstructions = []\n",
    "with torch.no_grad():\n",
    "\tfor i in range(0, len(scaled_data_tensor), batch_size):\n",
    "\t\tbatch = scaled_data_tensor[i:i + batch_size].to(device)\n",
    "\t\treconstructed_batch = model(batch)\n",
    "\t\tall_reconstructions.append(reconstructed_batch.cpu().numpy())\n",
    "\n",
    "reconstructions_np = np.vstack(all_reconstructions)\n",
    "\n",
    "# Calculate Mean Squared Error (MSE) between original and reconstructed data\n",
    "reconstruction_errors = np.mean(np.square(scaled_data_np - reconstructions_np), axis=1)\n",
    "\n",
    "# Z-scoring the Reconstruction Error\n",
    "z_scored_reconstruction_errors = zscore(reconstruction_errors)\n",
    "\n",
    "# Add the z-scored errors to the original dataframe\n",
    "df['ae_reconstruction_error_zscore'] = z_scored_reconstruction_errors\n",
    "\n",
    "display(\"\\nReconstruction errors calculated and z-scored.\")\n",
    "display(\"First 10 reviews with their z-scored autoencoder reconstruction error:\")\n",
    "display(df[['ae_reconstruction_error_zscore'] + features].head(10))\n",
    "\n",
    "# Identify potential anomalies\n",
    "threshold = 2.0\n",
    "\n",
    "# Add binary \"is_outlier\" column (1 if anomaly, 0 if normal)\n",
    "df['is_outlier'] = np.where(\n",
    "    df['ae_reconstruction_error_zscore'] > threshold,\n",
    "    -1,   # outlier\n",
    "    1     # normal\n",
    ")\n",
    "print(df['is_outlier'].value_counts())\n",
    "\n",
    "anomalies = df[df['ae_reconstruction_error_zscore'] > threshold]\n",
    "display(f\"\\nNumber of potential anomalies (z-score > {threshold}): {len(anomalies)}\")\n",
    "\n",
    "# Display more anomalies and all of their original features (For viewing purposes)\n",
    "if not anomalies.empty:\n",
    "\tprint(\"\\nDisplaying the top 20 anomalies with all their features (sorted by anomaly score):\")\n",
    "\n",
    "\tpd.set_option('display.max_rows', 50)       \n",
    "\tpd.set_option('display.max_columns', None)   \n",
    "\tpd.set_option('display.width', 1000)          \n",
    "\tpd.set_option('display.max_colwidth', 150)    \n",
    "\n",
    "\t# Sort by the anomaly score to see the most anomalous first and show the top 20\n",
    "\tprint(anomalies.sort_values(by='ae_reconstruction_error_zscore', ascending=False).head(20))\n",
    "\n",
    "else:\n",
    "\tprint(\"\\nNo anomalies detected above the specified threshold.\")"
   ]
  },
  {
   "cell_type": "markdown",
   "id": "149ddd35",
   "metadata": {},
   "source": [
    "## Investigating the Latent Space"
   ]
  },
  {
   "cell_type": "markdown",
   "id": "45ede0c3",
   "metadata": {},
   "source": [
    "To better understand what the autoencoder has learned, we can inspect the latent space. \n",
    "\n",
    "Extract the encoded representation for each data point and create a new dataframe.\n",
    "\n",
    "Then, calculate the correlation between these latent dimensions and the original features. This helped us interpret which original features are most strongly represented in the compressed dimensions of the latent space."
   ]
  },
  {
   "cell_type": "code",
   "execution_count": 8,
   "id": "73148b42",
   "metadata": {},
   "outputs": [
    {
     "name": "stdout",
     "output_type": "stream",
     "text": [
      "\n",
      "--- Investigating the Latent Space ---\n",
      "\n",
      "Correlation of Latent Dimensions with Original Features:\n",
      "                          latent_dim_1  latent_dim_2  latent_dim_3  latent_dim_4  latent_dim_5  latent_dim_6  latent_dim_7  latent_dim_8  latent_dim_9  latent_dim_10\n",
      "rating                        0.372923      0.187702     -0.297791      0.117751      0.224018     -0.179248      0.175195      0.002575     -0.047572      -0.198805\n",
      "text_len                     -0.104157     -0.076832      0.115159     -0.081641     -0.041449      0.055121     -0.065347     -0.057584     -0.048256      -0.048435\n",
      "rating_deviation              0.196693      0.269110     -0.264249      0.202052      0.055322     -0.049547      0.121217      0.073065     -0.012800      -0.199439\n",
      "sentiment_polarity            0.351058      0.232133     -0.147438      0.093723      0.310283     -0.181689      0.284062      0.178351      0.075999       0.071297\n",
      "sentiment_subjectivity        0.067063      0.266110      0.073971      0.031993      0.224285     -0.029506      0.224461      0.288010      0.168856       0.130594\n",
      "excessive_exclaim            -0.273004      0.088236      0.445425     -0.107018     -0.067977      0.327392     -0.085147     -0.036669     -0.144564      -0.282587\n",
      "avg_rating                    0.533715     -0.186828     -0.139210     -0.206177      0.488838     -0.377008      0.173588     -0.188309     -0.100992      -0.031283\n",
      "log_num_reviews               0.015853      0.250122     -0.671535      0.370094     -0.135978     -0.097142      0.173181      0.371310      0.278364       0.470087\n",
      "price_encoded                -0.169722      0.258497     -0.321020      0.214789     -0.187995     -0.006135      0.249897      0.370029     -0.118566       0.449065\n",
      "year                          0.103387     -0.005226     -0.063060     -0.006123      0.005215     -0.031112      0.048478      0.080028      0.019140      -0.051865\n",
      "month                        -0.134897      0.144208      0.188382      0.107048      0.130608      0.035851     -0.107962     -0.249562      0.013053       0.260926\n",
      "weekday                       0.073930      0.054519     -0.107241     -0.130675     -0.080358      0.016833     -0.501549      0.041818     -0.103467       0.010576\n",
      "hour                          0.046858      0.118709     -0.069558     -0.163464     -0.116667      0.082335      0.273598     -0.187008      0.049932       0.130197\n",
      "cat_American restaurant      -0.161881      0.247428     -0.118216      0.234610     -0.184578      0.079564      0.118566      0.237082      0.126194       0.220802\n",
      "cat_Coffee shop              -0.058745      0.079237     -0.017755      0.034141     -0.017464      0.019547      0.117886      0.048742     -0.010885       0.067243\n",
      "cat_Department store         -0.195446      0.163824      0.029518      0.125675     -0.181927     -0.004567      0.399523      0.256743     -0.323977       0.437394\n",
      "cat_Fast food restaurant     -0.497503      0.487538     -0.029188      0.560242     -0.573979      0.495812     -0.297622      0.452985      0.571827       0.118752\n",
      "cat_Grocery store            -0.188392      0.257615     -0.290574      0.302764     -0.253887      0.142172     -0.049572      0.186557      0.348272       0.061714\n",
      "cat_Hotel                    -0.047671      0.061557     -0.055285      0.089991     -0.035663      0.073369     -0.022982     -0.010074      0.244323      -0.106108\n",
      "cat_Mexican restaurant       -0.077028      0.136286      0.135458      0.067232     -0.043091     -0.049531      0.456558      0.192113     -0.317948       0.373923\n",
      "cat_Other                     0.710095     -0.802400      0.132602     -0.815744      0.781934     -0.502406     -0.182785     -0.749644     -0.494408      -0.523377\n",
      "cat_Pizza restaurant         -0.081987      0.142018     -0.005047      0.126399     -0.078121      0.034396      0.134905      0.135696      0.038202       0.137637\n",
      "cat_Restaurant               -0.392824      0.393215      0.060685      0.372910     -0.435031      0.294957     -0.052216      0.382941      0.185095       0.205313\n",
      "cat_Shopping mall             0.088083     -0.111336     -0.047726     -0.044312      0.048580     -0.003991     -0.145661     -0.159214      0.193522      -0.215486\n",
      "\n",
      "Standard Deviation of each Latent Dimension:\n",
      "latent_dim_1     2.803500\n",
      "latent_dim_2     3.028506\n",
      "latent_dim_3     0.022946\n",
      "latent_dim_4     2.592226\n",
      "latent_dim_5     4.197606\n",
      "latent_dim_6     0.045187\n",
      "latent_dim_7     1.390992\n",
      "latent_dim_8     2.245318\n",
      "latent_dim_9     2.307096\n",
      "latent_dim_10    1.707054\n",
      "dtype: float32\n"
     ]
    }
   ],
   "source": [
    "# Investigating the Latent Space\n",
    "print(\"\\n--- Investigating the Latent Space ---\")\n",
    "\n",
    "model.eval()\n",
    "with torch.no_grad():\n",
    "\tencoded_data_tensor = model.encoder(scaled_data_tensor.to(device))\n",
    "\tencoded_data_np = encoded_data_tensor.cpu().numpy()\n",
    "\n",
    "# Create a DataFrame for the encoded dimensions\n",
    "encoded_df = pd.DataFrame(encoded_data_np, columns=[f'latent_dim_{i+1}' for i in range(encoding_dim)])\n",
    "\n",
    "# Combine with the original (unscaled) features to make interpretation easier\n",
    "combined_df = pd.concat([df[features].reset_index(drop=True), encoded_df], axis=1)\n",
    "\n",
    "# Calculate the correlation matrix\n",
    "correlation_matrix = combined_df.corr()\n",
    "\n",
    "# Get the correlation of each latent dimension with the original features\n",
    "latent_correlations = correlation_matrix[encoded_df.columns].loc[features]\n",
    "\n",
    "print(\"\\nCorrelation of Latent Dimensions with Original Features:\")\n",
    "print(latent_correlations)\n",
    "print(\"\\nStandard Deviation of each Latent Dimension:\")\n",
    "print(encoded_df.std())\n",
    "\n",
    "df.to_parquet('AE_final_dataset_with_scores.parquet')\n",
    "df.to_csv('AE_final_dataset_with_scores.csv', index=False)"
   ]
  },
  {
   "cell_type": "code",
   "execution_count": 9,
   "id": "e4b94bd5",
   "metadata": {},
   "outputs": [
    {
     "name": "stdout",
     "output_type": "stream",
     "text": [
      "<class 'pandas.core.frame.DataFrame'>\n",
      "RangeIndex: 26622 entries, 0 to 26621\n",
      "Data columns (total 38 columns):\n",
      " #   Column                          Non-Null Count  Dtype  \n",
      "---  ------                          --------------  -----  \n",
      " 0   user_id                         26622 non-null  object \n",
      " 1   name_review_user                26622 non-null  object \n",
      " 2   time                            26622 non-null  int64  \n",
      " 3   rating                          26622 non-null  int64  \n",
      " 4   text                            26622 non-null  object \n",
      " 5   gmap_id                         26622 non-null  object \n",
      " 6   latitude                        26622 non-null  float64\n",
      " 7   longitude                       26622 non-null  float64\n",
      " 8   category                        26616 non-null  object \n",
      " 9   avg_rating                      26622 non-null  float64\n",
      " 10  num_of_reviews                  26622 non-null  int64  \n",
      " 11  price                           14747 non-null  object \n",
      " 12  state                           15483 non-null  object \n",
      " 13  category_main                   26622 non-null  object \n",
      " 14  cat_American restaurant         26622 non-null  bool   \n",
      " 15  cat_Coffee shop                 26622 non-null  bool   \n",
      " 16  cat_Department store            26622 non-null  bool   \n",
      " 17  cat_Fast food restaurant        26622 non-null  bool   \n",
      " 18  cat_Grocery store               26622 non-null  bool   \n",
      " 19  cat_Hotel                       26622 non-null  bool   \n",
      " 20  cat_Mexican restaurant          26622 non-null  bool   \n",
      " 21  cat_Other                       26622 non-null  bool   \n",
      " 22  cat_Pizza restaurant            26622 non-null  bool   \n",
      " 23  cat_Restaurant                  26622 non-null  bool   \n",
      " 24  cat_Shopping mall               26622 non-null  bool   \n",
      " 25  price_encoded                   26622 non-null  int64  \n",
      " 26  year                            26622 non-null  int32  \n",
      " 27  month                           26622 non-null  int32  \n",
      " 28  weekday                         26622 non-null  int32  \n",
      " 29  hour                            26622 non-null  int32  \n",
      " 30  text_len                        26622 non-null  int64  \n",
      " 31  log_num_reviews                 26622 non-null  float64\n",
      " 32  rating_deviation                26622 non-null  float64\n",
      " 33  sentiment_polarity              26622 non-null  float64\n",
      " 34  sentiment_subjectivity          26622 non-null  float64\n",
      " 35  excessive_exclaim               26622 non-null  bool   \n",
      " 36  ae_reconstruction_error_zscore  26622 non-null  float64\n",
      " 37  is_outlier                      26622 non-null  int64  \n",
      "dtypes: bool(12), float64(8), int32(4), int64(6), object(8)\n",
      "memory usage: 5.2+ MB\n",
      "None\n"
     ]
    }
   ],
   "source": [
    "print(df.info())"
   ]
  }
 ],
 "metadata": {
  "kernelspec": {
   "display_name": "myenv",
   "language": "python",
   "name": "python3"
  },
  "language_info": {
   "codemirror_mode": {
    "name": "ipython",
    "version": 3
   },
   "file_extension": ".py",
   "mimetype": "text/x-python",
   "name": "python",
   "nbconvert_exporter": "python",
   "pygments_lexer": "ipython3",
   "version": "3.13.2"
  }
 },
 "nbformat": 4,
 "nbformat_minor": 5
}
